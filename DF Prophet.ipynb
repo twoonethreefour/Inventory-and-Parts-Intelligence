{
 "cells": [
  {
   "cell_type": "code",
   "execution_count": 0,
   "metadata": {
    "application/vnd.databricks.v1+cell": {
     "cellMetadata": {},
     "inputWidgets": {},
     "nuid": "db404fde-93be-4433-9dff-7d1a5fccac0e",
     "showTitle": false,
     "title": ""
    }
   },
   "outputs": [],
   "source": [
    "dbfs:/FileStore/shared_uploads/podurikarthikeya69@gmail.com/df_prophet.csv"
   ]
  },
  {
   "cell_type": "code",
   "execution_count": 0,
   "metadata": {
    "application/vnd.databricks.v1+cell": {
     "cellMetadata": {
      "byteLimit": 2048000,
      "rowLimit": 10000
     },
     "inputWidgets": {},
     "nuid": "0d54f23c-a945-4b2a-95a0-fae045bd4f03",
     "showTitle": false,
     "title": ""
    }
   },
   "outputs": [
    {
     "output_type": "stream",
     "name": "stdout",
     "output_type": "stream",
     "text": [
      "Collecting mlflow\r\n  Using cached mlflow-2.16.2-py3-none-any.whl (26.7 MB)\r\nCollecting sqlalchemy<3,>=1.4.0\r\n  Using cached SQLAlchemy-2.0.35-cp39-cp39-manylinux_2_17_x86_64.manylinux2014_x86_64.whl (3.1 MB)\r\nRequirement already satisfied: pyarrow<18,>=4.0.0 in /databricks/python3/lib/python3.9/site-packages (from mlflow) (7.0.0)\r\nCollecting graphene<4\r\n  Using cached graphene-3.3-py2.py3-none-any.whl (128 kB)\r\nRequirement already satisfied: scipy<2 in /databricks/python3/lib/python3.9/site-packages (from mlflow) (1.7.3)\r\nCollecting docker<8,>=4.0.0\r\n  Using cached docker-7.1.0-py3-none-any.whl (147 kB)\r\nRequirement already satisfied: numpy<3 in /databricks/python3/lib/python3.9/site-packages (from mlflow) (1.21.5)\r\nCollecting Flask<4\r\n  Using cached flask-3.0.3-py3-none-any.whl (101 kB)\r\nRequirement already satisfied: scikit-learn<2 in /databricks/python3/lib/python3.9/site-packages (from mlflow) (1.0.2)\r\nCollecting gunicorn<24\r\n  Using cached gunicorn-23.0.0-py3-none-any.whl (85 kB)\r\nCollecting markdown<4,>=3.3\r\n  Using cached Markdown-3.7-py3-none-any.whl (106 kB)\r\nRequirement already satisfied: pandas<3 in /databricks/python3/lib/python3.9/site-packages (from mlflow) (1.4.2)\r\nCollecting alembic!=1.10.0,<2\r\n  Using cached alembic-1.13.3-py3-none-any.whl (233 kB)\r\nCollecting mlflow-skinny==2.16.2\r\n  Using cached mlflow_skinny-2.16.2-py3-none-any.whl (5.6 MB)\r\nRequirement already satisfied: matplotlib<4 in /databricks/python3/lib/python3.9/site-packages (from mlflow) (3.5.1)\r\nRequirement already satisfied: Jinja2<4,>=2.11 in /databricks/python3/lib/python3.9/site-packages (from mlflow) (2.11.3)\r\nCollecting sqlparse<1,>=0.4.0\r\n  Using cached sqlparse-0.5.1-py3-none-any.whl (44 kB)\r\nRequirement already satisfied: requests<3,>=2.17.3 in /databricks/python3/lib/python3.9/site-packages (from mlflow-skinny==2.16.2->mlflow) (2.27.1)\r\nCollecting opentelemetry-api<3,>=1.9.0\r\n  Using cached opentelemetry_api-1.27.0-py3-none-any.whl (63 kB)\r\nRequirement already satisfied: click<9,>=7.0 in /databricks/python3/lib/python3.9/site-packages (from mlflow-skinny==2.16.2->mlflow) (8.0.4)\r\nCollecting opentelemetry-sdk<3,>=1.9.0\r\n  Using cached opentelemetry_sdk-1.27.0-py3-none-any.whl (110 kB)\r\nRequirement already satisfied: protobuf<6,>=3.12.0 in /databricks/python3/lib/python3.9/site-packages (from mlflow-skinny==2.16.2->mlflow) (3.19.4)\r\nCollecting cloudpickle<4\r\n  Using cached cloudpickle-3.0.0-py3-none-any.whl (20 kB)\r\nCollecting importlib-metadata!=4.7.0,<9,>=3.7.0\r\n  Using cached importlib_metadata-8.5.0-py3-none-any.whl (26 kB)\r\nCollecting pyyaml<7,>=5.1\r\n  Using cached PyYAML-6.0.2-cp39-cp39-manylinux_2_17_x86_64.manylinux2014_x86_64.whl (737 kB)\r\nCollecting gitpython<4,>=3.1.9\r\n  Using cached GitPython-3.1.43-py3-none-any.whl (207 kB)\r\nCollecting cachetools<6,>=5.0.0\r\n  Using cached cachetools-5.5.0-py3-none-any.whl (9.5 kB)\r\nRequirement already satisfied: packaging<25 in /databricks/python3/lib/python3.9/site-packages (from mlflow-skinny==2.16.2->mlflow) (21.3)\r\nCollecting databricks-sdk<1,>=0.20.0\r\n  Using cached databricks_sdk-0.34.0-py3-none-any.whl (565 kB)\r\nRequirement already satisfied: typing-extensions>=4 in /databricks/python3/lib/python3.9/site-packages (from alembic!=1.10.0,<2->mlflow) (4.1.1)\r\nCollecting Mako\r\n  Using cached Mako-1.3.5-py3-none-any.whl (78 kB)\r\nCollecting google-auth~=2.0\r\n  Using cached google_auth-2.35.0-py2.py3-none-any.whl (208 kB)\r\nCollecting requests<3,>=2.17.3\r\n  Using cached requests-2.32.3-py3-none-any.whl (64 kB)\r\nRequirement already satisfied: urllib3>=1.26.0 in /databricks/python3/lib/python3.9/site-packages (from docker<8,>=4.0.0->mlflow) (1.26.9)\r\nCollecting blinker>=1.6.2\r\n  Using cached blinker-1.8.2-py3-none-any.whl (9.5 kB)\r\nCollecting Jinja2<4,>=2.11\r\n  Using cached jinja2-3.1.4-py3-none-any.whl (133 kB)\r\nCollecting Werkzeug>=3.0.0\r\n  Using cached werkzeug-3.0.4-py3-none-any.whl (227 kB)\r\nCollecting itsdangerous>=2.1.2\r\n  Using cached itsdangerous-2.2.0-py3-none-any.whl (16 kB)\r\nCollecting click<9,>=7.0\r\n  Using cached click-8.1.7-py3-none-any.whl (97 kB)\r\nCollecting gitdb<5,>=4.0.1\r\n  Using cached gitdb-4.0.11-py3-none-any.whl (62 kB)\r\nCollecting smmap<6,>=3.0.1\r\n  Using cached smmap-5.0.1-py3-none-any.whl (24 kB)\r\nCollecting rsa<5,>=3.1.4\r\n  Using cached rsa-4.9-py3-none-any.whl (34 kB)\r\nCollecting pyasn1-modules>=0.2.1\r\n  Using cached pyasn1_modules-0.4.1-py3-none-any.whl (181 kB)\r\nCollecting graphql-core<3.3,>=3.1\r\n  Using cached graphql_core-3.2.4-py3-none-any.whl (203 kB)\r\nCollecting graphql-relay<3.3,>=3.1\r\n  Using cached graphql_relay-3.2.0-py3-none-any.whl (16 kB)\r\nCollecting aniso8601<10,>=8\r\n  Using cached aniso8601-9.0.1-py2.py3-none-any.whl (52 kB)\r\nCollecting zipp>=3.20\r\n  Using cached zipp-3.20.2-py3-none-any.whl (9.2 kB)\r\nRequirement already satisfied: MarkupSafe>=2.0 in /databricks/python3/lib/python3.9/site-packages (from Jinja2<4,>=2.11->mlflow) (2.0.1)\r\nRequirement already satisfied: pyparsing>=2.2.1 in /databricks/python3/lib/python3.9/site-packages (from matplotlib<4->mlflow) (3.0.4)\r\nRequirement already satisfied: cycler>=0.10 in /databricks/python3/lib/python3.9/site-packages (from matplotlib<4->mlflow) (0.11.0)\r\nRequirement already satisfied: kiwisolver>=1.0.1 in /databricks/python3/lib/python3.9/site-packages (from matplotlib<4->mlflow) (1.3.2)\r\nRequirement already satisfied: pillow>=6.2.0 in /databricks/python3/lib/python3.9/site-packages (from matplotlib<4->mlflow) (9.0.1)\r\nRequirement already satisfied: python-dateutil>=2.7 in /databricks/python3/lib/python3.9/site-packages (from matplotlib<4->mlflow) (2.8.2)\r\nRequirement already satisfied: fonttools>=4.22.0 in /databricks/python3/lib/python3.9/site-packages (from matplotlib<4->mlflow) (4.25.0)\r\nCollecting deprecated>=1.2.6\r\n  Using cached Deprecated-1.2.14-py2.py3-none-any.whl (9.6 kB)\r\nCollecting importlib-metadata!=4.7.0,<9,>=3.7.0\r\n  Using cached importlib_metadata-8.4.0-py3-none-any.whl (26 kB)\r\nCollecting wrapt<2,>=1.10\r\n  Using cached wrapt-1.16.0-cp39-cp39-manylinux_2_5_x86_64.manylinux1_x86_64.manylinux_2_17_x86_64.manylinux2014_x86_64.whl (80 kB)\r\nCollecting opentelemetry-semantic-conventions==0.48b0\r\n  Using cached opentelemetry_semantic_conventions-0.48b0-py3-none-any.whl (149 kB)\r\nRequirement already satisfied: pytz>=2020.1 in /databricks/python3/lib/python3.9/site-packages (from pandas<3->mlflow) (2021.3)\r\nCollecting pyasn1<0.7.0,>=0.4.6\r\n  Using cached pyasn1-0.6.1-py3-none-any.whl (83 kB)\r\nRequirement already satisfied: six>=1.5 in /databricks/python3/lib/python3.9/site-packages (from python-dateutil>=2.7->matplotlib<4->mlflow) (1.16.0)\r\nRequirement already satisfied: certifi>=2017.4.17 in /databricks/python3/lib/python3.9/site-packages (from requests<3,>=2.17.3->mlflow-skinny==2.16.2->mlflow) (2021.10.8)\r\nRequirement already satisfied: idna<4,>=2.5 in /databricks/python3/lib/python3.9/site-packages (from requests<3,>=2.17.3->mlflow-skinny==2.16.2->mlflow) (3.3)\r\nRequirement already satisfied: charset-normalizer<4,>=2 in /databricks/python3/lib/python3.9/site-packages (from requests<3,>=2.17.3->mlflow-skinny==2.16.2->mlflow) (2.0.4)\r\nRequirement already satisfied: joblib>=0.11 in /databricks/python3/lib/python3.9/site-packages (from scikit-learn<2->mlflow) (1.1.1)\r\nRequirement already satisfied: threadpoolctl>=2.0.0 in /databricks/python3/lib/python3.9/site-packages (from scikit-learn<2->mlflow) (2.2.0)\r\nCollecting typing-extensions>=4\r\n  Using cached typing_extensions-4.12.2-py3-none-any.whl (37 kB)\r\nCollecting greenlet!=0.4.17\r\n  Using cached greenlet-3.1.1-cp39-cp39-manylinux_2_24_x86_64.manylinux_2_28_x86_64.whl (597 kB)\r\nCollecting MarkupSafe>=2.0\r\n  Using cached MarkupSafe-2.1.5-cp39-cp39-manylinux_2_17_x86_64.manylinux2014_x86_64.whl (25 kB)\r\nInstalling collected packages: zipp, wrapt, pyasn1, importlib-metadata, deprecated, smmap, rsa, pyasn1-modules, opentelemetry-api, cachetools, typing-extensions, requests, opentelemetry-semantic-conventions, MarkupSafe, greenlet, graphql-core, google-auth, gitdb, Werkzeug, sqlparse, sqlalchemy, pyyaml, opentelemetry-sdk, Mako, Jinja2, itsdangerous, graphql-relay, gitpython, databricks-sdk, cloudpickle, click, blinker, aniso8601, mlflow-skinny, markdown, gunicorn, graphene, Flask, docker, alembic, mlflow\r\n  Attempting uninstall: typing-extensions\r\n    Found existing installation: typing-extensions 4.1.1\r\n    Not uninstalling typing-extensions at /databricks/python3/lib/python3.9/site-packages, outside environment /local_disk0/.ephemeral_nfs/envs/pythonEnv-e7541940-375a-43d3-b339-a7351c6414e9\r\n    Can't uninstall 'typing-extensions'. No files were found to uninstall.\r\n  Attempting uninstall: requests\r\n    Found existing installation: requests 2.27.1\r\n    Not uninstalling requests at /databricks/python3/lib/python3.9/site-packages, outside environment /local_disk0/.ephemeral_nfs/envs/pythonEnv-e7541940-375a-43d3-b339-a7351c6414e9\r\n    Can't uninstall 'requests'. No files were found to uninstall.\r\n  Attempting uninstall: MarkupSafe\r\n    Found existing installation: MarkupSafe 2.0.1\r\n    Not uninstalling markupsafe at /databricks/python3/lib/python3.9/site-packages, outside environment /local_disk0/.ephemeral_nfs/envs/pythonEnv-e7541940-375a-43d3-b339-a7351c6414e9\r\n    Can't uninstall 'MarkupSafe'. No files were found to uninstall.\r\n  Attempting uninstall: Jinja2\r\n    Found existing installation: Jinja2 2.11.3\r\n    Not uninstalling jinja2 at /databricks/python3/lib/python3.9/site-packages, outside environment /local_disk0/.ephemeral_nfs/envs/pythonEnv-e7541940-375a-43d3-b339-a7351c6414e9\r\n    Can't uninstall 'Jinja2'. No files were found to uninstall.\r\n  Attempting uninstall: click\r\n    Found existing installation: click 8.0.4\r\n    Not uninstalling click at /databricks/python3/lib/python3.9/site-packages, outside environment /local_disk0/.ephemeral_nfs/envs/pythonEnv-e7541940-375a-43d3-b339-a7351c6414e9\r\n    Can't uninstall 'click'. No files were found to uninstall.\r\nSuccessfully installed Flask-3.0.3 Jinja2-3.1.4 Mako-1.3.5 MarkupSafe-2.1.5 Werkzeug-3.0.4 alembic-1.13.3 aniso8601-9.0.1 blinker-1.8.2 cachetools-5.5.0 click-8.1.7 cloudpickle-3.0.0 databricks-sdk-0.34.0 deprecated-1.2.14 docker-7.1.0 gitdb-4.0.11 gitpython-3.1.43 google-auth-2.35.0 graphene-3.3 graphql-core-3.2.4 graphql-relay-3.2.0 greenlet-3.1.1 gunicorn-23.0.0 importlib-metadata-8.4.0 itsdangerous-2.2.0 markdown-3.7 mlflow-2.16.2 mlflow-skinny-2.16.2 opentelemetry-api-1.27.0 opentelemetry-sdk-1.27.0 opentelemetry-semantic-conventions-0.48b0 pyasn1-0.6.1 pyasn1-modules-0.4.1 pyyaml-6.0.2 requests-2.32.3 rsa-4.9 smmap-5.0.1 sqlalchemy-2.0.35 sqlparse-0.5.1 typing-extensions-4.12.2 wrapt-1.16.0 zipp-3.20.2\r\n\u001B[33mWARNING: You are using pip version 21.2.4; however, version 24.2 is available.\r\nYou should consider upgrading via the '/local_disk0/.ephemeral_nfs/envs/pythonEnv-e7541940-375a-43d3-b339-a7351c6414e9/bin/python -m pip install --upgrade pip' command.\u001B[0m\r\nCollecting prophet\r\n  Using cached prophet-1.1.6-py3-none-manylinux_2_17_x86_64.manylinux2014_x86_64.whl (14.4 MB)\r\nRequirement already satisfied: numpy>=1.15.4 in /databricks/python3/lib/python3.9/site-packages (from prophet) (1.21.5)\r\nRequirement already satisfied: pandas>=1.0.4 in /databricks/python3/lib/python3.9/site-packages (from prophet) (1.4.2)\r\nCollecting importlib-resources\r\n  Using cached importlib_resources-6.4.5-py3-none-any.whl (36 kB)\r\nRequirement already satisfied: matplotlib>=2.0.0 in /databricks/python3/lib/python3.9/site-packages (from prophet) (3.5.1)\r\nCollecting cmdstanpy>=1.0.4\r\n  Using cached cmdstanpy-1.2.4-py3-none-any.whl (94 kB)\r\nCollecting holidays<1,>=0.25\r\n  Using cached holidays-0.57-py3-none-any.whl (1.1 MB)\r\nCollecting tqdm>=4.36.1\r\n  Using cached tqdm-4.66.5-py3-none-any.whl (78 kB)\r\nCollecting stanio<2.0.0,>=0.4.0\r\n  Using cached stanio-0.5.1-py3-none-any.whl (8.1 kB)\r\nRequirement already satisfied: python-dateutil in /databricks/python3/lib/python3.9/site-packages (from holidays<1,>=0.25->prophet) (2.8.2)\r\nRequirement already satisfied: pyparsing>=2.2.1 in /databricks/python3/lib/python3.9/site-packages (from matplotlib>=2.0.0->prophet) (3.0.4)\r\nRequirement already satisfied: packaging>=20.0 in /databricks/python3/lib/python3.9/site-packages (from matplotlib>=2.0.0->prophet) (21.3)\r\nRequirement already satisfied: cycler>=0.10 in /databricks/python3/lib/python3.9/site-packages (from matplotlib>=2.0.0->prophet) (0.11.0)\r\nRequirement already satisfied: kiwisolver>=1.0.1 in /databricks/python3/lib/python3.9/site-packages (from matplotlib>=2.0.0->prophet) (1.3.2)\r\nRequirement already satisfied: pillow>=6.2.0 in /databricks/python3/lib/python3.9/site-packages (from matplotlib>=2.0.0->prophet) (9.0.1)\r\nRequirement already satisfied: fonttools>=4.22.0 in /databricks/python3/lib/python3.9/site-packages (from matplotlib>=2.0.0->prophet) (4.25.0)\r\nRequirement already satisfied: pytz>=2020.1 in /databricks/python3/lib/python3.9/site-packages (from pandas>=1.0.4->prophet) (2021.3)\r\nRequirement already satisfied: six>=1.5 in /databricks/python3/lib/python3.9/site-packages (from python-dateutil->holidays<1,>=0.25->prophet) (1.16.0)\r\nRequirement already satisfied: zipp>=3.1.0 in /local_disk0/.ephemeral_nfs/envs/pythonEnv-e7541940-375a-43d3-b339-a7351c6414e9/lib/python3.9/site-packages (from importlib-resources->prophet) (3.20.2)\r\nInstalling collected packages: tqdm, stanio, importlib-resources, holidays, cmdstanpy, prophet\r\nSuccessfully installed cmdstanpy-1.2.4 holidays-0.57 importlib-resources-6.4.5 prophet-1.1.6 stanio-0.5.1 tqdm-4.66.5\r\n\u001B[33mWARNING: You are using pip version 21.2.4; however, version 24.2 is available.\r\nYou should consider upgrading via the '/local_disk0/.ephemeral_nfs/envs/pythonEnv-e7541940-375a-43d3-b339-a7351c6414e9/bin/python -m pip install --upgrade pip' command.\u001B[0m\r\n"
     ]
    }
   ],
   "source": [
    "!pip install mlflow\n",
    "!pip install prophet"
   ]
  },
  {
   "cell_type": "code",
   "execution_count": 0,
   "metadata": {
    "application/vnd.databricks.v1+cell": {
     "cellMetadata": {
      "byteLimit": 2048000,
      "rowLimit": 10000
     },
     "inputWidgets": {},
     "nuid": "1e26afad-1d78-4687-9d38-f84b857bb9a8",
     "showTitle": false,
     "title": ""
    }
   },
   "outputs": [],
   "source": [
    "import pandas as pd\n",
    "from prophet import Prophet\n",
    "from pyspark.sql import SparkSession\n",
    "import mlflow\n",
    "import mlflow.sklearn\n"
   ]
  },
  {
   "cell_type": "code",
   "execution_count": 0,
   "metadata": {
    "application/vnd.databricks.v1+cell": {
     "cellMetadata": {
      "byteLimit": 2048000,
      "rowLimit": 10000
     },
     "inputWidgets": {},
     "nuid": "00ba266e-2db3-4fa2-be7b-cfd9934eff27",
     "showTitle": false,
     "title": ""
    }
   },
   "outputs": [],
   "source": [
    "spark = SparkSession.builder \\\n",
    "    .appName(\"DemandForecasting\") \\\n",
    "    .getOrCreate()\n"
   ]
  },
  {
   "cell_type": "code",
   "execution_count": 0,
   "metadata": {
    "application/vnd.databricks.v1+cell": {
     "cellMetadata": {
      "byteLimit": 2048000,
      "rowLimit": 10000
     },
     "inputWidgets": {},
     "nuid": "d858f18e-a43b-4c52-8fc9-1cd6fdcaf2a2",
     "showTitle": false,
     "title": ""
    }
   },
   "outputs": [],
   "source": [
    "df = spark.read.csv(\"dbfs:/FileStore/shared_uploads/podurikarthikeya69@gmail.com/df_prophet.csv\", header=True, inferSchema=True)\n"
   ]
  },
  {
   "cell_type": "code",
   "execution_count": 0,
   "metadata": {
    "application/vnd.databricks.v1+cell": {
     "cellMetadata": {
      "byteLimit": 2048000,
      "rowLimit": 10000
     },
     "inputWidgets": {},
     "nuid": "2da66318-4840-4aaf-9fb7-7fa0d484352b",
     "showTitle": false,
     "title": ""
    }
   },
   "outputs": [],
   "source": [
    "# Convert to Pandas DataFrame\n",
    "pandas_df = df.toPandas()"
   ]
  },
  {
   "cell_type": "code",
   "execution_count": 0,
   "metadata": {
    "application/vnd.databricks.v1+cell": {
     "cellMetadata": {
      "byteLimit": 2048000,
      "rowLimit": 10000
     },
     "inputWidgets": {},
     "nuid": "8e48954d-f7e1-4839-baae-7669fbf32271",
     "showTitle": false,
     "title": ""
    }
   },
   "outputs": [],
   "source": [
    "pandas_df['LastSaleDate'] = pd.to_datetime(pandas_df['LastSaleDate'])  # Convert LastSaleDate to datetime\n",
    "df_prophet = pandas_df[['LastSaleDate', 'Sales']].rename(columns={'LastSaleDate': 'ds', 'Sales': 'y'})\n"
   ]
  },
  {
   "cell_type": "code",
   "execution_count": 0,
   "metadata": {
    "application/vnd.databricks.v1+cell": {
     "cellMetadata": {
      "byteLimit": 2048000,
      "rowLimit": 10000
     },
     "inputWidgets": {},
     "nuid": "70f0a2da-46a8-4885-b096-8a68ba552456",
     "showTitle": false,
     "title": ""
    }
   },
   "outputs": [
    {
     "output_type": "stream",
     "name": "stdout",
     "output_type": "stream",
     "text": [
      "ds    0\ny     0\ndtype: int64\n"
     ]
    }
   ],
   "source": [
    "print(df_prophet.isnull().sum())\n"
   ]
  },
  {
   "cell_type": "code",
   "execution_count": 0,
   "metadata": {
    "application/vnd.databricks.v1+cell": {
     "cellMetadata": {
      "byteLimit": 2048000,
      "rowLimit": 10000
     },
     "inputWidgets": {},
     "nuid": "217950da-9f09-4ae3-a52e-5dcd417dbbba",
     "showTitle": false,
     "title": ""
    }
   },
   "outputs": [],
   "source": [
    "train_size = int(len(df_prophet) * 0.8)\n",
    "train_df = df_prophet[:train_size]\n",
    "test_df = df_prophet[train_size:]\n"
   ]
  },
  {
   "cell_type": "code",
   "execution_count": 0,
   "metadata": {
    "application/vnd.databricks.v1+cell": {
     "cellMetadata": {
      "byteLimit": 2048000,
      "rowLimit": 10000
     },
     "inputWidgets": {},
     "nuid": "cca8b145-6285-4d21-a6e1-f2d832c67dd3",
     "showTitle": false,
     "title": ""
    }
   },
   "outputs": [
    {
     "output_type": "stream",
     "name": "stderr",
     "output_type": "stream",
     "text": [
      "INFO:prophet:Disabling weekly seasonality. Run prophet with weekly_seasonality=True to override this.\nINFO:prophet:Disabling daily seasonality. Run prophet with daily_seasonality=True to override this.\nINFO:prophet:n_changepoints greater than number of observations. Using 16.\nDEBUG:cmdstanpy:input tempfile: /tmp/tmp_vwnixqe/t267bcy8.json\nDEBUG:cmdstanpy:input tempfile: /tmp/tmp_vwnixqe/rai6l7q_.json\nDEBUG:cmdstanpy:idx 0\nDEBUG:cmdstanpy:running CmdStan, num_threads: None\nDEBUG:cmdstanpy:CmdStan args: ['/local_disk0/.ephemeral_nfs/envs/pythonEnv-e7541940-375a-43d3-b339-a7351c6414e9/lib/python3.9/site-packages/prophet/stan_model/prophet_model.bin', 'random', 'seed=25132', 'data', 'file=/tmp/tmp_vwnixqe/t267bcy8.json', 'init=/tmp/tmp_vwnixqe/rai6l7q_.json', 'output', 'file=/tmp/tmp_vwnixqe/prophet_modelcacwt89b/prophet_model-20241007173815.csv', 'method=optimize', 'algorithm=newton', 'iter=10000']\n17:38:15 - cmdstanpy - INFO - Chain [1] start processing\nINFO:cmdstanpy:Chain [1] start processing\n17:38:15 - cmdstanpy - INFO - Chain [1] done processing\nINFO:cmdstanpy:Chain [1] done processing\n"
     ]
    },
    {
     "output_type": "stream",
     "name": "stdout",
     "output_type": "stream",
     "text": [
      "Out[12]: <prophet.forecaster.Prophet at 0x7efdc499f1c0>"
     ]
    }
   ],
   "source": [
    "model = Prophet()\n",
    "model.fit(train_df)\n"
   ]
  },
  {
   "cell_type": "code",
   "execution_count": 0,
   "metadata": {
    "application/vnd.databricks.v1+cell": {
     "cellMetadata": {
      "byteLimit": 2048000,
      "rowLimit": 10000
     },
     "inputWidgets": {},
     "nuid": "c007e151-2437-4b20-94ab-bcc2fd79414c",
     "showTitle": false,
     "title": ""
    }
   },
   "outputs": [],
   "source": [
    "future = model.make_future_dataframe(periods=len(test_df), freq='M')\n"
   ]
  },
  {
   "cell_type": "code",
   "execution_count": 0,
   "metadata": {
    "application/vnd.databricks.v1+cell": {
     "cellMetadata": {
      "byteLimit": 2048000,
      "rowLimit": 10000
     },
     "inputWidgets": {},
     "nuid": "5d4a3b6b-9383-465b-9da5-05119dcd661f",
     "showTitle": false,
     "title": ""
    }
   },
   "outputs": [],
   "source": [
    "forecast = model.predict(future)"
   ]
  },
  {
   "cell_type": "code",
   "execution_count": 0,
   "metadata": {
    "application/vnd.databricks.v1+cell": {
     "cellMetadata": {
      "byteLimit": 2048000,
      "rowLimit": 10000
     },
     "inputWidgets": {},
     "nuid": "9c0c9b1a-6826-40ef-b833-45ea1adee9f7",
     "showTitle": false,
     "title": ""
    }
   },
   "outputs": [
    {
     "output_type": "stream",
     "name": "stdout",
     "output_type": "stream",
     "text": [
      "Mean Absolute Error: 11.028870501358872\n"
     ]
    },
    {
     "output_type": "display_data",
     "data": {
      "image/png": "[encoded data removed]"
     },
     "metadata": {
      "application/vnd.databricks.v1+output": {
       "addedWidgets": {},
       "arguments": {},
       "data": "data:image/png;base64,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\n",
       "datasetInfos": [],
       "metadata": {},
       "removedWidgets": [],
       "type": "image"
      }
     },
     "output_type": "display_data"
    }
   ],
   "source": [
    "predictions = forecast[['ds', 'yhat', 'yhat_lower', 'yhat_upper']].merge(test_df, on='ds', how='left')\n",
    "predictions['mae'] = abs(predictions['y'] - predictions['yhat'])\n",
    "print(f'Mean Absolute Error: {predictions[\"mae\"].mean()}')\n",
    "import matplotlib.pyplot as plt\n",
    "\n",
    "plt.figure(figsize=(10, 6))\n",
    "plt.plot(predictions['ds'], predictions['y'], label='Actual Sales', color='blue')\n",
    "plt.plot(predictions['ds'], predictions['yhat'], label='Predicted Sales', color='orange')\n",
    "plt.fill_between(predictions['ds'], predictions['yhat_lower'], predictions['yhat_upper'], color='orange', alpha=0.3)\n",
    "plt.legend()\n",
    "plt.xlabel('Date')\n",
    "plt.ylabel('Sales')\n",
    "plt.title('Actual vs. Predicted Sales')\n",
    "plt.show()\n"
   ]
  },
  {
   "cell_type": "code",
   "execution_count": 0,
   "metadata": {
    "application/vnd.databricks.v1+cell": {
     "cellMetadata": {
      "byteLimit": 2048000,
      "rowLimit": 10000
     },
     "inputWidgets": {},
     "nuid": "65e503e6-d839-4165-be6e-7cbd39f5800d",
     "showTitle": false,
     "title": ""
    }
   },
   "outputs": [
    {
     "output_type": "stream",
     "name": "stderr",
     "output_type": "stream",
     "text": [
      "2024/10/07 17:39:09 WARNING mlflow.models.model: Model logged without a signature and input example. Please set `input_example` parameter when logging the model to auto infer the model signature.\n"
     ]
    },
    {
     "output_type": "display_data",
     "data": {
      "application/vnd.jupyter.widget-view+json": {
       "model_id": "6568f0155bba40f5a7f6f9ae1023f0b4",
       "version_major": 2,
       "version_minor": 0
      },
      "text/plain": [
       "Uploading artifacts:   0%|          | 0/9 [00:00<?, ?it/s]"
      ]
     },
     "metadata": {},
     "output_type": "display_data"
    },
    {
     "output_type": "stream",
     "name": "stderr",
     "output_type": "stream",
     "text": [
      "2024/10/07 17:39:10 INFO mlflow.tracking._tracking_service.client: 🏃 View run hilarious-seal-109 at: https://community.cloud.databricks.com/ml/experiments/4498943658609964/runs/81bcae5e66334f39b2e12c5a3c293ad6.\n2024/10/07 17:39:10 INFO mlflow.tracking._tracking_service.client: 🧪 View experiment at: https://community.cloud.databricks.com/ml/experiments/4498943658609964.\n"
     ]
    }
   ],
   "source": [
    "with mlflow.start_run():\n",
    "    mlflow.prophet.log_model(model, \"prophet_model\")\n",
    "    mlflow.log_params({\"n_changepoints\": model.n_changepoints})"
   ]
  }
 ],
 "metadata": {
  "application/vnd.databricks.v1+notebook": {
   "dashboards": [],
   "environmentMetadata": null,
   "language": "python",
   "notebookMetadata": {
    "pythonIndentUnit": 4
   },
   "notebookName": "DF Prophet",
   "widgets": {}
  }
 },
 "nbformat": 4,
 "nbformat_minor": 0
}
