{
 "cells": [
  {
   "cell_type": "code",
   "execution_count": 0,
   "metadata": {
    "application/vnd.databricks.v1+cell": {
     "cellMetadata": {
      "byteLimit": 2048000,
      "rowLimit": 10000
     },
     "inputWidgets": {},
     "nuid": "fa8437b5-04a8-483b-a221-a2bd1f89f2ec",
     "showTitle": false,
     "title": ""
    }
   },
   "outputs": [
    {
     "output_type": "display_data",
     "data": {
      "application/vnd.databricks.v1+bamboolib_hint": "{\"pd.DataFrames\": [], \"version\": \"0.0.1\"}",
      "text/plain": []
     },
     "metadata": {},
     "output_type": "display_data"
    },
    {
     "output_type": "stream",
     "name": "stdout",
     "output_type": "stream",
     "text": [
      "+--------------+------+------+------+------------+------------+--------------+----------+----------------+----------------+------------------------+----+--------+-----+-----+-----------+---------------------+-------------------------+\n|    HostItemID|  Cost|  List|OnHand|MonthsNoSale|LastSaleDate|PriorYearSales|OnOrderQty|BestReorderPoint|SafetyStockLevel|MonthsWithAtLeastOneSale|Year|   Month|Sales|Lag_1|HolidayFlag|InventoryDiff_Reorder|InventoryDiff_SafetyStock|\n+--------------+------+------+------+------------+------------+--------------+----------+----------------+----------------+------------------------+----+--------+-----+-----+-----------+---------------------+-------------------------+\n|PMP*14680*2541|381.96|873.72|   184|          17|  2021-04-17|           217|        62|              74|              39|                       8|2021| January|   39|  NaN|          0|                  110|                       70|\n|PMP*14680*2541|381.96|873.72|   184|          17|  2021-04-17|           217|        62|              74|              39|                       8|2021|February|   39| 39.0|          0|                   90|                       50|\n|PMP*14680*2541|381.96|873.72|   184|          17|  2021-04-17|           217|        62|              74|              39|                       8|2021|   March|   22| 39.0|          0|                   60|                       40|\n|PMP*14680*2541|381.96|873.72|   184|          17|  2021-04-17|           217|        62|              74|              39|                       8|2021|   April|   34| 22.0|          0|                   50|                       30|\n|PMP*14680*2541|381.96|873.72|   184|          17|  2021-04-17|           217|        62|              74|              39|                       8|2021|     May|    0| 34.0|          1|                   40|                       20|\n+--------------+------+------+------+------------+------------+--------------+----------+----------------+----------------+------------------------+----+--------+-----+-----+-----------+---------------------+-------------------------+\nonly showing top 5 rows\n\n"
     ]
    }
   ],
   "source": [
    "import pandas as pd\n",
    "from pyspark.sql import SparkSession\n",
    "spark = SparkSession.builder.appName(\"DemandForecasting\").getOrCreate()\n",
    "file_path = \"dbfs:/FileStore/shared_uploads/podurikarthikeya69@gmail.com/Demm_data.csv\"  # Update with your file path\n",
    "df = spark.read.csv(file_path, header=True, inferSchema=True)\n",
    "df.show(5)\n"
   ]
  },
  {
   "cell_type": "code",
   "execution_count": 0,
   "metadata": {
    "application/vnd.databricks.v1+cell": {
     "cellMetadata": {
      "byteLimit": 2048000,
      "rowLimit": 10000
     },
     "inputWidgets": {},
     "nuid": "a10f44d5-642f-4559-94ea-69ec29068171",
     "showTitle": false,
     "title": ""
    }
   },
   "outputs": [
    {
     "output_type": "stream",
     "name": "stdout",
     "output_type": "stream",
     "text": [
      "+----------+----+----+------+------------+------------+--------------+----------+----------------+----------------+------------------------+----+-----+-----+-----+-----------+---------------------+-------------------------+\n|HostItemID|Cost|List|OnHand|MonthsNoSale|LastSaleDate|PriorYearSales|OnOrderQty|BestReorderPoint|SafetyStockLevel|MonthsWithAtLeastOneSale|Year|Month|Sales|Lag_1|HolidayFlag|InventoryDiff_Reorder|InventoryDiff_SafetyStock|\n+----------+----+----+------+------------+------------+--------------+----------+----------------+----------------+------------------------+----+-----+-----+-----+-----------+---------------------+-------------------------+\n|         0|   0|   0|     0|           0|           0|             0|         0|               0|               0|                       0|   0|    0|    0|    0|          0|                    0|                        0|\n+----------+----+----+------+------------+------------+--------------+----------+----------------+----------------+------------------------+----+-----+-----+-----+-----------+---------------------+-------------------------+\n\n"
     ]
    }
   ],
   "source": [
    "from pyspark.sql import functions as F\n",
    "missing_values = df.select([F.sum(F.col(col).isNull().cast(\"int\")).alias(col) for col in df.columns])\n",
    "missing_values.show()"
   ]
  },
  {
   "cell_type": "code",
   "execution_count": 0,
   "metadata": {
    "application/vnd.databricks.v1+cell": {
     "cellMetadata": {
      "byteLimit": 2048000,
      "rowLimit": 10000
     },
     "inputWidgets": {},
     "nuid": "7ff85e91-056d-491c-a5a0-ebf4bc4a0871",
     "showTitle": false,
     "title": ""
    }
   },
   "outputs": [
    {
     "output_type": "stream",
     "name": "stdout",
     "output_type": "stream",
     "text": [
      "root\n |-- HostItemID: string (nullable = true)\n |-- Cost: double (nullable = true)\n |-- List: double (nullable = true)\n |-- OnHand: integer (nullable = true)\n |-- MonthsNoSale: integer (nullable = true)\n |-- LastSaleDate: date (nullable = true)\n |-- PriorYearSales: integer (nullable = true)\n |-- OnOrderQty: integer (nullable = true)\n |-- BestReorderPoint: integer (nullable = true)\n |-- SafetyStockLevel: integer (nullable = true)\n |-- MonthsWithAtLeastOneSale: integer (nullable = true)\n |-- Year: integer (nullable = true)\n |-- Month: string (nullable = true)\n |-- Sales: integer (nullable = true)\n |-- Lag_1: double (nullable = true)\n |-- HolidayFlag: integer (nullable = true)\n |-- InventoryDiff_Reorder: integer (nullable = true)\n |-- InventoryDiff_SafetyStock: integer (nullable = true)\n\n"
     ]
    }
   ],
   "source": [
    "df.printSchema()"
   ]
  },
  {
   "cell_type": "code",
   "execution_count": 0,
   "metadata": {
    "application/vnd.databricks.v1+cell": {
     "cellMetadata": {
      "byteLimit": 2048000,
      "rowLimit": 10000
     },
     "inputWidgets": {},
     "nuid": "33eace06-5a86-4aac-8b23-40630709e52c",
     "showTitle": false,
     "title": ""
    }
   },
   "outputs": [],
   "source": [
    "from pyspark.sql.functions import to_date\n",
    "\n",
    "df = df.withColumn(\"LastSaleDate\", to_date(df[\"LastSaleDate\"], \"yyyy-MM-dd\"))"
   ]
  },
  {
   "cell_type": "code",
   "execution_count": 0,
   "metadata": {
    "application/vnd.databricks.v1+cell": {
     "cellMetadata": {
      "byteLimit": 2048000,
      "rowLimit": 10000
     },
     "inputWidgets": {},
     "nuid": "a2c48e1d-3fb6-4ff4-8718-dc8ba7903656",
     "showTitle": false,
     "title": ""
    }
   },
   "outputs": [
    {
     "output_type": "stream",
     "name": "stdout",
     "output_type": "stream",
     "text": [
      "root\n |-- HostItemID: string (nullable = true)\n |-- Cost: double (nullable = true)\n |-- List: double (nullable = true)\n |-- OnHand: integer (nullable = true)\n |-- MonthsNoSale: integer (nullable = true)\n |-- LastSaleDate: date (nullable = true)\n |-- PriorYearSales: integer (nullable = true)\n |-- OnOrderQty: integer (nullable = true)\n |-- BestReorderPoint: integer (nullable = true)\n |-- SafetyStockLevel: integer (nullable = true)\n |-- MonthsWithAtLeastOneSale: integer (nullable = true)\n |-- Year: integer (nullable = true)\n |-- Month: string (nullable = true)\n |-- Sales: integer (nullable = true)\n |-- Lag_1: double (nullable = true)\n |-- HolidayFlag: integer (nullable = true)\n |-- InventoryDiff_Reorder: integer (nullable = true)\n |-- InventoryDiff_SafetyStock: integer (nullable = true)\n\n"
     ]
    }
   ],
   "source": [
    "df.printSchema()"
   ]
  },
  {
   "cell_type": "code",
   "execution_count": 0,
   "metadata": {
    "application/vnd.databricks.v1+cell": {
     "cellMetadata": {
      "byteLimit": 2048000,
      "rowLimit": 10000
     },
     "inputWidgets": {},
     "nuid": "7dff3bb4-6886-48f9-89e4-cc9ffaaa578f",
     "showTitle": false,
     "title": ""
    }
   },
   "outputs": [],
   "source": [
    "from pyspark.sql.window import Window\n",
    "window_spec = Window.partitionBy(\"HostItemID\").orderBy(\"LastSaleDate\")\n",
    "df = df.withColumn(\"Lag_1\", F.lag(\"Sales\", 1).over(window_spec))"
   ]
  },
  {
   "cell_type": "code",
   "execution_count": 0,
   "metadata": {
    "application/vnd.databricks.v1+cell": {
     "cellMetadata": {
      "byteLimit": 2048000,
      "rowLimit": 10000
     },
     "inputWidgets": {},
     "nuid": "ca5488f0-9d75-4147-8028-db25c93b3665",
     "showTitle": false,
     "title": ""
    }
   },
   "outputs": [],
   "source": [
    "df = df.withColumn(\"Month_Indicator\", F.lit(None))\n",
    "month_mapping = {\n",
    "    \"January\": 1, \"February\": 2, \"March\": 3, \"April\": 4,\n",
    "    \"May\": 5, \"June\": 6, \"July\": 7, \"August\": 8,\n",
    "    \"September\": 9, \"October\": 10, \"November\": 11, \"December\": 12\n",
    "}\n",
    "\n",
    "for month_name, month_num in month_mapping.items():\n",
    "    df = df.withColumn(\"Month_Indicator\", \n",
    "                       F.when(F.col(\"Month\") == month_name, month_num).otherwise(F.col(\"Month_Indicator\")))"
   ]
  },
  {
   "cell_type": "code",
   "execution_count": 0,
   "metadata": {
    "application/vnd.databricks.v1+cell": {
     "cellMetadata": {
      "byteLimit": 2048000,
      "rowLimit": 10000
     },
     "inputWidgets": {},
     "nuid": "0c889d38-2ad4-4fad-9740-6ae9a5db9c9e",
     "showTitle": false,
     "title": ""
    }
   },
   "outputs": [],
   "source": [
    "df = df.drop(\"MonthsNoSale\", \"MonthsWithAtLeastOneSale\")  "
   ]
  },
  {
   "cell_type": "code",
   "execution_count": 0,
   "metadata": {
    "application/vnd.databricks.v1+cell": {
     "cellMetadata": {
      "byteLimit": 2048000,
      "rowLimit": 10000
     },
     "inputWidgets": {},
     "nuid": "50442294-4369-48d2-a242-5cb7e5babf93",
     "showTitle": false,
     "title": ""
    }
   },
   "outputs": [
    {
     "output_type": "stream",
     "name": "stdout",
     "output_type": "stream",
     "text": [
      "+--------------+------+------+------+------------+--------------+----------+----------------+----------------+----+--------+-----+-----+-----------+---------------------+-------------------------+---------------+\n|    HostItemID|  Cost|  List|OnHand|LastSaleDate|PriorYearSales|OnOrderQty|BestReorderPoint|SafetyStockLevel|Year|   Month|Sales|Lag_1|HolidayFlag|InventoryDiff_Reorder|InventoryDiff_SafetyStock|Month_Indicator|\n+--------------+------+------+------+------------+--------------+----------+----------------+----------------+----+--------+-----+-----+-----------+---------------------+-------------------------+---------------+\n|PMP*14680*2541|381.96|873.72|   184|  2021-04-17|           217|        62|              74|              39|2021| January|   39| null|          0|                  110|                       70|              1|\n|PMP*14680*2541|381.96|873.72|   184|  2021-04-17|           217|        62|              74|              39|2021|February|   39|   39|          0|                   90|                       50|              2|\n|PMP*14680*2541|381.96|873.72|   184|  2021-04-17|           217|        62|              74|              39|2021|   March|   22|   39|          0|                   60|                       40|              3|\n|PMP*14680*2541|381.96|873.72|   184|  2021-04-17|           217|        62|              74|              39|2021|   April|   34|   22|          0|                   50|                       30|              4|\n|PMP*14680*2541|381.96|873.72|   184|  2021-04-17|           217|        62|              74|              39|2021|     May|    0|   34|          1|                   40|                       20|              5|\n+--------------+------+------+------+------------+--------------+----------+----------------+----------------+----+--------+-----+-----+-----------+---------------------+-------------------------+---------------+\nonly showing top 5 rows\n\n"
     ]
    }
   ],
   "source": [
    "df.show(5)"
   ]
  },
  {
   "cell_type": "code",
   "execution_count": 0,
   "metadata": {
    "application/vnd.databricks.v1+cell": {
     "cellMetadata": {
      "byteLimit": 2048000,
      "rowLimit": 10000
     },
     "inputWidgets": {},
     "nuid": "db709525-618b-446c-9fb1-6d32a88a4a05",
     "showTitle": false,
     "title": ""
    }
   },
   "outputs": [],
   "source": [
    "df = df.orderBy(\"HostItemID\", \"LastSaleDate\")\n",
    "df_pandas = df.toPandas()\n",
    "df_pandas.set_index(\"LastSaleDate\", inplace=True)"
   ]
  },
  {
   "cell_type": "code",
   "execution_count": 0,
   "metadata": {
    "application/vnd.databricks.v1+cell": {
     "cellMetadata": {
      "byteLimit": 2048000,
      "rowLimit": 10000
     },
     "inputWidgets": {},
     "nuid": "1dca4314-fff1-4922-b528-ff7d2fdf35ab",
     "showTitle": false,
     "title": ""
    }
   },
   "outputs": [
    {
     "output_type": "stream",
     "name": "stdout",
     "output_type": "stream",
     "text": [
      "                               SARIMAX Results                                \n==============================================================================\nDep. Variable:                  Sales   No. Observations:                   28\nModel:                 ARIMA(1, 1, 1)   Log Likelihood                -109.960\nDate:                Mon, 07 Oct 2024   AIC                            225.920\nTime:                        07:25:11   BIC                            229.807\nSample:                             0   HQIC                           227.076\n                                 - 28                                         \nCovariance Type:                  opg                                         \n==============================================================================\n                 coef    std err          z      P>|z|      [0.025      0.975]\n------------------------------------------------------------------------------\nar.L1         -0.3632      0.807     -0.450      0.653      -1.946       1.219\nma.L1         -0.0020      0.822     -0.002      0.998      -1.612       1.608\nsigma2       200.7407     70.106      2.863      0.004      63.335     338.147\n===================================================================================\nLjung-Box (L1) (Q):                   0.01   Jarque-Bera (JB):                 0.46\nProb(Q):                              0.93   Prob(JB):                         0.79\nHeteroskedasticity (H):               1.00   Skew:                            -0.28\nProb(H) (two-sided):                  1.00   Kurtosis:                         2.70\n===================================================================================\n\nWarnings:\n[1] Covariance matrix calculated using the outer product of gradients (complex-step).\n"
     ]
    },
    {
     "output_type": "stream",
     "name": "stderr",
     "output_type": "stream",
     "text": [
      "/databricks/python/lib/python3.9/site-packages/statsmodels/tsa/base/tsa_model.py:471: ValueWarning: A date index has been provided, but it has no associated frequency information and so will be ignored when e.g. forecasting.\n  self._init_dates(dates, freq)\n/databricks/python/lib/python3.9/site-packages/statsmodels/tsa/base/tsa_model.py:471: ValueWarning: A date index has been provided, but it has no associated frequency information and so will be ignored when e.g. forecasting.\n  self._init_dates(dates, freq)\n/databricks/python/lib/python3.9/site-packages/statsmodels/tsa/base/tsa_model.py:471: ValueWarning: A date index has been provided, but it has no associated frequency information and so will be ignored when e.g. forecasting.\n  self._init_dates(dates, freq)\n"
     ]
    }
   ],
   "source": [
    "from statsmodels.tsa.arima.model import ARIMA\n",
    "host_item_id = \"PMP*14680*2541\" \n",
    "series = df_pandas[df_pandas['HostItemID'] == host_item_id]['Sales']\n",
    "model = ARIMA(series, order=(1, 1, 1))\n",
    "model_fit = model.fit()\n",
    "print(model_fit.summary())"
   ]
  },
  {
   "cell_type": "code",
   "execution_count": 0,
   "metadata": {
    "application/vnd.databricks.v1+cell": {
     "cellMetadata": {
      "byteLimit": 2048000,
      "rowLimit": 10000
     },
     "inputWidgets": {},
     "nuid": "b1f71938-e22d-47a2-b4d0-b205fa98d66b",
     "showTitle": false,
     "title": ""
    }
   },
   "outputs": [
    {
     "output_type": "stream",
     "name": "stdout",
     "output_type": "stream",
     "text": [
      "Forecasted Sales for the next 12 months:\n28    23.462060\n29    22.931084\n30    23.123918\n31    23.053887\n32    23.079320\n33    23.070083\n34    23.073438\n35    23.072219\n36    23.072662\n37    23.072501\n38    23.072560\n39    23.072538\nName: predicted_mean, dtype: float64\n"
     ]
    },
    {
     "output_type": "stream",
     "name": "stderr",
     "output_type": "stream",
     "text": [
      "/databricks/python/lib/python3.9/site-packages/statsmodels/tsa/base/tsa_model.py:834: ValueWarning: No supported index is available. Prediction results will be given with an integer index beginning at `start`.\n  return get_prediction_index(\n"
     ]
    }
   ],
   "source": [
    "forecast = model_fit.forecast(steps=12)\n",
    "print(f\"Forecasted Sales for the next 12 months:\\n{forecast}\")"
   ]
  },
  {
   "cell_type": "code",
   "execution_count": 0,
   "metadata": {
    "application/vnd.databricks.v1+cell": {
     "cellMetadata": {
      "byteLimit": 2048000,
      "rowLimit": 10000
     },
     "inputWidgets": {},
     "nuid": "6ea6bdd4-8baa-427c-b318-4383cfb49542",
     "showTitle": false,
     "title": ""
    }
   },
   "outputs": [
    {
     "output_type": "stream",
     "name": "stdout",
     "output_type": "stream",
     "text": [
      "Mean Absolute Error (MAE): 9.95\nMean Absolute Percentage Error (MAPE): inf%\nRoot Mean Squared Error (RMSE): 13.44\n"
     ]
    }
   ],
   "source": [
    "from sklearn.metrics import mean_absolute_error, mean_squared_error\n",
    "import numpy as np\n",
    "actual_sales = series[-12:].values\n",
    "predicted_sales = forecast \n",
    "mae = mean_absolute_error(actual_sales, predicted_sales)\n",
    "mse = mean_squared_error(actual_sales, predicted_sales)\n",
    "rmse = np.sqrt(mse)\n",
    "mape = np.mean(np.abs((actual_sales - predicted_sales) / actual_sales)) * 100\n",
    "print(f'Mean Absolute Error (MAE): {mae:.2f}')\n",
    "print(f'Mean Absolute Percentage Error (MAPE): {mape:.2f}%')\n",
    "print(f'Root Mean Squared Error (RMSE): {rmse:.2f}')"
   ]
  },
  {
   "cell_type": "code",
   "execution_count": 0,
   "metadata": {
    "application/vnd.databricks.v1+cell": {
     "cellMetadata": {
      "byteLimit": 2048000,
      "rowLimit": 10000
     },
     "inputWidgets": {},
     "nuid": "3548d733-846a-4b34-8431-ee1e2f26e185",
     "showTitle": false,
     "title": ""
    }
   },
   "outputs": [
    {
     "output_type": "stream",
     "name": "stdout",
     "output_type": "stream",
     "text": [
      "Symmetric Mean Absolute Percentage Error (SMAPE): 45.68%\n"
     ]
    }
   ],
   "source": [
    "smape = 100/len(actual_sales) * np.sum(2 * np.abs(predicted_sales - actual_sales) / (np.abs(actual_sales) + np.abs(predicted_sales)))\n",
    "\n",
    "print(f'Symmetric Mean Absolute Percentage Error (SMAPE): {smape:.2f}%')"
   ]
  },
  {
   "cell_type": "code",
   "execution_count": 0,
   "metadata": {
    "application/vnd.databricks.v1+cell": {
     "cellMetadata": {
      "byteLimit": 2048000,
      "rowLimit": 10000
     },
     "inputWidgets": {},
     "nuid": "2d78c43d-67e0-4db9-901c-78304404411d",
     "showTitle": false,
     "title": ""
    }
   },
   "outputs": [
    {
     "output_type": "stream",
     "name": "stderr",
     "output_type": "stream",
     "text": [
      "2024/10/07 07:25:20 WARNING mlflow.models.model: Model logged without a signature and input example. Please set `input_example` parameter when logging the model to auto infer the model signature.\n2024/10/07 07:25:21 INFO mlflow.tracking._tracking_service.client: 🏃 View run adaptable-hog-130 at: https://community.cloud.databricks.com/ml/experiments/781064694264649/runs/360802531d45430884be007f7f48652e.\n2024/10/07 07:25:21 INFO mlflow.tracking._tracking_service.client: 🧪 View experiment at: https://community.cloud.databricks.com/ml/experiments/781064694264649.\n/databricks/python/lib/python3.9/site-packages/statsmodels/tsa/base/tsa_model.py:834: ValueWarning: No supported index is available. Prediction results will be given with an integer index beginning at `start`.\n  return get_prediction_index(\n"
     ]
    },
    {
     "output_type": "display_data",
     "data": {
      "image/png": "[encoded data removed]"
     },
     "metadata": {
      "application/vnd.databricks.v1+output": {
       "addedWidgets": {},
       "arguments": {},
       "data": "data:image/png;base64,iVBORw0KGgoAAAANSUhEUgAAAl4AAAFNCAYAAADRi2EuAAAAOXRFWHRTb2Z0d2FyZQBNYXRwbG90bGliIHZlcnNpb24zLjUuMSwgaHR0cHM6Ly9tYXRwbG90bGliLm9yZy/YYfK9AAAACXBIWXMAAAsTAAALEwEAmpwYAAAtRUlEQVR4nO3de7iVZZ3/8fdXQAlRQUVGJYVMUU6bk4ilqZFmqYkajY0aOs2QTmn26zjlNNbYL+dwjYfqF+OkSWVhmqeaUtOkmkQnUDyEpuJY4ImTICjK6fv7Yz0bN7j3Zm9gPWvtxft1Xetaaz2n9X3uvWV/vO97PU9kJpIkSaq+HWpdgCRJ0vbC4CVJklQSg5ckSVJJDF6SJEklMXhJkiSVxOAlSZJUEoOXtB2LiGci4j21rqORRMSREfHHdtYPjIiMiO5l1iWpPhi8pC4uIo6IiHsjYnlELI2I30XEoTWs55mIWBURK1s89qlVPR0VETMi4m+29jiZ+dvMHNziuNsk3EbExUVgO2yT5WdHxLqinV+OiIci4sQW6zcKehFxbfH+5E2Oc1mx/OxNlh9dLP/81p6DJIOX1KVFxK7Az4BvALsD+wJfAV6vZV3ASZnZu8Xjuc7sbG/QxiIigI8AS4vnTc3MzN5AH+D/AdMjok87h3yi5XGK9v4QMK+VbSe387mSOsngJXVtBwFk5o8yc11mrsrMOzPzYYCIOCAifhURSyJicURc19Yf5IjYISK+EBHziu1/HBG7F+t6RsQPiuXLIuL3EdG/M4VGxE4RcXlEPFc8Lo+InYp1R0fEgoj4fES8AHy3vXqKfZp7+pZFxPzmnpqIOCEiHix6f+ZHxMUt9mn1PCLia8CRwDeLnqNvtlL/tIj4dPF636IX6OMt2nlpUfPREbGgWP59YD/gp8VxP9fikGdExJ+Ln8uXNtN8RwJ7AxcAp0fEjq1tlJnrge8DOwMHtnO8nwJHRETf4v3xwMPAC5uc887AB4GPAwdGxNjN1ClpMwxeUtf2BLCuCAXva/GHtFkAXwf2AQ4B3gpc3MaxzgcmAkcV278EfKtYNxnYrdh/D+BcYFUna/0SMB4YCTQB44CLWqz/Cyq9dvsDU9qrJyL2B35BpaevX3HMOcVxXqHSO9MHOAE4LyImtncemfkl4LfAJ4oeuk+0Uv+vgaOL10cBTwPvavH+t0Xw2SAzzwL+zBs9gP/SYvURwGBgAvDliDiklc9sNplKWPpx8f6k1jaKiG7AOcAa4E/tHO814Fbg9OL9R4DvtbLdqcBK4AbgjqIOSVvB4CV1YZn5MpU/4An8J7AoIm5r7o3KzKcy85eZ+XpmLgL+nUpIaM25wJcyc0Fmvk4loH2wGIZaQyWovL3oWZtdfHZbbil6lJZFxC3FsjOAr2bmwqKWrwBntdhnPfCPRa2rNlPPXwF3FT19azJzSWbOKc55RmY+kpnri56/H7U4586eR0u/ptJLtAOVwPUvwDuLdUcV6zvjK0UP5UPAQ1TC6JtERC9gEvDDzFwD3Mibh/3GR8QyKoHq34AzM3PhZj7/e8BHih7Qo4BbWtlmMnB9Zq4Dfkilt61HB85NUhsMXlIXl5mPZebZmTkAGEald+hygGIYbXpEPBsRLwM/APZs41D7Azc3BybgMWAd0J/K8NUdVOYOPRcR/7KZP8ATM7NP8ZhYLNuHjXth/lQsa7YoM1/rYD1vpfX5SETEYRFxT0QsiojlVAJc8zl39jw2yMx5VHrTRlIZ+vsZ8FxEDGbLglfLYb1Xgd5tbHcKsBb4efH+OuB9EdGvxTb3ZWYfoC9wW1FfuzLzv6n0Fn4J+FkRdjeIiLcCxxSfB5Uesp5UehElbSGDl9RAMvNx4FoqAQzg/1LpDRuembsCZ1IZfmzNfOB9LQJTn8zsmZnPFr1KX8nMIcA7gBPp/GTr56iEqWb7Fcs2lN/Reop1B7TxOT+kEj7empm7AVMpznkz57Hp57fm11TmPO1Y1PFrKr1CfXljqHNTHTlueyZTCWV/Lua/3QD0oNLrt/EHZa4EzgPOiohRHTj2D4BP0/ow41lU/kb8tPjcp6kEL4cbpa1g8JK6sIg4OCI+HREDivdvBT4M3FdssguVOTrLI2Jf4LPtHG4q8LVi/hQR0S+KSw5ExDERMbyYQ/QylSG79W0fqlU/Ai4qjrsn8GUqf/g7XQ+VXpj3RMSHIqJ7ROwRESNbnPPSzHwtIsbRIqBs5jxeBN62mXP4NfAJ4DfF+xnF+/8uhuNa05Hjtqr4mU2gEhBH8sb8uH+mjeCbmUuB71Bp3825EjiWN86npclUhoNHtnicBrw/Ivbo6DlI2pjBS+raVgCHAfdHxCtUAtejVHoxoPKHczSwHPgv4KZ2jnUFlZ6iOyNiRXGs5mtG/QWVuUUvUxny+zWVYbvOuASYReXbc48ADxTLOl1PZv4ZeD+V81xKpbepeY7U3wFfLfb5Mm9MSN/ceVxBZQ7ZSxFxZRs1/ZpKsGsOKv8N9KL14NLs61QC57KI+Ew727XmLGBO8U3VF5ofVALTiIgY1sZ+l1MJSCPaO3hmLs3MuzNzo165iBhPpXfyWy0/NzNvA56iEu4lbYHY5L83SZIkVYk9XpIkSSUxeEmSJJXE4CVJklQSg5ckSVJJDF6SJEkl6V7rAjpizz33zIEDB9a6DEmSpM2aPXv24szs19q6LhG8Bg4cyKxZs2pdhiRJ0mZFRJs3qXeoUZIkqSQGL0mSpJIYvCRJkkrSJeZ4tWbNmjUsWLCA1157rdalaBvr2bMnAwYMoEePHrUuRZKkbarLBq8FCxawyy67MHDgQCKi1uVoG8lMlixZwoIFCxg0aFCty5EkaZvqskONr732GnvssYehq8FEBHvssYc9mZKkhtRlgxdg6GpQ/lwlSY2qqsErIvpExI0R8XhEPBYRh0fE7hHxy4h4snjuW80aqql3794bvb/22mv5xCc+AcDUqVP53ve+1+a+M2bM4N577+30Z952221ceumlnd4PKtdDW7x48ZuWX3PNNQwfPpwRI0YwbNgwbr311naPc/HFF/Nv//ZvW1SDJEnbs2rP8boCuD0zPxgROwK9gC8Cd2fmpRHxBeALwOerXEfpzj333HbXz5gxg969e/OOd7yjw8dcu3YtH/jAB/jABz6wteVtsGDBAr72ta/xwAMPsNtuu7Fy5UoWLVq0zY4vSZLeULUer4jYDXgXcDVAZq7OzGXAycC0YrNpwMRq1VBLLXuFrrzySoYMGcKIESM4/fTTeeaZZ5g6dSqXXXYZI0eO5Le//S3PPPMM7373uxkxYgQTJkzgz3/+MwBnn3025557Locddhif+9znNupVe/HFFznllFNoamqiqalpQw/axIkTGTNmDEOHDuWqq65qt86FCxeyyy67bOi9692794ZJ7f/5n//JoYceSlNTE6eddhqvvvrqm/afN28exx9/PGPGjOHII4/k8ccfB+CGG25g2LBhNDU18a53vWsbtKgkaXuzejXcfXetq9i2qtnjNQhYBHw3IpqA2cAngf6Z+XyxzQtA/9Z2jogpwBSA/fbbr4plbrlVq1YxcuTIDe+XLl3aam/UpZdeyv/+7/+y0047sWzZMvr06cO5555L7969+cxnPgPASSedxOTJk5k8eTLXXHMNF1xwAbfccgtQ6ZW699576datG9dee+2G415wwQUcddRR3Hzzzaxbt46VK1cClaHD3XffnVWrVnHooYdy2mmnsccee7R6Dk1NTfTv359BgwYxYcIETj31VE466SQATj31VP72b/8WgIsuuoirr76a888/f6P9p0yZwtSpUznwwAO5//77+bu/+zt+9atf8dWvfpU77riDfffdl2XLlm1J80qStnO/+AVMnAgPPggt/tx2adUMXt2B0cD5mXl/RFxBZVhxg8zMiMjWds7Mq4CrAMaOHdvqNs0uvBDmzNkWJb9h5Ei4/PL2t3nLW97CnBYffO2117Z6T8kRI0ZwxhlnMHHiRCZOnNjqsWbOnMlNN90EwFlnncXnPve5DesmTZpEt27d3rTPr371qw3zyLp168Zuu+0GVHrYbr75ZgDmz5/Pk08+2Wbw6tatG7fffju///3vufvuu/nUpz7F7Nmzufjii3n00Ue56KKLWLZsGStXruS9733vRvuuXLmSe++9l0mTJm1Y9vrrrwPwzne+k7PPPpsPfehDnHrqqa1+tiRJ7Wn+gvusWY0TvKo5uX4BsCAz7y/e30gliL0YEXsDFM8Lq1hDXfiv//ovPv7xj/PAAw9w6KGHsnbt2k7tv/POO3d42xkzZnDXXXcxc+ZMHnroIUaNGrXZSzNEBOPGjePv//7vmT59Oj/5yU+AyjDnN7/5TR555BH+8R//8U3HWb9+PX369GHOnDkbHo899hhQ+XLBJZdcwvz58xkzZgxLlizp1DlLktTsgQdqXcG2U7Uer8x8ISLmR8TgzPwjMAGYWzwmA5cWz+1/ha4DNtczVUvr169n/vz5HHPMMRxxxBFMnz6dlStXsssuu/Dyyy9v2O4d73gH06dP56yzzuK6667jyCOP3OyxJ0yYwLe//W0uvPDCDUONy5cvp2/fvvTq1YvHH3+c++67r91jPPfcc7zwwguMHj0agDlz5rD//vsDsGLFCvbee2/WrFnDddddx7777rvRvrvuuiuDBg3ihhtuYNKkSWQmDz/8ME1NTcybN4/DDjuMww47jF/84hfMnz+/zV43SZLa8+CDta5g26n2txrPB64rvtH4NHAOlV62H0fER4E/AR+qcg01tW7dOs4880yWL19OZnLBBRfQp08fTjrpJD74wQ9y66238o1vfINvfOMbnHPOOfzrv/4r/fr147vf/e5mj33FFVcwZcoUrr76arp168a3v/1tjj/+eKZOncohhxzC4MGDGT9+fLvHWLNmDZ/5zGd47rnn6NmzJ/369WPq1KkA/NM//ROHHXYY/fr147DDDmPFihVv2v+6667jvPPO45JLLmHNmjWcfvrpNDU18dnPfpYnn3ySzGTChAk0NTVtWQNKkrZ7Dz0E69ZBK7NuupzIbHf6VF0YO3Zsbjp36rHHHuOQQw6pUUWqNn++kqTrr4fTT6+8/sMfYMiQ2tbTURExOzPHtrauS1+5XpIkbR8aZbjR4CVJkupeo0ywN3hJkqS6tuuu9nhJkiSVYuTISvDqAtPSN8vgJUmS6tqoUbBsGTzzTK0r2XoGL0mSVNeKS002xHCjwWsrdOvWjZEjR254PFMnUfzyyy9v9YbW7ZkxYwYnnnjim5a/+uqrnHHGGQwfPpxhw4ZxxBFHbLgnZFsGDhzI4sWLO/X5kiS1ZfjwyjW8GiF4VfsCqg1t03s1dtTatWvp3r16TX/55Zdz5pln0qtXr60+1hVXXEH//v155JFHAPjjH/9Ijx49tvq4kiR1VM+ecMghjfHNRnu8trE5c+Ywfvx4RowYwSmnnMJLL70EwNFHH82FF17I2LFjueKKK5g9ezZHHXUUY8aM4b3vfS/PP/88AE899RTvec97aGpqYvTo0cybN4+VK1cyYcIERo8ezfDhw7n11spdll555RVOOOEEmpqaGDZsGNdffz1XXnklzz33HMcccwzHHHMMAHfeeSeHH344o0ePZtKkSRt6rG6//XYOPvhgRo8eveEG3Zt6/vnnN7pV0ODBg9lpp50AmDhxImPGjGHo0KFcddVVre7/gx/8gHHjxjFy5Eg+9rGPsW7dOtatW8fZZ5/NsGHDGD58OJdddtk2aHlJUiMbPboxerzIzLp/jBkzJjc1d+7cNy0r2w477JBNTU3Z1NSUEydOzMzM4cOH54wZMzIz8x/+4R/yk5/8ZGZmHnXUUXneeedlZubq1avz8MMPz4ULF2Zm5vTp0/Occ87JzMxx48blTTfdlJmZq1atyldeeSXXrFmTy5cvz8zMRYsW5QEHHJDr16/PG2+8Mf/mb/5mQz3Lli3LzMz9998/Fy1atGH7I488MleuXJmZmZdeeml+5StfyVWrVuWAAQPyiSeeyPXr1+ekSZPyhBNOeNM5Pvjgg9mvX78cP358fulLX8onnnhiw7olS5ZkZuarr76aQ4cOzcWLF2/0+XPnzs0TTzwxV69enZmZ5513Xk6bNi1nzZqV73nPezYc56WXXnrT59bDz1eSVFvTp2dC5ty5mZddVnn9/PO1rmrzgFnZRqZpjKHG2RfCS3O27TH7joQxl7e7yaZDjcuXL2fZsmUcddRRAEyePJlJkyZtWP+Xf/mXQGW47tFHH+XYY48FKvdz3HvvvVmxYgXPPvssp5xyCgA9e/YEKvdT/OIXv8hvfvMbdthhB5599llefPFFhg8fzqc//Wk+//nPc+KJJ7Z6Y+377ruPuXPn8s53vhOA1atXc/jhh/P4448zaNAgDjzwQADOPPPMVnutRo4cydNPP82dd97JXXfdxaGHHsrMmTM55JBDuPLKK7n55psBmD9/Pk8++eRGN8K+++67mT17NoceeigAq1atYq+99uKkk07i6aef5vzzz+eEE07guOOOa7edJUkaNary/OCD8L731baWrdEYwauL2HnnnYFKL+PQoUOZOXPmRutbuwk1VG5EvWjRImbPnk2PHj0YOHAgr732GgcddBAPPPAAP//5z7nooouYMGECX/7ylzfaNzM59thj+dGPfrTR8s7MTevduzennnoqp556KjvssAM///nPefHFF7nrrruYOXMmvXr14uijj+a1115702dPnjyZr3/962865kMPPcQdd9zB1KlT+fGPf8w111zT4XokSdufkSMrzwaverCZnqmy7LbbbvTt25ff/va3HHnkkXz/+9/f0PvV0uDBg1m0aBEzZ87k8MMPZ82aNTzxxBMMHTqUAQMGcMsttzBx4kRef/111q1bx/Lly9lrr73o0aMH99xzD3/6058AeO6559h9990588wz6dOnD9/5zncA2GWXXVixYgV77rkn48eP5+Mf/zhPPfUUb3/723nllVd49tlnOfjgg3nmmWeYN28eBxxwwJuCWbPf/e53DBkyhL59+7J69Wrmzp3L0UcfzfLly+nbty+9evXi8ccf57777nvTvhMmTODkk0/mU5/6FHvttRdLly5lxYoV7Lzzzuy4446cdtppDB48mDPPPHMb/hQkSY1ot93ggAO6/jyvxghedWTatGmce+65vPrqq7ztbW/ju9/97pu22XHHHbnxxhu54IILWL58OWvXruXCCy9k6NChfP/73+djH/sYX/7yl+nRowc33HADZ5xxBieddBLDhw9n7NixHHzwwQA88sgjfPazn2WHHXagR48efPvb3wZgypQpHH/88eyzzz7cc889XHvttXz4wx/m9ddfB+CSSy7hoIMO4qqrruKEE06gV69eHHnkka32uM2bN4/zzjuPzGT9+vWccMIJnHbaaaxevZqpU6dyyCGHMHjwYMaPH/+mfYcMGcIll1zCcccdx/r16+nRowff+ta3eMtb3sI555zD+vXrAVrtEZMkaVOjRnX9bzZGdoHr748dOzZnzZq10bLHHnuMQw45pEYVqdr8+UqSrr8eTj8d5s6tXE7i61+HL34RXnoJ+vSpdXVti4jZmTm2tXVeTkKSJHUJzRPst+ASmnXD4CVJkrqElt9s7KoMXpIkqUvo3x/22cfgVTNdYX6aOs+fqySpLV19gn2XDV49e/ZkyZIl/pFuMJnJkiVLNlw8VpKklkaNgscfh1Wral3Jlumyl5MYMGAACxYsYNGiRbUuRdtYz549GTBgQK3LkCTVodGjYd06eOQRGDeu1tV0XpcNXj169GDQoEG1LkOSJJWoeYL9Aw90zeDVZYcaJUnS9mf//aFv3647wd7gJUmSuoyISq+XwUuSJKkEo0bBww/DmjW1rqTzDF6SJKlLGTUKXn+98u3GrsbgJUmSupTRoyvPXXG40eAlSZK6lIMOgl69uuaFVA1ekiSpS+nWDUaMsMdLkiSpFKNHw5w5sH59rSvpHIOXJEnqckaNgpdfhqefrnUlnWPwkiRJXU7zFey72nBjVYNXRDwTEY9ExJyImFUs2z0ifhkRTxbPfatZgyRJajzDhkH37l1vgn0ZPV7HZObIzBxbvP8CcHdmHgjcXbyXJEnqsJ12gqFD7fHqiJOBacXracDEGtQgSZK6uFGjKj1emR3b/vnnq1tPR1Q7eCVwZ0TMjogpxbL+mdl86i8A/atcgyRJakCjR8OiRfDcc5vfduZM2HdfeOqp6tfVnu5VPv4RmflsROwF/DIiNrq4f2ZmRLSaU4ugNgVgv/32q3KZkiSpq2k5wX7ffdvf9sknKz1jS5dWv672VLXHKzOfLZ4XAjcD44AXI2JvgOJ5YRv7XpWZYzNzbL9+/apZpiRJ6oKamiCiY/O8liypfj0dUbXgFRE7R8Quza+B44BHgduAycVmk4Fbq1WDJElqXLvsAgce2LFvNi5eXP16OqKaQ439gZsjovlzfpiZt0fE74EfR8RHgT8BH6piDZIkqYGNGgX33bf57Ro+eGXm00BTK8uXABOq9bmSJGn7MWoUXH99Ze7W7ru3vV29BC+vXC9Jkrqs0aMrz5ub59Xwc7wkSZKqraO3DrLHS5IkaSvtuScMGAAPPdT+dgYvSZKkbWD33WHlyrbXZzrUKEmSVIqXX4a1a2tdRYXBS5IkNbR6GWYEg5ckSWpwBi9JkqSSGLwkSZJKUi8T68HgJUmSGpw9XpIkSSUxeEmSJJXE4CVJklQS53hJkiSVxB4vSZKkkixeDD171rqKCoOXJElqaIsXQ79+ta6iwuAlSZIaVvMNsvfYo9aVVBi8JElSw1q+HNatgz33rHUlFQYvSZLUsJon1hu8JEmSqszgJUmSVJLma3g5x0uSJKnK7PGSJEkqicFLkiSpJIsXQ/fusMsuta6kwuAlSZIa1pIlld6uiFpXUmHwkiRJDWvx4voZZgSDlyRJamAGL0mSpJIsXlw/l5IAg5ckSWpgzXO86oXBS5IkNaT16w1ekiRJpai3G2SDwUuSJDWoertdEJQQvCKiW0Q8GBE/K94Pioj7I+KpiLg+Inasdg2SJGn7U29XrYdyerw+CTzW4v0/A5dl5tuBl4CPllCDJEnazmx3wSsiBgAnAN8p3gfwbuDGYpNpwMRq1iBJkrZP213wAi4HPgesL97vASzLzLXF+wXAvlWuQZIkbYe2qzleEXEisDAzZ2/h/lMiYlZEzFq0aNE2rk6SJDW6xYuhR4/6uUE2VLfH653AByLiGWA6lSHGK4A+EdG92GYA8GxrO2fmVZk5NjPH9uvXr4plSpKkRtR8u6B6uUE2VDF4ZebfZ+aAzBwInA78KjPPAO4BPlhsNhm4tVo1SJKk7Ve93acRanMdr88D/ycinqIy5+vqGtQgSZLq3C23VJ6feGLL9l+ypL7mdwF03/wmWy8zZwAzitdPA+PK+FxJktR1vf565Xndui3bf/FiGDp029WzLXjlekmS1JAcapQkSSpB8w2y622o0eAlSZIazvLllfBlj5ckSVKV1eNV68HgJUmSGpDBS5IkqSTNwcs5XpIkSVXWfJ9Ge7wkSZKqzKFGSZKkkixeDDvuCL1717qSjRm8JElSw1m8uDK/q55ukA0GL0mS1ICWLKm/YUYweEmSpAZUj7cLAoOXJElqQAYvSZKkkjTP8ao3Bi9JktRQ1q+HpUvt8ZIkSaq6Zcvq8wbZYPCSJEkNpl4vngoGL0mS1GDq9T6NYPCSJEl1au3aLduvXu/TCAYvSZJUp37608rz737Xuf0capQkSdpCL77Yue0dapQkSSrJkiX1eYNsMHhJkqQG03zV+nq7QTYYvCRJUoOp19sFwRYEr4jYISJ2rUYxkiRJW6tebxcEHQxeEfHDiNg1InYGHgXmRsRnq1uaJElS5y1Z0vV7vIZk5svAROAXwCDgrGoVJUmStKUaYaixR0T0oBK8bsvMNUBWrSpJkqQtsG5d/d4gGzoevP4DeAbYGfhNROwPvFytoiRJkrZE8w2y63WOV/eObJSZVwJXtlj0p4g4pjolSZIkbZl6vl0QdHxyff+IuDoiflG8HwJMrmplkiRJnVTPtwuCjg81XgvcAexTvH8CuLAK9UiSJG2xRglee2bmj4H1AJm5FljX3g4R0TMi/iciHoqIP0TEV4rlgyLi/oh4KiKuj4gdt+oMJEmSCvV8n0boePB6JSL2oPgmY0SMB5ZvZp/XgXdnZhMwEji+2O+fgcsy8+3AS8BHt6RwSZKkTTXEHC/g/wC3AQdExO+A7wHnt7dDVqws3vYoHgm8G7ixWD6NyiUqJEmSttrixbDTTrDzzrWupHUd/VbjAxFxFDAYCOCPxbW82hUR3YDZwNuBbwHzgGXFUCXAAmDfLSlckiRpU/V8g2zYTPCKiFPbWHVQRJCZN7W3f2auA0ZGRB/gZuDgjhYWEVOAKQD77bdfR3eTJEnbsXq+TyNsvsfrpHbWJdBu8NqwYeayiLgHOBzoExHdi16vAcCzbexzFXAVwNixY71KviRJ2qx6vk8jbCZ4ZeY5W3rgiOgHrClC11uAY6lMrL8H+CAwncq1wG7d0s+QJElqafFiaGqqdRVt69AcL4CIOAEYCvRsXpaZX21nl72BacU8rx2AH2fmzyJiLjA9Ii4BHgSu3qLKJUmSNtHVhxoBiIipQC/gGOA7VHqs/qe9fTLzYWBUK8ufBsZ1ulJJkqR21PsNsqHjl5N4R2Z+BHgpM79CZa7WQdUrS5IkqXOWLYPMxgheq4rnVyNiH2AtlaFESZKkulDvtwuCjs/x+llxSYh/oXJdLqgMOUqSJNWF9m4X1LzutdfKq6c17fZ4RcShEfEXmflPmbkM6A08AtwAXFZCfZIkSR3SXo/XV4uvA15zTXn1tGZzQ43/AawGiIh3AZcWy5ZTXGNLkiSpHrR3n8b16zd+rpXNDTV2y8ylxeu/BK7KzJ8AP4mIOVWtTJIkqRO6whyvzfV4dYuI5nA2AfhVi3UdvgaYJEnSlsoO3r+m+QbZvXpVt56tsbnw9CPg1xGxmMo3G38LEBFvpzLcKEmSVFW3396x7er9Btmw+VsGfS0i7qZy6Yg7Mzdkzh2A86tdnCRJ0qpVm98G6v8+jdCB4cLMvK+VZU9UpxxJkqQt09zjVc86egFVSZKkulbv92kEg5ckSWoQXWGo0eAlSZK6vK5wg2wweEmSpAbw0kv1f4Ns8FpckiSpi3vsMdhxx8rrep/jZfCSJEld2po1lQfUf4+XQ42SJKlhGLwkSZJKUu9DjQYvSZLUMOzxkiRJKkHPnvV9g2wweEmSpAZR7zfIBoNXxZwvwq2Dal2FJEnaCvU+vwsMXhVLZ8Mrz8DrS2pdiSRJ2kL1Pr8LDF4VL9xZeX75j7WtQ5IkbTGDV1fx7l9C35HQt6nWlUiSpC3UFYKXV64H+Iv3wPserHUVkiRpKzjHS5IkqSRdocfL4CVJkupat24d287gJUmStJVOPLFj27UXvPbbr/Lcr9/W17M1DF6SJKmudbTHq705XsOGVZ4H1fiynQYvSZLUEBxqlCRJKsl2Hbwi4q0RcU9EzI2IP0TEJ4vlu0fELyPiyeK5b7VqkCRJ2496v0E2VLfHay3w6cwcAowHPh4RQ4AvAHdn5oHA3cV7SZKkhle14JWZz2fmA8XrFcBjwL7AycC0YrNpwMRq1SBJklRPSpnjFREDgVHA/UD/zHy+WPUC0L+MGiRJkmqt6sErInoDPwEuzMyXW67LzASyjf2mRMSsiJi1aNGiapcpSZJUdVUNXhHRg0roui4zbyoWvxgRexfr9wYWtrZvZl6VmWMzc2y/Wl/tTJIkaRuo5rcaA7gaeCwz/73FqtuAycXrycCt1apBkiSpnnSv4rHfCZwFPBIRc4plXwQuBX4cER8F/gR8qIo1SJIk1Y2qBa/M/G8g2lg9oVqfK0mSGsu4cbWuYNvxyvWSJKkunXJK5XnAgNrWsS0ZvCRJkkpi8JIkSSqJwUuSJKkkBi9JkqSSGLwkSZJKYvCSJEkqicFLkiSpJAYvSZKkkhi8JEmSSmLwkiRJKonBS5IkqSQGL0mSpJIYvCRJkkpi8JIkSSqJwUuSJKkkBi9JkqSSGLwkSZJKYvCSJEkqicFLkiSpJAYvSZKkkhi8JEmSSmLwkiRJKonBS5IkqSQGL0mSpJIYvCRJkkpi8JIkSSqJwUuSJKkkBi9JkqSSGLwkSZJKYvCSJEkqicFLkiSpJFULXhFxTUQsjIhHWyzbPSJ+GRFPFs99q/X5kiRJ9aaaPV7XAsdvsuwLwN2ZeSBwd/FekiRpu1C14JWZvwGWbrL4ZGBa8XoaMLFany9JklRvyp7j1T8zny9evwD0L/nzJUmSaqZmk+szM4Fsa31ETImIWRExa9GiRSVWJkmSGs3xxeSnI46obR1lB68XI2JvgOJ5YVsbZuZVmTk2M8f269evtAIlSVLjOfFEyISRI2tbR9nB6zZgcvF6MnBryZ8vSZJUM9W8nMSPgJnA4IhYEBEfBS4Fjo2IJ4H3FO8lSZK2C92rdeDM/HAbqyZU6zMlSZLqmVeulyRJKonBS5IkqSQGL0mSpJIYvCRJkkpi8JIkSSqJwUuSJKkkBi9JkqSSGLwkSZJKYvCSJEkqicFLkiSpJAYvSZKkkhi8JEmSSmLwkiRJKonBS5IkqSQGL0mSpJIYvCRJkkpi8JIkSSqJwUuSJKkkBi9JkqSSGLwkSZJKYvCSJEkqicFLkiSpJAYvSZKkkhi8JEmSSmLwkiRJKonBS5IkqSQGL0mSpJIYvCRJkkpi8JIkSSqJwUuSJKkkBi9JkqSSGLwkSZJKYvCSJEkqSU2CV0QcHxF/jIinIuILtahBkiSpbKUHr4joBnwLeB8wBPhwRAwpuw5JkqSy1aLHaxzwVGY+nZmrgenAyTWoQ5IkqVS1CF77AvNbvF9QLNtIREyJiFkRMWvRokWlFSdJkurD8OGV57e9rbZ1bEt1O7k+M6/KzLGZObZfv361LkeSJJXs4ovh8cdh5Mj2t3vhBVi6tIyKtl73Gnzms8BbW7wfUCyTJEnaIAIGD978dv37V7+WbaUWPV6/Bw6MiEERsSNwOnBbDeqQJEkqVek9Xpm5NiI+AdwBdAOuycw/lF2HJElS2Wox1Ehm/hz4eS0+W5IkqVbqdnK9JElSozF4SZIklcTgJUmSVBKDlyRJUkkMXpIkSSUxeEmSJJXE4CVJklSSyMxa17BZEbEI+FMVP2JPYHEVj6/22f61Y9vXjm1fW7Z/7WwPbb9/ZrZ6o+kuEbyqLSJmZebYWtexvbL9a8e2rx3bvrZs/9rZ3tveoUZJkqSSGLwkSZJKYvCquKrWBWznbP/ase1rx7avLdu/drbrtneOlyRJUkns8ZIkSSpJwwaviLgmIhZGxKMtljVFxMyIeCQifhoRuxbLz4iIOS0e6yNiZLFuTLH9UxFxZUREjU6py+hk2/eIiGnF8sci4u9b7HN8RPyxaPsv1OJcuqJOtv+OEfHdYvlDEXF0i3383e+kiHhrRNwTEXMj4g8R8cli+e4R8cuIeLJ47lssj6Jtn4qIhyNidItjTS62fzIiJtfqnLqKLWj7g4v/Jl6PiM9sciz/7emELWj7M4rf90ci4t6IaGpxrMZv+8xsyAfwLmA08GiLZb8Hjipe/zXwT63sNxyY1+L9/wDjgQB+Abyv1udW74/OtD3wV8D04nUv4BlgINANmAe8DdgReAgYUutz6wqPTrb/x4HvFq/3AmYDOxTv/d3vfNvvDYwuXu8CPAEMAf4F+EKx/AvAPxev31+0bRRtfX+xfHfg6eK5b/G6b63Pr54fW9D2ewGHAl8DPtPiOP7bU/22f0fz7zPwvha/99tF2zdsj1dm/gZYusnig4DfFK9/CZzWyq4fBqYDRMTewK6ZeV9Wfiu+B0ysSsENpJNtn8DOEdEdeAuwGngZGAc8lZlPZ+ZqKj+Tk6tdeyPoZPsPAX5V7LcQWAaM9Xd/y2Tm85n5QPF6BfAYsC+V391pxWbTeKMtTwa+lxX3AX2Ktn8v8MvMXJqZL1H5mR1f3pl0PZ1t+8xcmJm/B9Zscij/7emkLWj7e4vfa4D7gAHF6+2i7Rs2eLXhD7zxQ5wEvLWVbf4S+FHxel9gQYt1C4pl6ry22v5G4BXgeeDPwL9l5lIq7Ty/xf62/dZpq/0fAj4QEd0jYhAwpljn7/5WioiBwCjgfqB/Zj5frHoB6F+8buv33N//rdDBtm+Lbb8VtqDtP0ql1xe2k7bf3oLXXwN/FxGzqXSHrm65MiIOA17NzEdb21lbpa22HwesA/YBBgGfjoi31abEhtZW+19D5R+3WcDlwL1Ufh7aChHRG/gJcGFmvtxyXdGD6NfJq8S2r53Otn1EHEMleH2+tCLrQPdaF1CmzHwcOA4gIg4CTthkk9N5o7cL4Fne6AKleP1sNWtsVO20/V8Bt2fmGmBhRPwOGEvl/3pa9kja9luhrfbPzLXAp5q3i4h7qczPeAl/97dIRPSg8sfnusy8qVj8YkTsnZnPF0OJC4vlz9L67/mzwNGbLJ9RzbobQSfbvi1t/UzUjs62fUSMAL5DZe7okmLxdtH221WPV0TsVTzvAFwETG2xbgfgQxTzu6Aybg28HBHji290fQS4tdSiG0Q7bf9n4N3Fup2pTDB+nMpk8AMjYlBE7EglFN9Wdt2Noq32j4heRbsTEccCazNzrr/7W6Zoq6uBxzLz31usug1o/mbiZN5oy9uAjxTfbhwPLC/a/g7guIjoW3wT7LhimdqwBW3fFv/t6aTOtn1E7AfcBJyVmU+02H77aPtaz+6v1oNKz9XzVCZOLqDSnflJKv83/wRwKcUFZIvtjwbua+U4Y4FHqXzT4pst9/Gx9W0P9AZuoDIHaS7w2RbHeX+x/TzgS7U+r67y6GT7DwT+SGUy7F3A/i2O4+9+59v+CCrDKQ8Dc4rH+4E9gLuBJ4t23r3YPoBvFW38CDC2xbH+GniqeJxT63Or98cWtP1fFP99vEzlSyULqHyhxH97qt/236HSq9687awWx2r4tvfK9ZIkSSXZroYaJUmSasngJUmSVBKDlyRJUkkMXpIkSSUxeEmSJJXE4CWpoUTEuoiYExF/iIiHIuLTxfXL2ttnYET8VVk1Stp+GbwkNZpVmTkyM4cCxwLvA/5xM/sMpHIXBUmqKq/jJamhRMTKzOzd4v3bqFwRe09gf+D7wM7F6k9k5r0RcR9wCPC/wDTgSioXmj0a2An4Vmb+R2knIalhGbwkNZRNg1exbBkwGFgBrM/M1yLiQOBHmTk2Io4GPpOZJxbbTwH2ysxLImIn4HfApMz83xJPRVID2q5uki1pu9cD+GZEjATWAQe1sd1xwIiI+GDxfjfgQCo9YpK0xQxekhpaMdS4DlhIZa7Xi0ATlTmur7W1G3B+ZnpjaknblJPrJTWsiOgHTAW+mZV5FbsBz2fmeuAsoFux6Qpglxa73gGcFxE9iuMcFBE7I0lbyR4vSY3mLRExh8qw4loqk+n/vVj3/4CfRMRHgNuBV4rlDwPrIuIh4FrgCirfdHwgIgJYBEwsp3xJjczJ9ZIkSSVxqFGSJKkkBi9JkqSSGLwkSZJKYvCSJEkqicFLkiSpJAYvSZKkkhi8JEmSSmLwkiRJKsn/B5X+MZhWEbI/AAAAAElFTkSuQmCC\n",
       "datasetInfos": [],
       "metadata": {},
       "removedWidgets": [],
       "type": "image"
      }
     },
     "output_type": "display_data"
    }
   ],
   "source": [
    "import mlflow\n",
    "import mlflow.statsmodels\n",
    "import matplotlib.pyplot as plt\n",
    "with mlflow.start_run() as run:\n",
    "    \n",
    "    mlflow.log_param(\"ARIMA_order\", (1, 1, 1))\n",
    "    \n",
    "    mlflow.log_metric(\"MAE\", mae)\n",
    "    mlflow.log_metric(\"SMAPE\", smape)\n",
    "    mlflow.log_metric(\"RMSE\", rmse)\n",
    "    \n",
    "    mlflow.log_text(model_fit.summary().as_text(), \"model_summary.txt\")\n",
    "    \n",
    "    plt.figure(figsize=(10, 5))\n",
    "    plt.plot(series, label='Historical Sales', color='blue')\n",
    "    plt.plot(forecast.index, forecast, label='Forecasted Sales', color='orange')\n",
    "    plt.title('Sales Forecast with ARIMA')\n",
    "    plt.xlabel('Date')\n",
    "    plt.ylabel('Sales')\n",
    "    plt.legend()\n",
    "    plt.savefig(\"arima_forecast_plot.png\")\n",
    "    \n",
    "    mlflow.log_artifact(\"arima_forecast_plot.png\")\n",
    "    \n",
    "    mlflow.statsmodels.log_model(model_fit, artifact_path=\"arima_model\")\n",
    "\n",
    "run_id = run.info.run_id\n",
    "model_uri = f\"runs:/{run_id}/arima_model\"\n",
    "\n",
    "loaded_model = mlflow.statsmodels.load_model(model_uri)\n",
    "\n",
    "forecast_loaded = loaded_model.forecast(steps=12)\n",
    "\n",
    "assert (forecast == forecast_loaded).all(), \"Forecasts do not match!\""
   ]
  }
 ],
 "metadata": {
  "application/vnd.databricks.v1+notebook": {
   "dashboards": [],
   "environmentMetadata": null,
   "language": "python",
   "notebookMetadata": {
    "pythonIndentUnit": 4
   },
   "notebookName": "DF ARIMA",
   "widgets": {}
  }
 },
 "nbformat": 4,
 "nbformat_minor": 0
}
