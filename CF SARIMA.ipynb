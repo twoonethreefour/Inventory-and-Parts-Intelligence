{
 "cells": [
  {
   "cell_type": "code",
   "execution_count": 0,
   "metadata": {
    "application/vnd.databricks.v1+cell": {
     "cellMetadata": {},
     "inputWidgets": {},
     "nuid": "09f70b85-cf6a-48a0-91fe-700c7a63f002",
     "showTitle": false,
     "title": ""
    }
   },
   "outputs": [],
   "source": [
    "dbfs:/FileStore/shared_uploads/podurikarthikeya69@gmail.com/cf_sarimas.csv"
   ]
  },
  {
   "cell_type": "code",
   "execution_count": 0,
   "metadata": {
    "application/vnd.databricks.v1+cell": {
     "cellMetadata": {
      "byteLimit": 2048000,
      "rowLimit": 10000
     },
     "inputWidgets": {},
     "nuid": "3e871227-6287-4d21-b3ac-6ab62f92c7de",
     "showTitle": false,
     "title": ""
    }
   },
   "outputs": [],
   "source": [
    "from pyspark.sql import SparkSession\n",
    "spark = SparkSession.builder \\\n",
    "    .appName(\"Cost Forecasting with SARIMA\") \\\n",
    "    .getOrCreate()"
   ]
  },
  {
   "cell_type": "code",
   "execution_count": 0,
   "metadata": {
    "application/vnd.databricks.v1+cell": {
     "cellMetadata": {
      "byteLimit": 2048000,
      "rowLimit": 10000
     },
     "inputWidgets": {},
     "nuid": "848d6a50-669e-40db-9493-145a895f8a24",
     "showTitle": false,
     "title": ""
    }
   },
   "outputs": [
    {
     "output_type": "stream",
     "name": "stdout",
     "output_type": "stream",
     "text": [
      "+--------------+------+------+------+------------+------------+--------------+----------+----------------+----------------+------------------------+----+---------+-----+-----+-----------+---------------------+-------------------------+\n|    HostItemID|  Cost|  List|OnHand|MonthsNoSale|LastSaleDate|PriorYearSales|OnOrderQty|BestReorderPoint|SafetyStockLevel|MonthsWithAtLeastOneSale|Year|    Month|Sales|Lag_1|HolidayFlag|InventoryDiff_Reorder|InventoryDiff_SafetyStock|\n+--------------+------+------+------+------------+------------+--------------+----------+----------------+----------------+------------------------+----+---------+-----+-----+-----------+---------------------+-------------------------+\n|PMP*14680*2541|381.96|873.72|   184|          17|  2021-04-17|           217|        62|              74|              39|                       8|2021|  January|   39|  NaN|          0|                  110|                       70|\n|PMP*14680*2541| 385.0|873.72|   184|          17|  2021-04-17|           217|        62|              74|              39|                       8|2021| February|   39| 39.0|          0|                   90|                       50|\n|PMP*14680*2541| 390.5|873.72|   184|          17|  2021-04-17|           217|        62|              74|              39|                       8|2021|    March|   22| 39.0|          0|                   60|                       40|\n|PMP*14680*2541|395.75|873.72|   184|          17|  2021-04-17|           217|        62|              74|              39|                       8|2021|    April|   34| 22.0|          0|                   50|                       30|\n|PMP*14680*2541| 400.0|873.72|   184|          17|  2021-04-17|           217|        62|              74|              39|                       8|2021|      May|    0| 34.0|          1|                   40|                       20|\n|PMP*14680*2541|405.25|873.72|   184|          17|  2021-04-17|           217|        62|              74|              39|                       8|2021|     June|   27|  0.0|          0|                   30|                       15|\n|PMP*14680*2541| 410.5|873.72|   184|          17|  2021-04-17|           217|        62|              74|              39|                       8|2021|     July|   21| 27.0|          0|                   20|                       10|\n|PMP*14680*2541|415.75|873.72|   184|          17|  2021-04-17|           217|        62|              74|              39|                       8|2021|   August|   19| 21.0|          0|                   10|                        8|\n|PMP*14680*2541| 420.0|873.72|   184|          17|  2021-04-17|           217|        62|              74|              39|                       8|2021|September|   30| 19.0|          0|                    5|                        5|\n|PMP*14680*2541| 425.5|873.72|   184|          17|  2021-04-17|           217|        62|              74|              39|                       8|2021|  October|   40| 30.0|          0|                   12|                        9|\n|PMP*14680*2541| 430.0|873.72|   184|          17|  2021-04-17|           217|        62|              74|              39|                       8|2021| November|   50| 40.0|          1|                   20|                       15|\n|PMP*14680*2541|435.25|873.72|   184|          17|  2021-04-17|           217|        62|              74|              39|                       8|2021| December|   60| 50.0|          1|                   30|                       25|\n|PMP*14680*2541| 440.0|873.72|   184|          17|  2022-04-17|           220|        62|              74|              39|                       8|2022|  January|   48| 60.0|          0|                  110|                       70|\n|PMP*14680*2541| 445.5|873.72|   184|          17|  2022-04-17|           220|        62|              74|              39|                       8|2022| February|   40| 48.0|          0|                   90|                       50|\n|PMP*14680*2541| 460.0|873.72|   184|          17|  2022-04-17|           220|        62|              74|              39|                       8|2022|    March|   34| 40.0|          0|                   60|                       40|\n|PMP*14680*2541|465.25|873.72|   184|          17|  2022-04-17|           220|        62|              74|              39|                       8|2022|    April|   29| 34.0|          0|                   50|                       30|\n|PMP*14680*2541| 470.5|873.72|   184|          17|  2022-04-17|           220|        62|              74|              39|                       8|2022|      May|    0| 29.0|          1|                   40|                       20|\n|PMP*14680*2541| 475.0|873.72|   184|          17|  2022-04-17|           220|        62|              74|              39|                       8|2022|     June|   25|  0.0|          0|                   30|                       15|\n|PMP*14680*2541|480.25|873.72|   184|          17|  2022-04-17|           220|        62|              74|              39|                       8|2022|     July|   22| 25.0|          0|                   20|                       10|\n|PMP*14680*2541| 485.5|873.72|   184|          17|  2022-04-17|           220|        62|              74|              39|                       8|2022|   August|   20| 22.0|          0|                   10|                        8|\n+--------------+------+------+------+------------+------------+--------------+----------+----------------+----------------+------------------------+----+---------+-----+-----+-----------+---------------------+-------------------------+\nonly showing top 20 rows\n\n"
     ]
    }
   ],
   "source": [
    "file_path = \"dbfs:/FileStore/shared_uploads/podurikarthikeya69@gmail.com/cf_sarimas.csv\"  # Adjust this path\n",
    "data_df = spark.read.csv(file_path, header=True, inferSchema=True)\n",
    "data_df.show()"
   ]
  },
  {
   "cell_type": "code",
   "execution_count": 0,
   "metadata": {
    "application/vnd.databricks.v1+cell": {
     "cellMetadata": {
      "byteLimit": 2048000,
      "rowLimit": 10000
     },
     "inputWidgets": {},
     "nuid": "b48b9b1a-b767-47a8-8c51-60dd0bc0fd58",
     "showTitle": false,
     "title": ""
    }
   },
   "outputs": [
    {
     "output_type": "display_data",
     "data": {
      "application/vnd.databricks.v1+bamboolib_hint": "{\"pd.DataFrames\": [], \"version\": \"0.0.1\"}",
      "text/plain": []
     },
     "metadata": {},
     "output_type": "display_data"
    }
   ],
   "source": [
    "import pandas as pd\n",
    "pandas_df = data_df.toPandas()\n",
    "pandas_df['LastSaleDate'] = pd.to_datetime(pandas_df['LastSaleDate'])\n",
    "pandas_df.set_index('LastSaleDate', inplace=True)\n",
    "pandas_df = pandas_df.sort_index()\n",
    "cost_data = pandas_df['Cost']"
   ]
  },
  {
   "cell_type": "code",
   "execution_count": 0,
   "metadata": {
    "application/vnd.databricks.v1+cell": {
     "cellMetadata": {
      "byteLimit": 2048000,
      "rowLimit": 10000
     },
     "inputWidgets": {},
     "nuid": "c510632b-954d-45eb-b193-903afb4d16c3",
     "showTitle": false,
     "title": ""
    }
   },
   "outputs": [],
   "source": [
    "from statsmodels.tsa.statespace.sarimax import SARIMAX\n",
    "import numpy as np\n",
    "import warnings\n",
    "from sklearn.metrics import mean_squared_error\n",
    "\n",
    "warnings.filterwarnings(\"ignore\")\n",
    "\n",
    "def evaluate_sarima(order, seasonal_order, data):\n",
    "    \"\"\"\n",
    "    Evaluate SARIMA model with given orders.\n",
    "    \"\"\"\n",
    "    model = SARIMAX(data, order=order, seasonal_order=seasonal_order)\n",
    "    model_fit = model.fit(disp=False)\n",
    "    \n",
    "    forecast = model_fit.forecast(steps=1)\n",
    "    \n",
    "    error = mean_squared_error(data[-12:], model_fit.fittedvalues[-12:])\n",
    "    \n",
    "    return error, model_fit"
   ]
  },
  {
   "cell_type": "code",
   "execution_count": 0,
   "metadata": {
    "application/vnd.databricks.v1+cell": {
     "cellMetadata": {
      "byteLimit": 2048000,
      "rowLimit": 10000
     },
     "inputWidgets": {},
     "nuid": "a0c48ead-d471-46a3-82bf-8acde900491a",
     "showTitle": false,
     "title": ""
    }
   },
   "outputs": [
    {
     "output_type": "stream",
     "name": "stdout",
     "output_type": "stream",
     "text": [
      "Best SARIMA Order: (1, 2, 2)\nBest Seasonal Order: (1, 1, 0, 12)\n"
     ]
    }
   ],
   "source": [
    "p = d = q = range(0, 3)\n",
    "P = D = Q = range(0, 2)\n",
    "s = [12]  # Monthly data, seasonality of 12\n",
    "import itertools\n",
    "pdq = list(itertools.product(p, d, q))\n",
    "seasonal_pdq = list(itertools.product(P, D, Q, s))\n",
    "\n",
    "best_aic = np.inf\n",
    "best_order = None\n",
    "best_seasonal_order = None\n",
    "best_model = None\n",
    "\n",
    "for order in pdq:\n",
    "    for seasonal_order in seasonal_pdq:\n",
    "        try:\n",
    "            error, model_fit = evaluate_sarima(order, seasonal_order, cost_data)\n",
    "            if model_fit.aic < best_aic:\n",
    "                best_aic = model_fit.aic\n",
    "                best_order = order\n",
    "                best_seasonal_order = seasonal_order\n",
    "                best_model = model_fit\n",
    "        except Exception as e:\n",
    "            continue\n",
    "\n",
    "print(f'Best SARIMA Order: {best_order}')\n",
    "print(f'Best Seasonal Order: {best_seasonal_order}')"
   ]
  },
  {
   "cell_type": "code",
   "execution_count": 0,
   "metadata": {
    "application/vnd.databricks.v1+cell": {
     "cellMetadata": {
      "byteLimit": 2048000,
      "rowLimit": 10000
     },
     "inputWidgets": {},
     "nuid": "faddbe3e-f07b-4ce8-afa1-425782788ee2",
     "showTitle": false,
     "title": ""
    }
   },
   "outputs": [
    {
     "output_type": "stream",
     "name": "stdout",
     "output_type": "stream",
     "text": [
      "                                      SARIMAX Results                                      \n===========================================================================================\nDep. Variable:                                Cost   No. Observations:                   28\nModel:             SARIMAX(1, 2, 2)x(1, 1, [], 12)   Log Likelihood                 -35.606\nDate:                             Mon, 07 Oct 2024   AIC                             81.212\nTime:                                     18:12:52   BIC                             84.407\nSample:                                          0   HQIC                            80.916\n                                              - 28                                         \nCovariance Type:                               opg                                         \n==============================================================================\n                 coef    std err          z      P>|z|      [0.025      0.975]\n------------------------------------------------------------------------------\nar.L1          0.9959      0.049     20.189      0.000       0.899       1.093\nma.L1         -1.8863     17.880     -0.105      0.916     -36.930      33.157\nma.L2          0.9908     19.190      0.052      0.959     -36.620      38.602\nar.S.L12      -0.9204      0.855     -1.077      0.282      -2.596       0.755\nsigma2         1.6229     39.198      0.041      0.967     -75.203      78.449\n===================================================================================\nLjung-Box (L1) (Q):                   2.18   Jarque-Bera (JB):                 0.60\nProb(Q):                              0.14   Prob(JB):                         0.74\nHeteroskedasticity (H):               1.02   Skew:                             0.14\nProb(H) (two-sided):                  0.99   Kurtosis:                         2.02\n===================================================================================\n\nWarnings:\n[1] Covariance matrix calculated using the outer product of gradients (complex-step).\n"
     ]
    }
   ],
   "source": [
    "best_model_final = SARIMAX(cost_data, order=best_order, seasonal_order=best_seasonal_order)\n",
    "best_model_fit = best_model_final.fit(disp=False)\n",
    "\n",
    "print(best_model_fit.summary())"
   ]
  },
  {
   "cell_type": "code",
   "execution_count": 0,
   "metadata": {
    "application/vnd.databricks.v1+cell": {
     "cellMetadata": {
      "byteLimit": 2048000,
      "rowLimit": 10000
     },
     "inputWidgets": {},
     "nuid": "7d31ad53-f575-4d75-850f-5567ab20614a",
     "showTitle": false,
     "title": ""
    }
   },
   "outputs": [
    {
     "output_type": "stream",
     "name": "stdout",
     "output_type": "stream",
     "text": [
      "           Forecast\n2023-05-31      NaN\n2023-06-30      NaN\n2023-07-31      NaN\n2023-08-31      NaN\n2023-09-30      NaN\n2023-10-31      NaN\n2023-11-30      NaN\n2023-12-31      NaN\n2024-01-31      NaN\n2024-02-29      NaN\n2024-03-31      NaN\n2024-04-30      NaN\n"
     ]
    },
    {
     "output_type": "display_data",
     "data": {
      "image/png": "[encoded data removed]"
     },
     "metadata": {
      "application/vnd.databricks.v1+output": {
       "addedWidgets": {},
       "arguments": {},
       "data": "data:image/png;base64,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\n",
       "datasetInfos": [],
       "metadata": {},
       "removedWidgets": [],
       "type": "image"
      }
     },
     "output_type": "display_data"
    }
   ],
   "source": [
    "forecast_steps = 12\n",
    "forecast = best_model_fit.get_forecast(steps=forecast_steps)\n",
    "forecast_index = pd.date_range(start=cost_data.index[-1] + pd.DateOffset(months=1), periods=forecast_steps, freq='M')\n",
    "forecast_values = forecast.predicted_mean\n",
    "forecast_df = pd.DataFrame(forecast_values, index=forecast_index, columns=['Forecast'])\n",
    "print(forecast_df)\n",
    "import matplotlib.pyplot as plt\n",
    "\n",
    "plt.figure(figsize=(12, 6))\n",
    "plt.plot(cost_data, label='Historical Cost', color='blue')\n",
    "plt.plot(forecast_df, label='Forecasted Cost', color='orange')\n",
    "plt.title('Cost Forecasting with SARIMA')\n",
    "plt.xlabel('Date')\n",
    "plt.ylabel('Cost')\n",
    "plt.legend()\n",
    "plt.show()"
   ]
  },
  {
   "cell_type": "code",
   "execution_count": 0,
   "metadata": {
    "application/vnd.databricks.v1+cell": {
     "cellMetadata": {
      "byteLimit": 2048000,
      "rowLimit": 10000
     },
     "inputWidgets": {},
     "nuid": "64c6bf70-8b3e-47fe-adfe-55f45a440427",
     "showTitle": false,
     "title": ""
    }
   },
   "outputs": [
    {
     "output_type": "stream",
     "name": "stdout",
     "output_type": "stream",
     "text": [
      "Collecting mlflow\r\n  Using cached mlflow-2.16.2-py3-none-any.whl (26.7 MB)\r\nCollecting sqlalchemy<3,>=1.4.0\r\n  Using cached SQLAlchemy-2.0.35-cp39-cp39-manylinux_2_17_x86_64.manylinux2014_x86_64.whl (3.1 MB)\r\nRequirement already satisfied: pyarrow<18,>=4.0.0 in /databricks/python3/lib/python3.9/site-packages (from mlflow) (7.0.0)\r\nCollecting graphene<4\r\n  Using cached graphene-3.3-py2.py3-none-any.whl (128 kB)\r\nRequirement already satisfied: scipy<2 in /databricks/python3/lib/python3.9/site-packages (from mlflow) (1.7.3)\r\nCollecting docker<8,>=4.0.0\r\n  Using cached docker-7.1.0-py3-none-any.whl (147 kB)\r\nRequirement already satisfied: numpy<3 in /databricks/python3/lib/python3.9/site-packages (from mlflow) (1.21.5)\r\nCollecting Flask<4\r\n  Using cached flask-3.0.3-py3-none-any.whl (101 kB)\r\nRequirement already satisfied: scikit-learn<2 in /databricks/python3/lib/python3.9/site-packages (from mlflow) (1.0.2)\r\nCollecting gunicorn<24\r\n  Using cached gunicorn-23.0.0-py3-none-any.whl (85 kB)\r\nCollecting markdown<4,>=3.3\r\n  Using cached Markdown-3.7-py3-none-any.whl (106 kB)\r\nRequirement already satisfied: pandas<3 in /databricks/python3/lib/python3.9/site-packages (from mlflow) (1.4.2)\r\nCollecting alembic!=1.10.0,<2\r\n  Using cached alembic-1.13.3-py3-none-any.whl (233 kB)\r\nCollecting mlflow-skinny==2.16.2\r\n  Using cached mlflow_skinny-2.16.2-py3-none-any.whl (5.6 MB)\r\nRequirement already satisfied: matplotlib<4 in /databricks/python3/lib/python3.9/site-packages (from mlflow) (3.5.1)\r\nRequirement already satisfied: Jinja2<4,>=2.11 in /databricks/python3/lib/python3.9/site-packages (from mlflow) (2.11.3)\r\nCollecting sqlparse<1,>=0.4.0\r\n  Using cached sqlparse-0.5.1-py3-none-any.whl (44 kB)\r\nRequirement already satisfied: requests<3,>=2.17.3 in /databricks/python3/lib/python3.9/site-packages (from mlflow-skinny==2.16.2->mlflow) (2.27.1)\r\nCollecting opentelemetry-api<3,>=1.9.0\r\n  Using cached opentelemetry_api-1.27.0-py3-none-any.whl (63 kB)\r\nRequirement already satisfied: click<9,>=7.0 in /databricks/python3/lib/python3.9/site-packages (from mlflow-skinny==2.16.2->mlflow) (8.0.4)\r\nCollecting opentelemetry-sdk<3,>=1.9.0\r\n  Using cached opentelemetry_sdk-1.27.0-py3-none-any.whl (110 kB)\r\nRequirement already satisfied: protobuf<6,>=3.12.0 in /databricks/python3/lib/python3.9/site-packages (from mlflow-skinny==2.16.2->mlflow) (3.19.4)\r\nCollecting cloudpickle<4\r\n  Using cached cloudpickle-3.0.0-py3-none-any.whl (20 kB)\r\nCollecting importlib-metadata!=4.7.0,<9,>=3.7.0\r\n  Using cached importlib_metadata-8.5.0-py3-none-any.whl (26 kB)\r\nCollecting pyyaml<7,>=5.1\r\n  Using cached PyYAML-6.0.2-cp39-cp39-manylinux_2_17_x86_64.manylinux2014_x86_64.whl (737 kB)\r\nCollecting gitpython<4,>=3.1.9\r\n  Using cached GitPython-3.1.43-py3-none-any.whl (207 kB)\r\nCollecting cachetools<6,>=5.0.0\r\n  Using cached cachetools-5.5.0-py3-none-any.whl (9.5 kB)\r\nRequirement already satisfied: packaging<25 in /databricks/python3/lib/python3.9/site-packages (from mlflow-skinny==2.16.2->mlflow) (21.3)\r\nCollecting databricks-sdk<1,>=0.20.0\r\n  Using cached databricks_sdk-0.34.0-py3-none-any.whl (565 kB)\r\nRequirement already satisfied: typing-extensions>=4 in /databricks/python3/lib/python3.9/site-packages (from alembic!=1.10.0,<2->mlflow) (4.1.1)\r\nCollecting Mako\r\n  Using cached Mako-1.3.5-py3-none-any.whl (78 kB)\r\nCollecting google-auth~=2.0\r\n  Using cached google_auth-2.35.0-py2.py3-none-any.whl (208 kB)\r\nCollecting requests<3,>=2.17.3\r\n  Using cached requests-2.32.3-py3-none-any.whl (64 kB)\r\nRequirement already satisfied: urllib3>=1.26.0 in /databricks/python3/lib/python3.9/site-packages (from docker<8,>=4.0.0->mlflow) (1.26.9)\r\nCollecting blinker>=1.6.2\r\n  Using cached blinker-1.8.2-py3-none-any.whl (9.5 kB)\r\nCollecting Jinja2<4,>=2.11\r\n  Using cached jinja2-3.1.4-py3-none-any.whl (133 kB)\r\nCollecting Werkzeug>=3.0.0\r\n  Using cached werkzeug-3.0.4-py3-none-any.whl (227 kB)\r\nCollecting itsdangerous>=2.1.2\r\n  Using cached itsdangerous-2.2.0-py3-none-any.whl (16 kB)\r\nCollecting click<9,>=7.0\r\n  Using cached click-8.1.7-py3-none-any.whl (97 kB)\r\nCollecting gitdb<5,>=4.0.1\r\n  Using cached gitdb-4.0.11-py3-none-any.whl (62 kB)\r\nCollecting smmap<6,>=3.0.1\r\n  Using cached smmap-5.0.1-py3-none-any.whl (24 kB)\r\nCollecting rsa<5,>=3.1.4\r\n  Using cached rsa-4.9-py3-none-any.whl (34 kB)\r\nCollecting pyasn1-modules>=0.2.1\r\n  Using cached pyasn1_modules-0.4.1-py3-none-any.whl (181 kB)\r\nCollecting graphql-core<3.3,>=3.1\r\n  Using cached graphql_core-3.2.4-py3-none-any.whl (203 kB)\r\nCollecting graphql-relay<3.3,>=3.1\r\n  Using cached graphql_relay-3.2.0-py3-none-any.whl (16 kB)\r\nCollecting aniso8601<10,>=8\r\n  Using cached aniso8601-9.0.1-py2.py3-none-any.whl (52 kB)\r\nCollecting zipp>=3.20\r\n  Using cached zipp-3.20.2-py3-none-any.whl (9.2 kB)\r\nRequirement already satisfied: MarkupSafe>=2.0 in /databricks/python3/lib/python3.9/site-packages (from Jinja2<4,>=2.11->mlflow) (2.0.1)\r\nRequirement already satisfied: pyparsing>=2.2.1 in /databricks/python3/lib/python3.9/site-packages (from matplotlib<4->mlflow) (3.0.4)\r\nRequirement already satisfied: cycler>=0.10 in /databricks/python3/lib/python3.9/site-packages (from matplotlib<4->mlflow) (0.11.0)\r\nRequirement already satisfied: kiwisolver>=1.0.1 in /databricks/python3/lib/python3.9/site-packages (from matplotlib<4->mlflow) (1.3.2)\r\nRequirement already satisfied: pillow>=6.2.0 in /databricks/python3/lib/python3.9/site-packages (from matplotlib<4->mlflow) (9.0.1)\r\nRequirement already satisfied: python-dateutil>=2.7 in /databricks/python3/lib/python3.9/site-packages (from matplotlib<4->mlflow) (2.8.2)\r\nRequirement already satisfied: fonttools>=4.22.0 in /databricks/python3/lib/python3.9/site-packages (from matplotlib<4->mlflow) (4.25.0)\r\nCollecting deprecated>=1.2.6\r\n  Using cached Deprecated-1.2.14-py2.py3-none-any.whl (9.6 kB)\r\nCollecting importlib-metadata!=4.7.0,<9,>=3.7.0\r\n  Using cached importlib_metadata-8.4.0-py3-none-any.whl (26 kB)\r\nCollecting wrapt<2,>=1.10\r\n  Using cached wrapt-1.16.0-cp39-cp39-manylinux_2_5_x86_64.manylinux1_x86_64.manylinux_2_17_x86_64.manylinux2014_x86_64.whl (80 kB)\r\nCollecting opentelemetry-semantic-conventions==0.48b0\r\n  Using cached opentelemetry_semantic_conventions-0.48b0-py3-none-any.whl (149 kB)\r\nRequirement already satisfied: pytz>=2020.1 in /databricks/python3/lib/python3.9/site-packages (from pandas<3->mlflow) (2021.3)\r\nCollecting pyasn1<0.7.0,>=0.4.6\r\n  Using cached pyasn1-0.6.1-py3-none-any.whl (83 kB)\r\nRequirement already satisfied: six>=1.5 in /databricks/python3/lib/python3.9/site-packages (from python-dateutil>=2.7->matplotlib<4->mlflow) (1.16.0)\r\nRequirement already satisfied: certifi>=2017.4.17 in /databricks/python3/lib/python3.9/site-packages (from requests<3,>=2.17.3->mlflow-skinny==2.16.2->mlflow) (2021.10.8)\r\nRequirement already satisfied: idna<4,>=2.5 in /databricks/python3/lib/python3.9/site-packages (from requests<3,>=2.17.3->mlflow-skinny==2.16.2->mlflow) (3.3)\r\nRequirement already satisfied: charset-normalizer<4,>=2 in /databricks/python3/lib/python3.9/site-packages (from requests<3,>=2.17.3->mlflow-skinny==2.16.2->mlflow) (2.0.4)\r\nRequirement already satisfied: joblib>=0.11 in /databricks/python3/lib/python3.9/site-packages (from scikit-learn<2->mlflow) (1.1.1)\r\nRequirement already satisfied: threadpoolctl>=2.0.0 in /databricks/python3/lib/python3.9/site-packages (from scikit-learn<2->mlflow) (2.2.0)\r\nCollecting typing-extensions>=4\r\n  Using cached typing_extensions-4.12.2-py3-none-any.whl (37 kB)\r\nCollecting greenlet!=0.4.17\r\n  Using cached greenlet-3.1.1-cp39-cp39-manylinux_2_24_x86_64.manylinux_2_28_x86_64.whl (597 kB)\r\nCollecting MarkupSafe>=2.0\r\n  Using cached MarkupSafe-2.1.5-cp39-cp39-manylinux_2_17_x86_64.manylinux2014_x86_64.whl (25 kB)\r\nInstalling collected packages: zipp, wrapt, pyasn1, importlib-metadata, deprecated, smmap, rsa, pyasn1-modules, opentelemetry-api, cachetools, typing-extensions, requests, opentelemetry-semantic-conventions, MarkupSafe, greenlet, graphql-core, google-auth, gitdb, Werkzeug, sqlparse, sqlalchemy, pyyaml, opentelemetry-sdk, Mako, Jinja2, itsdangerous, graphql-relay, gitpython, databricks-sdk, cloudpickle, click, blinker, aniso8601, mlflow-skinny, markdown, gunicorn, graphene, Flask, docker, alembic, mlflow\r\n  Attempting uninstall: typing-extensions\r\n    Found existing installation: typing-extensions 4.1.1\r\n    Not uninstalling typing-extensions at /databricks/python3/lib/python3.9/site-packages, outside environment /local_disk0/.ephemeral_nfs/envs/pythonEnv-5a51d21f-e82c-4665-bcdb-277b57543c50\r\n    Can't uninstall 'typing-extensions'. No files were found to uninstall.\r\n  Attempting uninstall: requests\r\n    Found existing installation: requests 2.27.1\r\n    Not uninstalling requests at /databricks/python3/lib/python3.9/site-packages, outside environment /local_disk0/.ephemeral_nfs/envs/pythonEnv-5a51d21f-e82c-4665-bcdb-277b57543c50\r\n    Can't uninstall 'requests'. No files were found to uninstall.\r\n  Attempting uninstall: MarkupSafe\r\n    Found existing installation: MarkupSafe 2.0.1\r\n    Not uninstalling markupsafe at /databricks/python3/lib/python3.9/site-packages, outside environment /local_disk0/.ephemeral_nfs/envs/pythonEnv-5a51d21f-e82c-4665-bcdb-277b57543c50\r\n    Can't uninstall 'MarkupSafe'. No files were found to uninstall.\r\n  Attempting uninstall: Jinja2\r\n    Found existing installation: Jinja2 2.11.3\r\n    Not uninstalling jinja2 at /databricks/python3/lib/python3.9/site-packages, outside environment /local_disk0/.ephemeral_nfs/envs/pythonEnv-5a51d21f-e82c-4665-bcdb-277b57543c50\r\n    Can't uninstall 'Jinja2'. No files were found to uninstall.\r\n  Attempting uninstall: click\r\n    Found existing installation: click 8.0.4\r\n    Not uninstalling click at /databricks/python3/lib/python3.9/site-packages, outside environment /local_disk0/.ephemeral_nfs/envs/pythonEnv-5a51d21f-e82c-4665-bcdb-277b57543c50\r\n    Can't uninstall 'click'. No files were found to uninstall.\r\nSuccessfully installed Flask-3.0.3 Jinja2-3.1.4 Mako-1.3.5 MarkupSafe-2.1.5 Werkzeug-3.0.4 alembic-1.13.3 aniso8601-9.0.1 blinker-1.8.2 cachetools-5.5.0 click-8.1.7 cloudpickle-3.0.0 databricks-sdk-0.34.0 deprecated-1.2.14 docker-7.1.0 gitdb-4.0.11 gitpython-3.1.43 google-auth-2.35.0 graphene-3.3 graphql-core-3.2.4 graphql-relay-3.2.0 greenlet-3.1.1 gunicorn-23.0.0 importlib-metadata-8.4.0 itsdangerous-2.2.0 markdown-3.7 mlflow-2.16.2 mlflow-skinny-2.16.2 opentelemetry-api-1.27.0 opentelemetry-sdk-1.27.0 opentelemetry-semantic-conventions-0.48b0 pyasn1-0.6.1 pyasn1-modules-0.4.1 pyyaml-6.0.2 requests-2.32.3 rsa-4.9 smmap-5.0.1 sqlalchemy-2.0.35 sqlparse-0.5.1 typing-extensions-4.12.2 wrapt-1.16.0 zipp-3.20.2\r\n\u001B[33mWARNING: You are using pip version 21.2.4; however, version 24.2 is available.\r\nYou should consider upgrading via the '/local_disk0/.ephemeral_nfs/envs/pythonEnv-5a51d21f-e82c-4665-bcdb-277b57543c50/bin/python -m pip install --upgrade pip' command.\u001B[0m\r\n"
     ]
    }
   ],
   "source": [
    "!pip install mlflow"
   ]
  },
  {
   "cell_type": "code",
   "execution_count": 0,
   "metadata": {
    "application/vnd.databricks.v1+cell": {
     "cellMetadata": {
      "byteLimit": 2048000,
      "rowLimit": 10000
     },
     "inputWidgets": {},
     "nuid": "305cd8ce-79ef-4421-9894-8ec5448ef9a5",
     "showTitle": false,
     "title": ""
    }
   },
   "outputs": [
    {
     "output_type": "stream",
     "name": "stderr",
     "output_type": "stream",
     "text": [
      "2024/10/07 18:14:52 WARNING mlflow.utils.environment: Encountered an unexpected error while inferring pip requirements (model URI: /local_disk0/repl_tmp_data/ReplId-79de4-6f723-fc5e5-e/tmpmdcf_8m7/model/model.pkl, flavor: sklearn). Fall back to return ['scikit-learn==1.0.2', 'cloudpickle==3.0.0']. Set logging level to DEBUG to see the full traceback. \n2024/10/07 18:14:52 WARNING mlflow.models.model: Model logged without a signature and input example. Please set `input_example` parameter when logging the model to auto infer the model signature.\n2024/10/07 18:14:54 INFO mlflow.tracking._tracking_service.client: 🏃 View run honorable-rook-591 at: https://community.cloud.databricks.com/ml/experiments/4498943658610024/runs/9fc973ec0c0b48ceb840ad951f09d3f9.\n2024/10/07 18:14:54 INFO mlflow.tracking._tracking_service.client: 🧪 View experiment at: https://community.cloud.databricks.com/ml/experiments/4498943658610024.\n"
     ]
    }
   ],
   "source": [
    "import mlflow\n",
    "with mlflow.start_run():\n",
    "    mlflow.log_param(\"final_order\", best_order)\n",
    "    mlflow.log_param(\"final_seasonal_order\", best_seasonal_order)\n",
    "    \n",
    "    mlflow.sklearn.log_model(best_model_fit, \"Final_SARIMA_Model\")\n",
    "\n",
    "mlflow.end_run()"
   ]
  }
 ],
 "metadata": {
  "application/vnd.databricks.v1+notebook": {
   "dashboards": [],
   "environmentMetadata": null,
   "language": "python",
   "notebookMetadata": {
    "pythonIndentUnit": 4
   },
   "notebookName": "CF SARIMA",
   "widgets": {}
  }
 },
 "nbformat": 4,
 "nbformat_minor": 0
}
