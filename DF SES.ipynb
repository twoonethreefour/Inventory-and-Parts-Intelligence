{
 "cells": [
  {
   "cell_type": "code",
   "execution_count": 0,
   "metadata": {
    "application/vnd.databricks.v1+cell": {
     "cellMetadata": {},
     "inputWidgets": {},
     "nuid": "4feca6ae-f7d0-4e8c-ab82-e3c98f276194",
     "showTitle": false,
     "title": ""
    }
   },
   "outputs": [],
   "source": [
    "dbfs:/FileStore/shared_uploads/podurikarthikeya69@gmail.com/df_ses.csv"
   ]
  },
  {
   "cell_type": "code",
   "execution_count": 0,
   "metadata": {
    "application/vnd.databricks.v1+cell": {
     "cellMetadata": {
      "byteLimit": 2048000,
      "rowLimit": 10000
     },
     "inputWidgets": {},
     "nuid": "c22577a2-dd5e-43a0-8f88-b1d62e9ac875",
     "showTitle": false,
     "title": ""
    }
   },
   "outputs": [
    {
     "output_type": "stream",
     "name": "stdout",
     "output_type": "stream",
     "text": [
      "Collecting mlflow\r\n  Using cached mlflow-2.16.2-py3-none-any.whl (26.7 MB)\r\nCollecting sqlalchemy<3,>=1.4.0\r\n  Using cached SQLAlchemy-2.0.35-cp39-cp39-manylinux_2_17_x86_64.manylinux2014_x86_64.whl (3.1 MB)\r\nRequirement already satisfied: pyarrow<18,>=4.0.0 in /databricks/python3/lib/python3.9/site-packages (from mlflow) (7.0.0)\r\nCollecting graphene<4\r\n  Using cached graphene-3.3-py2.py3-none-any.whl (128 kB)\r\nRequirement already satisfied: scipy<2 in /databricks/python3/lib/python3.9/site-packages (from mlflow) (1.7.3)\r\nCollecting docker<8,>=4.0.0\r\n  Using cached docker-7.1.0-py3-none-any.whl (147 kB)\r\nRequirement already satisfied: numpy<3 in /databricks/python3/lib/python3.9/site-packages (from mlflow) (1.21.5)\r\nCollecting Flask<4\r\n  Using cached flask-3.0.3-py3-none-any.whl (101 kB)\r\nRequirement already satisfied: scikit-learn<2 in /databricks/python3/lib/python3.9/site-packages (from mlflow) (1.0.2)\r\nCollecting gunicorn<24\r\n  Using cached gunicorn-23.0.0-py3-none-any.whl (85 kB)\r\nCollecting markdown<4,>=3.3\r\n  Using cached Markdown-3.7-py3-none-any.whl (106 kB)\r\nRequirement already satisfied: pandas<3 in /databricks/python3/lib/python3.9/site-packages (from mlflow) (1.4.2)\r\nCollecting alembic!=1.10.0,<2\r\n  Using cached alembic-1.13.3-py3-none-any.whl (233 kB)\r\nCollecting mlflow-skinny==2.16.2\r\n  Using cached mlflow_skinny-2.16.2-py3-none-any.whl (5.6 MB)\r\nRequirement already satisfied: matplotlib<4 in /databricks/python3/lib/python3.9/site-packages (from mlflow) (3.5.1)\r\nRequirement already satisfied: Jinja2<4,>=2.11 in /databricks/python3/lib/python3.9/site-packages (from mlflow) (2.11.3)\r\nCollecting sqlparse<1,>=0.4.0\r\n  Using cached sqlparse-0.5.1-py3-none-any.whl (44 kB)\r\nRequirement already satisfied: requests<3,>=2.17.3 in /databricks/python3/lib/python3.9/site-packages (from mlflow-skinny==2.16.2->mlflow) (2.27.1)\r\nCollecting opentelemetry-api<3,>=1.9.0\r\n  Using cached opentelemetry_api-1.27.0-py3-none-any.whl (63 kB)\r\nRequirement already satisfied: click<9,>=7.0 in /databricks/python3/lib/python3.9/site-packages (from mlflow-skinny==2.16.2->mlflow) (8.0.4)\r\nCollecting opentelemetry-sdk<3,>=1.9.0\r\n  Using cached opentelemetry_sdk-1.27.0-py3-none-any.whl (110 kB)\r\nRequirement already satisfied: protobuf<6,>=3.12.0 in /databricks/python3/lib/python3.9/site-packages (from mlflow-skinny==2.16.2->mlflow) (3.19.4)\r\nCollecting cloudpickle<4\r\n  Using cached cloudpickle-3.0.0-py3-none-any.whl (20 kB)\r\nCollecting importlib-metadata!=4.7.0,<9,>=3.7.0\r\n  Using cached importlib_metadata-8.5.0-py3-none-any.whl (26 kB)\r\nCollecting pyyaml<7,>=5.1\r\n  Using cached PyYAML-6.0.2-cp39-cp39-manylinux_2_17_x86_64.manylinux2014_x86_64.whl (737 kB)\r\nCollecting gitpython<4,>=3.1.9\r\n  Using cached GitPython-3.1.43-py3-none-any.whl (207 kB)\r\nCollecting cachetools<6,>=5.0.0\r\n  Using cached cachetools-5.5.0-py3-none-any.whl (9.5 kB)\r\nRequirement already satisfied: packaging<25 in /databricks/python3/lib/python3.9/site-packages (from mlflow-skinny==2.16.2->mlflow) (21.3)\r\nCollecting databricks-sdk<1,>=0.20.0\r\n  Using cached databricks_sdk-0.34.0-py3-none-any.whl (565 kB)\r\nRequirement already satisfied: typing-extensions>=4 in /databricks/python3/lib/python3.9/site-packages (from alembic!=1.10.0,<2->mlflow) (4.1.1)\r\nCollecting Mako\r\n  Using cached Mako-1.3.5-py3-none-any.whl (78 kB)\r\nCollecting google-auth~=2.0\r\n  Using cached google_auth-2.35.0-py2.py3-none-any.whl (208 kB)\r\nCollecting requests<3,>=2.17.3\r\n  Using cached requests-2.32.3-py3-none-any.whl (64 kB)\r\nRequirement already satisfied: urllib3>=1.26.0 in /databricks/python3/lib/python3.9/site-packages (from docker<8,>=4.0.0->mlflow) (1.26.9)\r\nCollecting blinker>=1.6.2\r\n  Using cached blinker-1.8.2-py3-none-any.whl (9.5 kB)\r\nCollecting Jinja2<4,>=2.11\r\n  Using cached jinja2-3.1.4-py3-none-any.whl (133 kB)\r\nCollecting Werkzeug>=3.0.0\r\n  Using cached werkzeug-3.0.4-py3-none-any.whl (227 kB)\r\nCollecting itsdangerous>=2.1.2\r\n  Using cached itsdangerous-2.2.0-py3-none-any.whl (16 kB)\r\nCollecting click<9,>=7.0\r\n  Using cached click-8.1.7-py3-none-any.whl (97 kB)\r\nCollecting gitdb<5,>=4.0.1\r\n  Using cached gitdb-4.0.11-py3-none-any.whl (62 kB)\r\nCollecting smmap<6,>=3.0.1\r\n  Using cached smmap-5.0.1-py3-none-any.whl (24 kB)\r\nCollecting rsa<5,>=3.1.4\r\n  Using cached rsa-4.9-py3-none-any.whl (34 kB)\r\nCollecting pyasn1-modules>=0.2.1\r\n  Using cached pyasn1_modules-0.4.1-py3-none-any.whl (181 kB)\r\nCollecting graphql-core<3.3,>=3.1\r\n  Using cached graphql_core-3.2.4-py3-none-any.whl (203 kB)\r\nCollecting graphql-relay<3.3,>=3.1\r\n  Using cached graphql_relay-3.2.0-py3-none-any.whl (16 kB)\r\nCollecting aniso8601<10,>=8\r\n  Using cached aniso8601-9.0.1-py2.py3-none-any.whl (52 kB)\r\nCollecting zipp>=3.20\r\n  Using cached zipp-3.20.2-py3-none-any.whl (9.2 kB)\r\nRequirement already satisfied: MarkupSafe>=2.0 in /databricks/python3/lib/python3.9/site-packages (from Jinja2<4,>=2.11->mlflow) (2.0.1)\r\nRequirement already satisfied: pyparsing>=2.2.1 in /databricks/python3/lib/python3.9/site-packages (from matplotlib<4->mlflow) (3.0.4)\r\nRequirement already satisfied: cycler>=0.10 in /databricks/python3/lib/python3.9/site-packages (from matplotlib<4->mlflow) (0.11.0)\r\nRequirement already satisfied: kiwisolver>=1.0.1 in /databricks/python3/lib/python3.9/site-packages (from matplotlib<4->mlflow) (1.3.2)\r\nRequirement already satisfied: pillow>=6.2.0 in /databricks/python3/lib/python3.9/site-packages (from matplotlib<4->mlflow) (9.0.1)\r\nRequirement already satisfied: python-dateutil>=2.7 in /databricks/python3/lib/python3.9/site-packages (from matplotlib<4->mlflow) (2.8.2)\r\nRequirement already satisfied: fonttools>=4.22.0 in /databricks/python3/lib/python3.9/site-packages (from matplotlib<4->mlflow) (4.25.0)\r\nCollecting deprecated>=1.2.6\r\n  Using cached Deprecated-1.2.14-py2.py3-none-any.whl (9.6 kB)\r\nCollecting importlib-metadata!=4.7.0,<9,>=3.7.0\r\n  Using cached importlib_metadata-8.4.0-py3-none-any.whl (26 kB)\r\nCollecting wrapt<2,>=1.10\r\n  Using cached wrapt-1.16.0-cp39-cp39-manylinux_2_5_x86_64.manylinux1_x86_64.manylinux_2_17_x86_64.manylinux2014_x86_64.whl (80 kB)\r\nCollecting opentelemetry-semantic-conventions==0.48b0\r\n  Using cached opentelemetry_semantic_conventions-0.48b0-py3-none-any.whl (149 kB)\r\nRequirement already satisfied: pytz>=2020.1 in /databricks/python3/lib/python3.9/site-packages (from pandas<3->mlflow) (2021.3)\r\nCollecting pyasn1<0.7.0,>=0.4.6\r\n  Using cached pyasn1-0.6.1-py3-none-any.whl (83 kB)\r\nRequirement already satisfied: six>=1.5 in /databricks/python3/lib/python3.9/site-packages (from python-dateutil>=2.7->matplotlib<4->mlflow) (1.16.0)\r\nRequirement already satisfied: certifi>=2017.4.17 in /databricks/python3/lib/python3.9/site-packages (from requests<3,>=2.17.3->mlflow-skinny==2.16.2->mlflow) (2021.10.8)\r\nRequirement already satisfied: idna<4,>=2.5 in /databricks/python3/lib/python3.9/site-packages (from requests<3,>=2.17.3->mlflow-skinny==2.16.2->mlflow) (3.3)\r\nRequirement already satisfied: charset-normalizer<4,>=2 in /databricks/python3/lib/python3.9/site-packages (from requests<3,>=2.17.3->mlflow-skinny==2.16.2->mlflow) (2.0.4)\r\nRequirement already satisfied: joblib>=0.11 in /databricks/python3/lib/python3.9/site-packages (from scikit-learn<2->mlflow) (1.1.1)\r\nRequirement already satisfied: threadpoolctl>=2.0.0 in /databricks/python3/lib/python3.9/site-packages (from scikit-learn<2->mlflow) (2.2.0)\r\nCollecting typing-extensions>=4\r\n  Using cached typing_extensions-4.12.2-py3-none-any.whl (37 kB)\r\nCollecting greenlet!=0.4.17\r\n  Using cached greenlet-3.1.1-cp39-cp39-manylinux_2_24_x86_64.manylinux_2_28_x86_64.whl (597 kB)\r\nCollecting MarkupSafe>=2.0\r\n  Using cached MarkupSafe-2.1.5-cp39-cp39-manylinux_2_17_x86_64.manylinux2014_x86_64.whl (25 kB)\r\nInstalling collected packages: zipp, wrapt, pyasn1, importlib-metadata, deprecated, smmap, rsa, pyasn1-modules, opentelemetry-api, cachetools, typing-extensions, requests, opentelemetry-semantic-conventions, MarkupSafe, greenlet, graphql-core, google-auth, gitdb, Werkzeug, sqlparse, sqlalchemy, pyyaml, opentelemetry-sdk, Mako, Jinja2, itsdangerous, graphql-relay, gitpython, databricks-sdk, cloudpickle, click, blinker, aniso8601, mlflow-skinny, markdown, gunicorn, graphene, Flask, docker, alembic, mlflow\r\n  Attempting uninstall: typing-extensions\r\n    Found existing installation: typing-extensions 4.1.1\r\n    Not uninstalling typing-extensions at /databricks/python3/lib/python3.9/site-packages, outside environment /local_disk0/.ephemeral_nfs/envs/pythonEnv-36be0528-19f6-4087-aba1-785ca78ca3f7\r\n    Can't uninstall 'typing-extensions'. No files were found to uninstall.\r\n  Attempting uninstall: requests\r\n    Found existing installation: requests 2.27.1\r\n    Not uninstalling requests at /databricks/python3/lib/python3.9/site-packages, outside environment /local_disk0/.ephemeral_nfs/envs/pythonEnv-36be0528-19f6-4087-aba1-785ca78ca3f7\r\n    Can't uninstall 'requests'. No files were found to uninstall.\r\n  Attempting uninstall: MarkupSafe\r\n    Found existing installation: MarkupSafe 2.0.1\r\n    Not uninstalling markupsafe at /databricks/python3/lib/python3.9/site-packages, outside environment /local_disk0/.ephemeral_nfs/envs/pythonEnv-36be0528-19f6-4087-aba1-785ca78ca3f7\r\n    Can't uninstall 'MarkupSafe'. No files were found to uninstall.\r\n  Attempting uninstall: Jinja2\r\n    Found existing installation: Jinja2 2.11.3\r\n    Not uninstalling jinja2 at /databricks/python3/lib/python3.9/site-packages, outside environment /local_disk0/.ephemeral_nfs/envs/pythonEnv-36be0528-19f6-4087-aba1-785ca78ca3f7\r\n    Can't uninstall 'Jinja2'. No files were found to uninstall.\r\n  Attempting uninstall: click\r\n    Found existing installation: click 8.0.4\r\n    Not uninstalling click at /databricks/python3/lib/python3.9/site-packages, outside environment /local_disk0/.ephemeral_nfs/envs/pythonEnv-36be0528-19f6-4087-aba1-785ca78ca3f7\r\n    Can't uninstall 'click'. No files were found to uninstall.\r\nSuccessfully installed Flask-3.0.3 Jinja2-3.1.4 Mako-1.3.5 MarkupSafe-2.1.5 Werkzeug-3.0.4 alembic-1.13.3 aniso8601-9.0.1 blinker-1.8.2 cachetools-5.5.0 click-8.1.7 cloudpickle-3.0.0 databricks-sdk-0.34.0 deprecated-1.2.14 docker-7.1.0 gitdb-4.0.11 gitpython-3.1.43 google-auth-2.35.0 graphene-3.3 graphql-core-3.2.4 graphql-relay-3.2.0 greenlet-3.1.1 gunicorn-23.0.0 importlib-metadata-8.4.0 itsdangerous-2.2.0 markdown-3.7 mlflow-2.16.2 mlflow-skinny-2.16.2 opentelemetry-api-1.27.0 opentelemetry-sdk-1.27.0 opentelemetry-semantic-conventions-0.48b0 pyasn1-0.6.1 pyasn1-modules-0.4.1 pyyaml-6.0.2 requests-2.32.3 rsa-4.9 smmap-5.0.1 sqlalchemy-2.0.35 sqlparse-0.5.1 typing-extensions-4.12.2 wrapt-1.16.0 zipp-3.20.2\r\n\u001B[33mWARNING: You are using pip version 21.2.4; however, version 24.2 is available.\r\nYou should consider upgrading via the '/local_disk0/.ephemeral_nfs/envs/pythonEnv-36be0528-19f6-4087-aba1-785ca78ca3f7/bin/python -m pip install --upgrade pip' command.\u001B[0m\r\nCollecting prophet\r\n  Using cached prophet-1.1.6-py3-none-manylinux_2_17_x86_64.manylinux2014_x86_64.whl (14.4 MB)\r\nRequirement already satisfied: numpy>=1.15.4 in /databricks/python3/lib/python3.9/site-packages (from prophet) (1.21.5)\r\nRequirement already satisfied: pandas>=1.0.4 in /databricks/python3/lib/python3.9/site-packages (from prophet) (1.4.2)\r\nCollecting importlib-resources\r\n  Using cached importlib_resources-6.4.5-py3-none-any.whl (36 kB)\r\nRequirement already satisfied: matplotlib>=2.0.0 in /databricks/python3/lib/python3.9/site-packages (from prophet) (3.5.1)\r\nCollecting cmdstanpy>=1.0.4\r\n  Using cached cmdstanpy-1.2.4-py3-none-any.whl (94 kB)\r\nCollecting holidays<1,>=0.25\r\n  Using cached holidays-0.57-py3-none-any.whl (1.1 MB)\r\nCollecting tqdm>=4.36.1\r\n  Using cached tqdm-4.66.5-py3-none-any.whl (78 kB)\r\nCollecting stanio<2.0.0,>=0.4.0\r\n  Using cached stanio-0.5.1-py3-none-any.whl (8.1 kB)\r\nRequirement already satisfied: python-dateutil in /databricks/python3/lib/python3.9/site-packages (from holidays<1,>=0.25->prophet) (2.8.2)\r\nRequirement already satisfied: pyparsing>=2.2.1 in /databricks/python3/lib/python3.9/site-packages (from matplotlib>=2.0.0->prophet) (3.0.4)\r\nRequirement already satisfied: packaging>=20.0 in /databricks/python3/lib/python3.9/site-packages (from matplotlib>=2.0.0->prophet) (21.3)\r\nRequirement already satisfied: cycler>=0.10 in /databricks/python3/lib/python3.9/site-packages (from matplotlib>=2.0.0->prophet) (0.11.0)\r\nRequirement already satisfied: kiwisolver>=1.0.1 in /databricks/python3/lib/python3.9/site-packages (from matplotlib>=2.0.0->prophet) (1.3.2)\r\nRequirement already satisfied: pillow>=6.2.0 in /databricks/python3/lib/python3.9/site-packages (from matplotlib>=2.0.0->prophet) (9.0.1)\r\nRequirement already satisfied: fonttools>=4.22.0 in /databricks/python3/lib/python3.9/site-packages (from matplotlib>=2.0.0->prophet) (4.25.0)\r\nRequirement already satisfied: pytz>=2020.1 in /databricks/python3/lib/python3.9/site-packages (from pandas>=1.0.4->prophet) (2021.3)\r\nRequirement already satisfied: six>=1.5 in /databricks/python3/lib/python3.9/site-packages (from python-dateutil->holidays<1,>=0.25->prophet) (1.16.0)\r\nRequirement already satisfied: zipp>=3.1.0 in /local_disk0/.ephemeral_nfs/envs/pythonEnv-36be0528-19f6-4087-aba1-785ca78ca3f7/lib/python3.9/site-packages (from importlib-resources->prophet) (3.20.2)\r\nInstalling collected packages: tqdm, stanio, importlib-resources, holidays, cmdstanpy, prophet\r\nSuccessfully installed cmdstanpy-1.2.4 holidays-0.57 importlib-resources-6.4.5 prophet-1.1.6 stanio-0.5.1 tqdm-4.66.5\r\n\u001B[33mWARNING: You are using pip version 21.2.4; however, version 24.2 is available.\r\nYou should consider upgrading via the '/local_disk0/.ephemeral_nfs/envs/pythonEnv-36be0528-19f6-4087-aba1-785ca78ca3f7/bin/python -m pip install --upgrade pip' command.\u001B[0m\r\n"
     ]
    }
   ],
   "source": [
    "!pip install mlflow\n",
    "!pip install prophet"
   ]
  },
  {
   "cell_type": "code",
   "execution_count": 0,
   "metadata": {
    "application/vnd.databricks.v1+cell": {
     "cellMetadata": {
      "byteLimit": 2048000,
      "rowLimit": 10000
     },
     "inputWidgets": {},
     "nuid": "4f0e1d34-e213-4ae9-bd4b-1ed927763a0e",
     "showTitle": false,
     "title": ""
    }
   },
   "outputs": [],
   "source": [
    "import pandas as pd\n",
    "from statsmodels.tsa.holtwinters import SimpleExpSmoothing\n",
    "from pyspark.sql import SparkSession\n",
    "import mlflow\n",
    "import mlflow.sklearn\n",
    "from sklearn.model_selection import train_test_split\n"
   ]
  },
  {
   "cell_type": "code",
   "execution_count": 0,
   "metadata": {
    "application/vnd.databricks.v1+cell": {
     "cellMetadata": {
      "byteLimit": 2048000,
      "rowLimit": 10000
     },
     "inputWidgets": {},
     "nuid": "2fe039a9-4a83-4543-955d-22dc33f056a0",
     "showTitle": false,
     "title": ""
    }
   },
   "outputs": [],
   "source": [
    "spark = SparkSession.builder \\\n",
    "    .appName(\"DemandForecastingSES\") \\\n",
    "    .getOrCreate()\n"
   ]
  },
  {
   "cell_type": "code",
   "execution_count": 0,
   "metadata": {
    "application/vnd.databricks.v1+cell": {
     "cellMetadata": {
      "byteLimit": 2048000,
      "rowLimit": 10000
     },
     "inputWidgets": {},
     "nuid": "935c9c8f-6ebb-4929-90f7-e6eb0018897f",
     "showTitle": false,
     "title": ""
    }
   },
   "outputs": [],
   "source": [
    "df = spark.read.csv(\"dbfs:/FileStore/shared_uploads/podurikarthikeya69@gmail.com/df_ses.csv\", header=True, inferSchema=True)\n"
   ]
  },
  {
   "cell_type": "code",
   "execution_count": 0,
   "metadata": {
    "application/vnd.databricks.v1+cell": {
     "cellMetadata": {
      "byteLimit": 2048000,
      "rowLimit": 10000
     },
     "inputWidgets": {},
     "nuid": "7a515a75-323a-47e9-bbba-9647cf7d994e",
     "showTitle": false,
     "title": ""
    }
   },
   "outputs": [],
   "source": [
    "pandas_df = df.toPandas()\n"
   ]
  },
  {
   "cell_type": "code",
   "execution_count": 0,
   "metadata": {
    "application/vnd.databricks.v1+cell": {
     "cellMetadata": {
      "byteLimit": 2048000,
      "rowLimit": 10000
     },
     "inputWidgets": {},
     "nuid": "9710996d-0489-4d39-b59c-df6c5cd9fe5d",
     "showTitle": false,
     "title": ""
    }
   },
   "outputs": [],
   "source": [
    "pandas_df['LastSaleDate'] = pd.to_datetime(pandas_df['LastSaleDate'])  # Convert LastSaleDate to datetime\n",
    "df_ses = pandas_df[['LastSaleDate', 'Sales']].rename(columns={'LastSaleDate': 'ds', 'Sales': 'y'})"
   ]
  },
  {
   "cell_type": "code",
   "execution_count": 0,
   "metadata": {
    "application/vnd.databricks.v1+cell": {
     "cellMetadata": {
      "byteLimit": 2048000,
      "rowLimit": 10000
     },
     "inputWidgets": {},
     "nuid": "ea173468-3207-44a1-8f09-10b4163a8fcb",
     "showTitle": false,
     "title": ""
    }
   },
   "outputs": [
    {
     "output_type": "stream",
     "name": "stdout",
     "output_type": "stream",
     "text": [
      "ds    0\ny     0\ndtype: int64\n"
     ]
    }
   ],
   "source": [
    "print(df_ses.isnull().sum())"
   ]
  },
  {
   "cell_type": "code",
   "execution_count": 0,
   "metadata": {
    "application/vnd.databricks.v1+cell": {
     "cellMetadata": {
      "byteLimit": 2048000,
      "rowLimit": 10000
     },
     "inputWidgets": {},
     "nuid": "1ea79fc6-e04b-4b2f-bfb8-ab38f943bf18",
     "showTitle": false,
     "title": ""
    }
   },
   "outputs": [],
   "source": [
    "train_size = int(len(df_ses) * 0.8)\n",
    "train_df = df_ses[:train_size]\n",
    "test_df = df_ses[train_size:]"
   ]
  },
  {
   "cell_type": "code",
   "execution_count": 0,
   "metadata": {
    "application/vnd.databricks.v1+cell": {
     "cellMetadata": {
      "byteLimit": 2048000,
      "rowLimit": 10000
     },
     "inputWidgets": {},
     "nuid": "1ae40ba7-9677-436f-a323-cc0d95732514",
     "showTitle": false,
     "title": ""
    }
   },
   "outputs": [],
   "source": [
    "ses_model = SimpleExpSmoothing(train_df['y'])\n",
    "ses_fit = ses_model.fit()"
   ]
  },
  {
   "cell_type": "code",
   "execution_count": 0,
   "metadata": {
    "application/vnd.databricks.v1+cell": {
     "cellMetadata": {
      "byteLimit": 2048000,
      "rowLimit": 10000
     },
     "inputWidgets": {},
     "nuid": "8a583410-2a8c-4f22-9c11-4f3ae5eeebd2",
     "showTitle": false,
     "title": ""
    }
   },
   "outputs": [],
   "source": [
    "predictions = ses_fit.forecast(len(test_df))"
   ]
  },
  {
   "cell_type": "code",
   "execution_count": 0,
   "metadata": {
    "application/vnd.databricks.v1+cell": {
     "cellMetadata": {
      "byteLimit": 2048000,
      "rowLimit": 10000
     },
     "inputWidgets": {},
     "nuid": "21a3393f-b763-4e87-a324-9a4e6ad9c592",
     "showTitle": false,
     "title": ""
    }
   },
   "outputs": [
    {
     "output_type": "stream",
     "name": "stdout",
     "output_type": "stream",
     "text": [
      "Mean Absolute Error: 18.29013002615072\n"
     ]
    },
    {
     "output_type": "display_data",
     "data": {
      "image/png": "[encoded data removed]"
     },
     "metadata": {
      "application/vnd.databricks.v1+output": {
       "addedWidgets": {},
       "arguments": {},
       "data": "data:image/png;base64,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\n",
       "datasetInfos": [],
       "metadata": {},
       "removedWidgets": [],
       "type": "image"
      }
     },
     "output_type": "display_data"
    }
   ],
   "source": [
    "predictions_df = pd.DataFrame({'ds': test_df['ds'], 'yhat': predictions})\n",
    "predictions_df['mae'] = abs(test_df['y'] - predictions_df['yhat'])\n",
    "print(f'Mean Absolute Error: {predictions_df[\"mae\"].mean()}')\n",
    "import matplotlib.pyplot as plt\n",
    "\n",
    "plt.figure(figsize=(10, 6))\n",
    "plt.plot(test_df['ds'], test_df['y'], label='Actual Demand', color='blue')\n",
    "plt.plot(predictions_df['ds'], predictions_df['yhat'], label='Predicted Demand', color='orange')\n",
    "plt.legend()\n",
    "plt.xlabel('Date')\n",
    "plt.ylabel('Demand')\n",
    "plt.title('Actual vs. Predicted Demand using SES')\n",
    "plt.show()"
   ]
  },
  {
   "cell_type": "code",
   "execution_count": 0,
   "metadata": {
    "application/vnd.databricks.v1+cell": {
     "cellMetadata": {
      "byteLimit": 2048000,
      "rowLimit": 10000
     },
     "inputWidgets": {},
     "nuid": "1498fed7-0f94-452d-b36f-1f036f1c75a2",
     "showTitle": false,
     "title": ""
    }
   },
   "outputs": [
    {
     "output_type": "stream",
     "name": "stderr",
     "output_type": "stream",
     "text": [
      "2024/10/07 17:47:26 WARNING mlflow.models.model: Model logged without a signature and input example. Please set `input_example` parameter when logging the model to auto infer the model signature.\n"
     ]
    },
    {
     "output_type": "display_data",
     "data": {
      "application/vnd.jupyter.widget-view+json": {
       "model_id": "f17ef0d592164b77b033bb1acf74a180",
       "version_major": 2,
       "version_minor": 0
      },
      "text/plain": [
       "Uploading artifacts:   0%|          | 0/9 [00:00<?, ?it/s]"
      ]
     },
     "metadata": {},
     "output_type": "display_data"
    },
    {
     "output_type": "stream",
     "name": "stderr",
     "output_type": "stream",
     "text": [
      "2024/10/07 17:47:28 INFO mlflow.tracking._tracking_service.client: 🏃 View run merciful-crab-178 at: https://community.cloud.databricks.com/ml/experiments/4498943658609979/runs/57536f0127fc4072b19f00b6af6ee024.\n2024/10/07 17:47:28 INFO mlflow.tracking._tracking_service.client: 🧪 View experiment at: https://community.cloud.databricks.com/ml/experiments/4498943658609979.\n"
     ]
    }
   ],
   "source": [
    "with mlflow.start_run():\n",
    "    mlflow.statsmodels.log_model(ses_fit, \"ses_model\")\n",
    "    mlflow.log_params({\"smoothing_level\": ses_fit.model.params['smoothing_level']})"
   ]
  }
 ],
 "metadata": {
  "application/vnd.databricks.v1+notebook": {
   "dashboards": [],
   "environmentMetadata": null,
   "language": "python",
   "notebookMetadata": {
    "pythonIndentUnit": 4
   },
   "notebookName": "DF SES",
   "widgets": {}
  }
 },
 "nbformat": 4,
 "nbformat_minor": 0
}
