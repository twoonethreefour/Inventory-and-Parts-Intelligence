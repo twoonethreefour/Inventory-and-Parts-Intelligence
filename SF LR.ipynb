{
 "cells": [
  {
   "cell_type": "code",
   "execution_count": 0,
   "metadata": {
    "application/vnd.databricks.v1+cell": {
     "cellMetadata": {
      "byteLimit": 2048000,
      "rowLimit": 10000
     },
     "inputWidgets": {},
     "nuid": "bd8e136d-15ff-4b6b-b8b4-6f2a09b1d470",
     "showTitle": false,
     "title": ""
    }
   },
   "outputs": [
    {
     "output_type": "stream",
     "name": "stdout",
     "output_type": "stream",
     "text": [
      "+--------------+------+------+------+------------+------------+--------------+----------+----------------+----------------+------------------------+----+---------+-----+\n|    HostItemID|  Cost|  List|OnHand|MonthsNoSale|LastSaleDate|PriorYearSales|OnOrderQty|BestReorderPoint|SafetyStockLevel|MonthsWithAtLeastOneSale|Year|    Month|Sales|\n+--------------+------+------+------+------------+------------+--------------+----------+----------------+----------------+------------------------+----+---------+-----+\n|PMP*14680*2541|381.96|873.72|   184|          17|  2021-04-17|           217|        62|              74|              39|                       8|2021|  January|   39|\n|PMP*14680*2541|381.96|873.72|   184|          17|  2021-04-17|           217|        62|              74|              39|                       8|2021| February|   39|\n|PMP*14680*2541|381.96|873.72|   184|          17|  2021-04-17|           217|        62|              74|              39|                       8|2021|    March|   22|\n|PMP*14680*2541|381.96|873.72|   184|          17|  2021-04-17|           217|        62|              74|              39|                       8|2021|    April|   34|\n|PMP*14680*2541|381.96|873.72|   184|          17|  2021-04-17|           217|        62|              74|              39|                       8|2021|      May|    0|\n|PMP*14680*2541|381.96|873.72|   184|          17|  2021-04-17|           217|        62|              74|              39|                       8|2021|     June|   27|\n|PMP*14680*2541|381.96|873.72|   184|          17|  2021-04-17|           217|        62|              74|              39|                       8|2021|     July|   21|\n|PMP*14680*2541|381.96|873.72|   184|          17|  2021-04-17|           217|        62|              74|              39|                       8|2021|   August|   13|\n|PMP*14680*2541|381.96|873.72|   184|          17|  2021-04-17|           217|        62|              74|              39|                       8|2021|September|   30|\n|PMP*14680*2541|381.96|873.72|   184|          17|  2021-04-17|           217|        62|              74|              39|                       8|2021|  October|   47|\n|PMP*14680*2541|381.96|873.72|   184|          17|  2021-04-17|           217|        62|              74|              39|                       8|2021| November|   41|\n|PMP*14680*2541|381.96|873.72|   184|          17|  2021-04-17|           217|        62|              74|              39|                       8|2021| December|   37|\n|PMP*14680*2541|381.96|873.72|   184|          17|  2022-04-17|           217|        62|              74|              39|                       8|2022|  January|   42|\n|PMP*14680*2541|381.96|873.72|   184|          17|  2022-04-17|           217|        62|              74|              39|                       8|2022| February|   40|\n|PMP*14680*2541|381.96|873.72|   184|          17|  2022-04-17|           217|        62|              74|              39|                       8|2022|    March|   35|\n|PMP*14680*2541|381.96|873.72|   184|          17|  2022-04-17|           217|        62|              74|              39|                       8|2022|    April|   45|\n|PMP*14680*2541|381.96|873.72|   184|          17|  2022-04-17|           217|        62|              74|              39|                       8|2022|      May|   30|\n|PMP*14680*2541|381.96|873.72|   184|          17|  2022-04-17|           217|        62|              74|              39|                       8|2022|     June|   12|\n|PMP*14680*2541|381.96|873.72|   184|          17|  2022-04-17|           217|        62|              74|              39|                       8|2022|     July|   15|\n|PMP*14680*2541|381.96|873.72|   184|          17|  2022-04-17|           217|        62|              74|              39|                       8|2022|   August|   25|\n+--------------+------+------+------+------------+------------+--------------+----------+----------------+----------------+------------------------+----+---------+-----+\nonly showing top 20 rows\n\n"
     ]
    }
   ],
   "source": [
    "file_path = \"dbfs:/FileStore/shared_uploads/podurikarthikeya69@gmail.com/sales_data.csv\"  # Update with your file path\n",
    "df = spark.read.csv(file_path, header=True, inferSchema=True)\n",
    "df.show()"
   ]
  },
  {
   "cell_type": "code",
   "execution_count": 0,
   "metadata": {
    "application/vnd.databricks.v1+cell": {
     "cellMetadata": {
      "byteLimit": 2048000,
      "rowLimit": 10000
     },
     "inputWidgets": {},
     "nuid": "b9122393-fc2d-44ad-9075-0f4bb65173be",
     "showTitle": false,
     "title": ""
    }
   },
   "outputs": [
    {
     "output_type": "stream",
     "name": "stdout",
     "output_type": "stream",
     "text": [
      "+--------------+------+------+------+------------+------------+--------------+----------+----------------+----------------+------------------------+----+---------+-----+----------+---------+\n|    HostItemID|  Cost|  List|OnHand|MonthsNoSale|LastSaleDate|PriorYearSales|OnOrderQty|BestReorderPoint|SafetyStockLevel|MonthsWithAtLeastOneSale|Year|    Month|Sales|      Date|Month_Num|\n+--------------+------+------+------+------------+------------+--------------+----------+----------------+----------------+------------------------+----+---------+-----+----------+---------+\n|PMP*14680*2541|381.96|873.72|   184|          17|  2021-04-17|           217|        62|              74|              39|                       8|2021|  January|   39|2021-01-01|        1|\n|PMP*14680*2541|381.96|873.72|   184|          17|  2021-04-17|           217|        62|              74|              39|                       8|2021| February|   39|2021-02-01|        2|\n|PMP*14680*2541|381.96|873.72|   184|          17|  2021-04-17|           217|        62|              74|              39|                       8|2021|    March|   22|2021-03-01|        3|\n|PMP*14680*2541|381.96|873.72|   184|          17|  2021-04-17|           217|        62|              74|              39|                       8|2021|    April|   34|2021-04-01|        4|\n|PMP*14680*2541|381.96|873.72|   184|          17|  2021-04-17|           217|        62|              74|              39|                       8|2021|      May|    0|2021-05-01|        5|\n|PMP*14680*2541|381.96|873.72|   184|          17|  2021-04-17|           217|        62|              74|              39|                       8|2021|     June|   27|2021-06-01|        6|\n|PMP*14680*2541|381.96|873.72|   184|          17|  2021-04-17|           217|        62|              74|              39|                       8|2021|     July|   21|2021-07-01|        7|\n|PMP*14680*2541|381.96|873.72|   184|          17|  2021-04-17|           217|        62|              74|              39|                       8|2021|   August|   13|2021-08-01|        8|\n|PMP*14680*2541|381.96|873.72|   184|          17|  2021-04-17|           217|        62|              74|              39|                       8|2021|September|   30|2021-09-01|        9|\n|PMP*14680*2541|381.96|873.72|   184|          17|  2021-04-17|           217|        62|              74|              39|                       8|2021|  October|   47|2021-10-01|       10|\n|PMP*14680*2541|381.96|873.72|   184|          17|  2021-04-17|           217|        62|              74|              39|                       8|2021| November|   41|2021-11-01|       11|\n|PMP*14680*2541|381.96|873.72|   184|          17|  2021-04-17|           217|        62|              74|              39|                       8|2021| December|   37|2021-12-01|       12|\n|PMP*14680*2541|381.96|873.72|   184|          17|  2022-04-17|           217|        62|              74|              39|                       8|2022|  January|   42|2022-01-01|        1|\n|PMP*14680*2541|381.96|873.72|   184|          17|  2022-04-17|           217|        62|              74|              39|                       8|2022| February|   40|2022-02-01|        2|\n|PMP*14680*2541|381.96|873.72|   184|          17|  2022-04-17|           217|        62|              74|              39|                       8|2022|    March|   35|2022-03-01|        3|\n|PMP*14680*2541|381.96|873.72|   184|          17|  2022-04-17|           217|        62|              74|              39|                       8|2022|    April|   45|2022-04-01|        4|\n|PMP*14680*2541|381.96|873.72|   184|          17|  2022-04-17|           217|        62|              74|              39|                       8|2022|      May|   30|2022-05-01|        5|\n|PMP*14680*2541|381.96|873.72|   184|          17|  2022-04-17|           217|        62|              74|              39|                       8|2022|     June|   12|2022-06-01|        6|\n|PMP*14680*2541|381.96|873.72|   184|          17|  2022-04-17|           217|        62|              74|              39|                       8|2022|     July|   15|2022-07-01|        7|\n|PMP*14680*2541|381.96|873.72|   184|          17|  2022-04-17|           217|        62|              74|              39|                       8|2022|   August|   25|2022-08-01|        8|\n+--------------+------+------+------+------------+------------+--------------+----------+----------------+----------------+------------------------+----+---------+-----+----------+---------+\nonly showing top 20 rows\n\n"
     ]
    }
   ],
   "source": [
    "from pyspark.sql import functions as F\n",
    "month_mapping = {\n",
    "    \"January\": 1,\n",
    "    \"February\": 2,\n",
    "    \"March\": 3,\n",
    "    \"April\": 4,\n",
    "    \"May\": 5,\n",
    "    \"June\": 6,\n",
    "    \"July\": 7,\n",
    "    \"August\": 8,\n",
    "    \"September\": 9,\n",
    "    \"October\": 10,\n",
    "    \"November\": 11,\n",
    "    \"December\": 12\n",
    "}\n",
    "df = df.withColumn('Month_Num', F.when(df['Month'] == 'January', 1)\n",
    "                                 .when(df['Month'] == 'February', 2)\n",
    "                                 .when(df['Month'] == 'March', 3)\n",
    "                                 .when(df['Month'] == 'April', 4)\n",
    "                                 .when(df['Month'] == 'May', 5)\n",
    "                                 .when(df['Month'] == 'June', 6)\n",
    "                                 .when(df['Month'] == 'July', 7)\n",
    "                                 .when(df['Month'] == 'August', 8)\n",
    "                                 .when(df['Month'] == 'September', 9)\n",
    "                                 .when(df['Month'] == 'October', 10)\n",
    "                                 .when(df['Month'] == 'November', 11)\n",
    "                                 .when(df['Month'] == 'December', 12))\n",
    "df = df.withColumn('Date', to_date(concat_ws('-', df['Year'].cast('string'), df['Month_Num'].cast('string'), F.lit('1'))))\n",
    "df.show()"
   ]
  },
  {
   "cell_type": "code",
   "execution_count": 0,
   "metadata": {
    "application/vnd.databricks.v1+cell": {
     "cellMetadata": {
      "byteLimit": 2048000,
      "rowLimit": 10000
     },
     "inputWidgets": {},
     "nuid": "52591159-9a4d-4b8c-b3b6-490c077b6696",
     "showTitle": false,
     "title": ""
    }
   },
   "outputs": [],
   "source": [
    "df = df.drop('Month_Num')"
   ]
  },
  {
   "cell_type": "code",
   "execution_count": 0,
   "metadata": {
    "application/vnd.databricks.v1+cell": {
     "cellMetadata": {
      "byteLimit": 2048000,
      "rowLimit": 10000
     },
     "inputWidgets": {},
     "nuid": "aa5577b0-b8b6-4fe4-892f-3baf3c81f8d0",
     "showTitle": false,
     "title": ""
    }
   },
   "outputs": [
    {
     "output_type": "stream",
     "name": "stdout",
     "output_type": "stream",
     "text": [
      "+----------+----+----+------+------------+------------+--------------+----------+----------------+----------------+------------------------+----+-----+-----+----+\n|HostItemID|Cost|List|OnHand|MonthsNoSale|LastSaleDate|PriorYearSales|OnOrderQty|BestReorderPoint|SafetyStockLevel|MonthsWithAtLeastOneSale|Year|Month|Sales|Date|\n+----------+----+----+------+------------+------------+--------------+----------+----------------+----------------+------------------------+----+-----+-----+----+\n|         0|   0|   0|     0|           0|           0|             0|         0|               0|               0|                       0|   0|    0|    0|   0|\n+----------+----+----+------+------------+------------+--------------+----------+----------------+----------------+------------------------+----+-----+-----+----+\n\n"
     ]
    }
   ],
   "source": [
    "from pyspark.sql import SparkSession\n",
    "from pyspark.sql.functions import col, count, when\n",
    "spark = SparkSession.builder \\\n",
    "    .appName(\"Missing Values Count\") \\\n",
    "    .getOrCreate()\n",
    "\n",
    "missing_values = df.select([count(when(col(c).isNull(), c)).alias(c) for c in df.columns])\n",
    "missing_values.show()"
   ]
  },
  {
   "cell_type": "code",
   "execution_count": 0,
   "metadata": {
    "application/vnd.databricks.v1+cell": {
     "cellMetadata": {
      "byteLimit": 2048000,
      "rowLimit": 10000
     },
     "inputWidgets": {},
     "nuid": "6dd18953-809b-4139-b8a8-d1c7bd790f1c",
     "showTitle": false,
     "title": ""
    }
   },
   "outputs": [
    {
     "output_type": "stream",
     "name": "stdout",
     "output_type": "stream",
     "text": [
      "Out[7]: [('HostItemID', 'string'),\n ('Cost', 'double'),\n ('List', 'double'),\n ('OnHand', 'int'),\n ('MonthsNoSale', 'int'),\n ('LastSaleDate', 'date'),\n ('PriorYearSales', 'int'),\n ('OnOrderQty', 'int'),\n ('BestReorderPoint', 'int'),\n ('SafetyStockLevel', 'int'),\n ('MonthsWithAtLeastOneSale', 'int'),\n ('Year', 'int'),\n ('Month', 'string'),\n ('Sales', 'int'),\n ('Date', 'date')]"
     ]
    }
   ],
   "source": [
    "df.dtypes"
   ]
  },
  {
   "cell_type": "code",
   "execution_count": 0,
   "metadata": {
    "application/vnd.databricks.v1+cell": {
     "cellMetadata": {
      "byteLimit": 2048000,
      "rowLimit": 10000
     },
     "inputWidgets": {},
     "nuid": "c45a9921-bc53-4a92-b4f5-f730c151eb93",
     "showTitle": false,
     "title": ""
    }
   },
   "outputs": [
    {
     "output_type": "stream",
     "name": "stdout",
     "output_type": "stream",
     "text": [
      "+---------+-----------+---------------+\n|Month    |Month_Index|Month_OHE      |\n+---------+-----------+---------------+\n|January  |4.0        |(11,[4],[1.0]) |\n|February |3.0        |(11,[3],[1.0]) |\n|March    |7.0        |(11,[7],[1.0]) |\n|April    |0.0        |(11,[0],[1.0]) |\n|May      |8.0        |(11,[8],[1.0]) |\n|June     |6.0        |(11,[6],[1.0]) |\n|July     |5.0        |(11,[5],[1.0]) |\n|August   |1.0        |(11,[1],[1.0]) |\n|September|11.0       |(11,[],[])     |\n|October  |10.0       |(11,[10],[1.0])|\n|November |9.0        |(11,[9],[1.0]) |\n|December |2.0        |(11,[2],[1.0]) |\n|January  |4.0        |(11,[4],[1.0]) |\n|February |3.0        |(11,[3],[1.0]) |\n|March    |7.0        |(11,[7],[1.0]) |\n|April    |0.0        |(11,[0],[1.0]) |\n|May      |8.0        |(11,[8],[1.0]) |\n|June     |6.0        |(11,[6],[1.0]) |\n|July     |5.0        |(11,[5],[1.0]) |\n|August   |1.0        |(11,[1],[1.0]) |\n+---------+-----------+---------------+\nonly showing top 20 rows\n\n"
     ]
    }
   ],
   "source": [
    "from pyspark.ml.feature import StringIndexer, OneHotEncoder\n",
    "from pyspark.ml import Pipeline\n",
    "indexer = StringIndexer(inputCol=\"Month\", outputCol=\"Month_Index\")\n",
    "encoder = OneHotEncoder(inputCols=[\"Month_Index\"], outputCols=[\"Month_OHE\"])\n",
    "pipeline = Pipeline(stages=[indexer, encoder])\n",
    "model = pipeline.fit(df)\n",
    "df_encoded = model.transform(df)\n",
    "df_encoded.select(\"Month\", \"Month_Index\", \"Month_OHE\").show(truncate=False)"
   ]
  },
  {
   "cell_type": "code",
   "execution_count": 0,
   "metadata": {
    "application/vnd.databricks.v1+cell": {
     "cellMetadata": {
      "byteLimit": 2048000,
      "rowLimit": 10000
     },
     "inputWidgets": {},
     "nuid": "5ba27a6d-b378-4cbe-bbe5-a0526bddf2f4",
     "showTitle": false,
     "title": ""
    }
   },
   "outputs": [
    {
     "output_type": "stream",
     "name": "stdout",
     "output_type": "stream",
     "text": [
      "+--------------------------------------------------------------------------------------------+-----+\n|features                                                                                    |Sales|\n+--------------------------------------------------------------------------------------------+-----+\n|(21,[0,1,2,3,4,5,6,7,8,9,14],[381.96,873.72,184.0,17.0,217.0,62.0,74.0,39.0,8.0,2021.0,1.0])|39   |\n|(21,[0,1,2,3,4,5,6,7,8,9,13],[381.96,873.72,184.0,17.0,217.0,62.0,74.0,39.0,8.0,2021.0,1.0])|39   |\n|(21,[0,1,2,3,4,5,6,7,8,9,17],[381.96,873.72,184.0,17.0,217.0,62.0,74.0,39.0,8.0,2021.0,1.0])|22   |\n|(21,[0,1,2,3,4,5,6,7,8,9,10],[381.96,873.72,184.0,17.0,217.0,62.0,74.0,39.0,8.0,2021.0,1.0])|34   |\n|(21,[0,1,2,3,4,5,6,7,8,9,18],[381.96,873.72,184.0,17.0,217.0,62.0,74.0,39.0,8.0,2021.0,1.0])|0    |\n|(21,[0,1,2,3,4,5,6,7,8,9,16],[381.96,873.72,184.0,17.0,217.0,62.0,74.0,39.0,8.0,2021.0,1.0])|27   |\n|(21,[0,1,2,3,4,5,6,7,8,9,15],[381.96,873.72,184.0,17.0,217.0,62.0,74.0,39.0,8.0,2021.0,1.0])|21   |\n|(21,[0,1,2,3,4,5,6,7,8,9,11],[381.96,873.72,184.0,17.0,217.0,62.0,74.0,39.0,8.0,2021.0,1.0])|13   |\n|(21,[0,1,2,3,4,5,6,7,8,9],[381.96,873.72,184.0,17.0,217.0,62.0,74.0,39.0,8.0,2021.0])       |30   |\n|(21,[0,1,2,3,4,5,6,7,8,9,20],[381.96,873.72,184.0,17.0,217.0,62.0,74.0,39.0,8.0,2021.0,1.0])|47   |\n|(21,[0,1,2,3,4,5,6,7,8,9,19],[381.96,873.72,184.0,17.0,217.0,62.0,74.0,39.0,8.0,2021.0,1.0])|41   |\n|(21,[0,1,2,3,4,5,6,7,8,9,12],[381.96,873.72,184.0,17.0,217.0,62.0,74.0,39.0,8.0,2021.0,1.0])|37   |\n|(21,[0,1,2,3,4,5,6,7,8,9,14],[381.96,873.72,184.0,17.0,217.0,62.0,74.0,39.0,8.0,2022.0,1.0])|42   |\n|(21,[0,1,2,3,4,5,6,7,8,9,13],[381.96,873.72,184.0,17.0,217.0,62.0,74.0,39.0,8.0,2022.0,1.0])|40   |\n|(21,[0,1,2,3,4,5,6,7,8,9,17],[381.96,873.72,184.0,17.0,217.0,62.0,74.0,39.0,8.0,2022.0,1.0])|35   |\n|(21,[0,1,2,3,4,5,6,7,8,9,10],[381.96,873.72,184.0,17.0,217.0,62.0,74.0,39.0,8.0,2022.0,1.0])|45   |\n|(21,[0,1,2,3,4,5,6,7,8,9,18],[381.96,873.72,184.0,17.0,217.0,62.0,74.0,39.0,8.0,2022.0,1.0])|30   |\n|(21,[0,1,2,3,4,5,6,7,8,9,16],[381.96,873.72,184.0,17.0,217.0,62.0,74.0,39.0,8.0,2022.0,1.0])|12   |\n|(21,[0,1,2,3,4,5,6,7,8,9,15],[381.96,873.72,184.0,17.0,217.0,62.0,74.0,39.0,8.0,2022.0,1.0])|15   |\n|(21,[0,1,2,3,4,5,6,7,8,9,11],[381.96,873.72,184.0,17.0,217.0,62.0,74.0,39.0,8.0,2022.0,1.0])|25   |\n+--------------------------------------------------------------------------------------------+-----+\nonly showing top 20 rows\n\n"
     ]
    }
   ],
   "source": [
    "from pyspark.ml.feature import VectorAssembler\n",
    "feature_columns = [\n",
    "    'Cost', 'List', 'OnHand', 'MonthsNoSale', 'PriorYearSales',\n",
    "    'OnOrderQty', 'BestReorderPoint', 'SafetyStockLevel',\n",
    "    'MonthsWithAtLeastOneSale', 'Year', 'Month_OHE'\n",
    "]\n",
    "assembler = VectorAssembler(inputCols=feature_columns, outputCol='features')\n",
    "df_assembled = assembler.transform(df_encoded)\n",
    "df_final = df_assembled.select('features', 'Sales')\n",
    "df_final.show(truncate=False)"
   ]
  },
  {
   "cell_type": "code",
   "execution_count": 0,
   "metadata": {
    "application/vnd.databricks.v1+cell": {
     "cellMetadata": {
      "byteLimit": 2048000,
      "rowLimit": 10000
     },
     "inputWidgets": {},
     "nuid": "a21c10a5-9491-4c71-8110-71248c395cd8",
     "showTitle": false,
     "title": ""
    }
   },
   "outputs": [
    {
     "output_type": "stream",
     "name": "stdout",
     "output_type": "stream",
     "text": [
      "Training set count:  28\nTesting set count:  8\n"
     ]
    }
   ],
   "source": [
    "train_data, test_data = df_final.randomSplit([0.8, 0.2], seed=42)\n",
    "print(\"Training set count: \", train_data.count())\n",
    "print(\"Testing set count: \", test_data.count())"
   ]
  },
  {
   "cell_type": "code",
   "execution_count": 0,
   "metadata": {
    "application/vnd.databricks.v1+cell": {
     "cellMetadata": {
      "byteLimit": 2048000,
      "rowLimit": 10000
     },
     "inputWidgets": {},
     "nuid": "1da46954-f702-4a60-944a-259bc8f3dee6",
     "showTitle": false,
     "title": ""
    }
   },
   "outputs": [
    {
     "output_type": "stream",
     "name": "stdout",
     "output_type": "stream",
     "text": [
      "Coefficients:  [1.968951874402643,0.0,0.0,0.0,0.0,0.0,0.0,0.0,0.0,-0.7812500217777509,13.390625223205566,1.3906250047802762,5.390625028194803,18.39062492029938,15.723958613417043,4.3906252513836845,-4.499999854864352,8.72395844278263,-8.999999748444411,3.7239583209009006,10.999999778577951]\nIntercept:  851.2360609923755\n"
     ]
    }
   ],
   "source": [
    "from pyspark.ml.regression import LinearRegression\n",
    "lr = LinearRegression(featuresCol='features', labelCol='Sales')\n",
    "lr_model = lr.fit(train_data)\n",
    "print(\"Coefficients: \", lr_model.coefficients)\n",
    "print(\"Intercept: \", lr_model.intercept)\n"
   ]
  },
  {
   "cell_type": "code",
   "execution_count": 0,
   "metadata": {
    "application/vnd.databricks.v1+cell": {
     "cellMetadata": {
      "byteLimit": 2048000,
      "rowLimit": 10000
     },
     "inputWidgets": {},
     "nuid": "e1baa6c1-4ccf-4810-b553-217a9b60fbf6",
     "showTitle": false,
     "title": ""
    }
   },
   "outputs": [
    {
     "output_type": "stream",
     "name": "stdout",
     "output_type": "stream",
     "text": [
      "+------------------+-----+--------------------+\n|        prediction|Sales|            features|\n+------------------+-----+--------------------+\n|22.828124882818884|   23|(21,[0,1,2,3,4,5,...|\n| 25.78124993115466|   13|(21,[0,1,2,3,4,5,...|\n|24.218749887599188|   27|(21,[0,1,2,3,4,5,...|\n| 41.99999982489612|   40|(21,[0,1,2,3,4,5,...|\n|28.000000155980388|   15|(21,[0,1,2,3,4,5,...|\n| 18.32812502795457|   31|(21,[0,1,2,3,4,5,...|\n|13.828125134374432|   29|(21,[0,1,2,3,4,5,...|\n| 33.82812466139683|   15|(21,[0,1,2,3,4,5,...|\n+------------------+-----+--------------------+\n\n"
     ]
    }
   ],
   "source": [
    "predictions = lr_model.transform(test_data)\n",
    "predictions.select(\"prediction\", \"Sales\", \"features\").show()"
   ]
  },
  {
   "cell_type": "code",
   "execution_count": 0,
   "metadata": {
    "application/vnd.databricks.v1+cell": {
     "cellMetadata": {
      "byteLimit": 2048000,
      "rowLimit": 10000
     },
     "inputWidgets": {},
     "nuid": "ebd6eb33-afb0-45b9-b61c-d25a861a03f1",
     "showTitle": false,
     "title": ""
    }
   },
   "outputs": [
    {
     "output_type": "stream",
     "name": "stdout",
     "output_type": "stream",
     "text": [
      "Root Mean Squared Error (RMSE): 11.669327995389253\n"
     ]
    }
   ],
   "source": [
    "from pyspark.ml.evaluation import RegressionEvaluator\n",
    "evaluator = RegressionEvaluator(labelCol=\"Sales\", predictionCol=\"prediction\", metricName=\"rmse\")\n",
    "rmse = evaluator.evaluate(predictions)\n",
    "print(\"Root Mean Squared Error (RMSE):\", rmse)"
   ]
  },
  {
   "cell_type": "code",
   "execution_count": 0,
   "metadata": {
    "application/vnd.databricks.v1+cell": {
     "cellMetadata": {
      "byteLimit": 2048000,
      "rowLimit": 10000
     },
     "inputWidgets": {},
     "nuid": "13458f85-7939-4fc3-b449-a95ff51a6f24",
     "showTitle": false,
     "title": ""
    }
   },
   "outputs": [
    {
     "output_type": "display_data",
     "data": {
      "image/png": "[encoded data removed]"
     },
     "metadata": {
      "application/vnd.databricks.v1+output": {
       "addedWidgets": {},
       "arguments": {},
       "data": "data:image/png;base64,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\n",
       "datasetInfos": [],
       "metadata": {},
       "removedWidgets": [],
       "type": "image"
      }
     },
     "output_type": "display_data"
    }
   ],
   "source": [
    "import matplotlib.pyplot as plt\n",
    "predictions_pd = predictions.select(\"Sales\", \"prediction\").toPandas()\n",
    "plt.figure(figsize=(10, 6))\n",
    "plt.scatter(predictions_pd[\"Sales\"], predictions_pd[\"prediction\"], alpha=0.6)\n",
    "plt.plot([predictions_pd[\"Sales\"].min(), predictions_pd[\"Sales\"].max()],\n",
    "         [predictions_pd[\"Sales\"].min(), predictions_pd[\"Sales\"].max()], color='red', lw=2)\n",
    "plt.title('Actual vs. Predicted Sales')\n",
    "plt.xlabel('Actual Sales')\n",
    "plt.ylabel('Predicted Sales')\n",
    "plt.grid()\n",
    "plt.show()"
   ]
  }
 ],
 "metadata": {
  "application/vnd.databricks.v1+notebook": {
   "dashboards": [],
   "environmentMetadata": null,
   "language": "python",
   "notebookMetadata": {
    "pythonIndentUnit": 4
   },
   "notebookName": "SF LR",
   "widgets": {}
  }
 },
 "nbformat": 4,
 "nbformat_minor": 0
}
