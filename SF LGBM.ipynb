{
 "cells": [
  {
   "cell_type": "code",
   "execution_count": 0,
   "metadata": {
    "application/vnd.databricks.v1+cell": {
     "cellMetadata": {
      "byteLimit": 2048000,
      "rowLimit": 10000
     },
     "inputWidgets": {},
     "nuid": "5ab792dc-d7e7-45e7-bf1e-9267cbff3d64",
     "showTitle": false,
     "title": ""
    }
   },
   "outputs": [
    {
     "output_type": "stream",
     "name": "stdout",
     "output_type": "stream",
     "text": [
      "+--------------+------+------+------+------------+------------+--------------+----------+----------------+----------------+------------------------+----+---------+-----+-----+-----------+---------------------+-------------------------+\n|    HostItemID|  Cost|  List|OnHand|MonthsNoSale|LastSaleDate|PriorYearSales|OnOrderQty|BestReorderPoint|SafetyStockLevel|MonthsWithAtLeastOneSale|Year|    Month|Sales|Lag_1|HolidayFlag|InventoryDiff_Reorder|InventoryDiff_SafetyStock|\n+--------------+------+------+------+------------+------------+--------------+----------+----------------+----------------+------------------------+----+---------+-----+-----+-----------+---------------------+-------------------------+\n|PMP*14680*2541|381.96|873.72|   184|          17|  2021-04-17|           217|        62|              74|              39|                       8|2021|  January|   39|  NaN|          0|                  110|                       70|\n|PMP*14680*2541| 385.0|873.72|   184|          17|  2021-04-17|           217|        62|              74|              39|                       8|2021| February|   39| 39.0|          0|                   90|                       50|\n|PMP*14680*2541| 390.5|873.72|   184|          17|  2021-04-17|           217|        62|              74|              39|                       8|2021|    March|   22| 39.0|          0|                   60|                       40|\n|PMP*14680*2541|395.75|873.72|   184|          17|  2021-04-17|           217|        62|              74|              39|                       8|2021|    April|   34| 22.0|          0|                   50|                       30|\n|PMP*14680*2541| 400.0|873.72|   184|          17|  2021-04-17|           217|        62|              74|              39|                       8|2021|      May|    0| 34.0|          1|                   40|                       20|\n|PMP*14680*2541|405.25|873.72|   184|          17|  2021-04-17|           217|        62|              74|              39|                       8|2021|     June|   27|  0.0|          0|                   30|                       15|\n|PMP*14680*2541| 410.5|873.72|   184|          17|  2021-04-17|           217|        62|              74|              39|                       8|2021|     July|   21| 27.0|          0|                   20|                       10|\n|PMP*14680*2541|415.75|873.72|   184|          17|  2021-04-17|           217|        62|              74|              39|                       8|2021|   August|   19| 21.0|          0|                   10|                        8|\n|PMP*14680*2541| 420.0|873.72|   184|          17|  2021-04-17|           217|        62|              74|              39|                       8|2021|September|   30| 19.0|          0|                    5|                        5|\n|PMP*14680*2541| 425.5|873.72|   184|          17|  2021-04-17|           217|        62|              74|              39|                       8|2021|  October|   40| 30.0|          0|                   12|                        9|\n|PMP*14680*2541| 430.0|873.72|   184|          17|  2021-04-17|           217|        62|              74|              39|                       8|2021| November|   50| 40.0|          1|                   20|                       15|\n|PMP*14680*2541|435.25|873.72|   184|          17|  2021-04-17|           217|        62|              74|              39|                       8|2021| December|   60| 50.0|          1|                   30|                       25|\n|PMP*14680*2541| 440.0|873.72|   184|          17|  2022-04-17|           220|        62|              74|              39|                       8|2022|  January|   48| 60.0|          0|                  110|                       70|\n|PMP*14680*2541| 445.5|873.72|   184|          17|  2022-04-17|           220|        62|              74|              39|                       8|2022| February|   40| 48.0|          0|                   90|                       50|\n|PMP*14680*2541| 460.0|873.72|   184|          17|  2022-04-17|           220|        62|              74|              39|                       8|2022|    March|   34| 40.0|          0|                   60|                       40|\n|PMP*14680*2541|465.25|873.72|   184|          17|  2022-04-17|           220|        62|              74|              39|                       8|2022|    April|   29| 34.0|          0|                   50|                       30|\n|PMP*14680*2541| 470.5|873.72|   184|          17|  2022-04-17|           220|        62|              74|              39|                       8|2022|      May|    0| 29.0|          1|                   40|                       20|\n|PMP*14680*2541| 475.0|873.72|   184|          17|  2022-04-17|           220|        62|              74|              39|                       8|2022|     June|   25|  0.0|          0|                   30|                       15|\n|PMP*14680*2541|480.25|873.72|   184|          17|  2022-04-17|           220|        62|              74|              39|                       8|2022|     July|   22| 25.0|          0|                   20|                       10|\n|PMP*14680*2541| 485.5|873.72|   184|          17|  2022-04-17|           220|        62|              74|              39|                       8|2022|   August|   20| 22.0|          0|                   10|                        8|\n+--------------+------+------+------+------------+------------+--------------+----------+----------------+----------------+------------------------+----+---------+-----+-----+-----------+---------------------+-------------------------+\nonly showing top 20 rows\n\n"
     ]
    }
   ],
   "source": [
    "\n",
    "file_path = 'dbfs:/FileStore/shared_uploads/podurikarthikeya69@gmail.com/sf_lgbm.csv'  \n",
    "df = spark.read.csv(file_path, header=True, inferSchema=True)\n",
    "df.show()\n"
   ]
  },
  {
   "cell_type": "code",
   "execution_count": 0,
   "metadata": {
    "application/vnd.databricks.v1+cell": {
     "cellMetadata": {
      "byteLimit": 2048000,
      "rowLimit": 10000
     },
     "inputWidgets": {},
     "nuid": "99044e11-e7c1-407a-b12a-e96e216f1e37",
     "showTitle": false,
     "title": ""
    }
   },
   "outputs": [
    {
     "output_type": "stream",
     "name": "stdout",
     "output_type": "stream",
     "text": [
      "+--------------+------+------+------+------------+------------+--------------+----------+----------------+----------------+------------------------+----+---------+-----+-----+-----------+---------------------+-------------------------+---------+\n|    HostItemID|  Cost|  List|OnHand|MonthsNoSale|LastSaleDate|PriorYearSales|OnOrderQty|BestReorderPoint|SafetyStockLevel|MonthsWithAtLeastOneSale|Year|    Month|Sales|Lag_1|HolidayFlag|InventoryDiff_Reorder|InventoryDiff_SafetyStock|Month_Num|\n+--------------+------+------+------+------------+------------+--------------+----------+----------------+----------------+------------------------+----+---------+-----+-----+-----------+---------------------+-------------------------+---------+\n|PMP*14680*2541|381.96|873.72|   184|          17|  2021-04-17|           217|        62|              74|              39|                       8|2021|  January|   39|  0.0|          0|                  110|                       70|        1|\n|PMP*14680*2541| 385.0|873.72|   184|          17|  2021-04-17|           217|        62|              74|              39|                       8|2021| February|   39| 39.0|          0|                   90|                       50|        2|\n|PMP*14680*2541| 390.5|873.72|   184|          17|  2021-04-17|           217|        62|              74|              39|                       8|2021|    March|   22| 39.0|          0|                   60|                       40|        3|\n|PMP*14680*2541|395.75|873.72|   184|          17|  2021-04-17|           217|        62|              74|              39|                       8|2021|    April|   34| 22.0|          0|                   50|                       30|        4|\n|PMP*14680*2541| 400.0|873.72|   184|          17|  2021-04-17|           217|        62|              74|              39|                       8|2021|      May|    0| 34.0|          1|                   40|                       20|        5|\n|PMP*14680*2541|405.25|873.72|   184|          17|  2021-04-17|           217|        62|              74|              39|                       8|2021|     June|   27|  0.0|          0|                   30|                       15|        6|\n|PMP*14680*2541| 410.5|873.72|   184|          17|  2021-04-17|           217|        62|              74|              39|                       8|2021|     July|   21| 27.0|          0|                   20|                       10|        7|\n|PMP*14680*2541|415.75|873.72|   184|          17|  2021-04-17|           217|        62|              74|              39|                       8|2021|   August|   19| 21.0|          0|                   10|                        8|        8|\n|PMP*14680*2541| 420.0|873.72|   184|          17|  2021-04-17|           217|        62|              74|              39|                       8|2021|September|   30| 19.0|          0|                    5|                        5|        9|\n|PMP*14680*2541| 425.5|873.72|   184|          17|  2021-04-17|           217|        62|              74|              39|                       8|2021|  October|   40| 30.0|          0|                   12|                        9|       10|\n|PMP*14680*2541| 430.0|873.72|   184|          17|  2021-04-17|           217|        62|              74|              39|                       8|2021| November|   50| 40.0|          1|                   20|                       15|       11|\n|PMP*14680*2541|435.25|873.72|   184|          17|  2021-04-17|           217|        62|              74|              39|                       8|2021| December|   60| 50.0|          1|                   30|                       25|       12|\n|PMP*14680*2541| 440.0|873.72|   184|          17|  2022-04-17|           220|        62|              74|              39|                       8|2022|  January|   48| 60.0|          0|                  110|                       70|        1|\n|PMP*14680*2541| 445.5|873.72|   184|          17|  2022-04-17|           220|        62|              74|              39|                       8|2022| February|   40| 48.0|          0|                   90|                       50|        2|\n|PMP*14680*2541| 460.0|873.72|   184|          17|  2022-04-17|           220|        62|              74|              39|                       8|2022|    March|   34| 40.0|          0|                   60|                       40|        3|\n|PMP*14680*2541|465.25|873.72|   184|          17|  2022-04-17|           220|        62|              74|              39|                       8|2022|    April|   29| 34.0|          0|                   50|                       30|        4|\n|PMP*14680*2541| 470.5|873.72|   184|          17|  2022-04-17|           220|        62|              74|              39|                       8|2022|      May|    0| 29.0|          1|                   40|                       20|        5|\n|PMP*14680*2541| 475.0|873.72|   184|          17|  2022-04-17|           220|        62|              74|              39|                       8|2022|     June|   25|  0.0|          0|                   30|                       15|        6|\n|PMP*14680*2541|480.25|873.72|   184|          17|  2022-04-17|           220|        62|              74|              39|                       8|2022|     July|   22| 25.0|          0|                   20|                       10|        7|\n|PMP*14680*2541| 485.5|873.72|   184|          17|  2022-04-17|           220|        62|              74|              39|                       8|2022|   August|   20| 22.0|          0|                   10|                        8|        8|\n+--------------+------+------+------+------------+------------+--------------+----------+----------------+----------------+------------------------+----+---------+-----+-----+-----------+---------------------+-------------------------+---------+\nonly showing top 20 rows\n\n"
     ]
    }
   ],
   "source": [
    "from pyspark.sql.functions import col, isnan, when\n",
    "df = df.withColumn('LastSaleDate', col('LastSaleDate').cast('date'))\n",
    "df = df.na.fill({'Sales': 0})\n",
    "df = df.fillna(0)\n",
    "df = df.withColumn('Month_Num', when(col('Month') == 'January', 1)\n",
    "                          .when(col('Month') == 'February', 2)\n",
    "                          .when(col('Month') == 'March', 3)\n",
    "                          .when(col('Month') == 'April', 4)\n",
    "                          .when(col('Month') == 'May', 5)\n",
    "                          .when(col('Month') == 'June', 6)\n",
    "                          .when(col('Month') == 'July', 7)\n",
    "                          .when(col('Month') == 'August', 8)\n",
    "                          .when(col('Month') == 'September', 9)\n",
    "                          .when(col('Month') == 'October', 10)\n",
    "                          .when(col('Month') == 'November', 11)\n",
    "                          .when(col('Month') == 'December', 12))\n",
    "\n",
    "df.show()"
   ]
  },
  {
   "cell_type": "code",
   "execution_count": 0,
   "metadata": {
    "application/vnd.databricks.v1+cell": {
     "cellMetadata": {
      "byteLimit": 2048000,
      "rowLimit": 10000
     },
     "inputWidgets": {},
     "nuid": "1de7e0e1-d0f6-426a-a1ec-0dcfcbdcd23f",
     "showTitle": false,
     "title": ""
    }
   },
   "outputs": [
    {
     "output_type": "stream",
     "name": "stdout",
     "output_type": "stream",
     "text": [
      "+------+------+------+------------+--------------+----------+----------------+----------------+------------------------+----+-----+-----------+---------------------+-------------------------+---------+\n|  Cost|  List|OnHand|MonthsNoSale|PriorYearSales|OnOrderQty|BestReorderPoint|SafetyStockLevel|MonthsWithAtLeastOneSale|Year|Lag_1|HolidayFlag|InventoryDiff_Reorder|InventoryDiff_SafetyStock|Month_Num|\n+------+------+------+------------+--------------+----------+----------------+----------------+------------------------+----+-----+-----------+---------------------+-------------------------+---------+\n|381.96|873.72|   184|          17|           217|        62|              74|              39|                       8|2021|  0.0|          0|                  110|                       70|        1|\n| 385.0|873.72|   184|          17|           217|        62|              74|              39|                       8|2021| 39.0|          0|                   90|                       50|        2|\n| 390.5|873.72|   184|          17|           217|        62|              74|              39|                       8|2021| 39.0|          0|                   60|                       40|        3|\n|395.75|873.72|   184|          17|           217|        62|              74|              39|                       8|2021| 22.0|          0|                   50|                       30|        4|\n| 400.0|873.72|   184|          17|           217|        62|              74|              39|                       8|2021| 34.0|          1|                   40|                       20|        5|\n|405.25|873.72|   184|          17|           217|        62|              74|              39|                       8|2021|  0.0|          0|                   30|                       15|        6|\n| 410.5|873.72|   184|          17|           217|        62|              74|              39|                       8|2021| 27.0|          0|                   20|                       10|        7|\n|415.75|873.72|   184|          17|           217|        62|              74|              39|                       8|2021| 21.0|          0|                   10|                        8|        8|\n| 420.0|873.72|   184|          17|           217|        62|              74|              39|                       8|2021| 19.0|          0|                    5|                        5|        9|\n| 425.5|873.72|   184|          17|           217|        62|              74|              39|                       8|2021| 30.0|          0|                   12|                        9|       10|\n| 430.0|873.72|   184|          17|           217|        62|              74|              39|                       8|2021| 40.0|          1|                   20|                       15|       11|\n|435.25|873.72|   184|          17|           217|        62|              74|              39|                       8|2021| 50.0|          1|                   30|                       25|       12|\n| 440.0|873.72|   184|          17|           220|        62|              74|              39|                       8|2022| 60.0|          0|                  110|                       70|        1|\n| 445.5|873.72|   184|          17|           220|        62|              74|              39|                       8|2022| 48.0|          0|                   90|                       50|        2|\n| 460.0|873.72|   184|          17|           220|        62|              74|              39|                       8|2022| 40.0|          0|                   60|                       40|        3|\n|465.25|873.72|   184|          17|           220|        62|              74|              39|                       8|2022| 34.0|          0|                   50|                       30|        4|\n| 470.5|873.72|   184|          17|           220|        62|              74|              39|                       8|2022| 29.0|          1|                   40|                       20|        5|\n| 475.0|873.72|   184|          17|           220|        62|              74|              39|                       8|2022|  0.0|          0|                   30|                       15|        6|\n|480.25|873.72|   184|          17|           220|        62|              74|              39|                       8|2022| 25.0|          0|                   20|                       10|        7|\n| 485.5|873.72|   184|          17|           220|        62|              74|              39|                       8|2022| 22.0|          0|                   10|                        8|        8|\n+------+------+------+------------+--------------+----------+----------------+----------------+------------------------+----+-----+-----------+---------------------+-------------------------+---------+\nonly showing top 20 rows\n\n"
     ]
    }
   ],
   "source": [
    "from pyspark.sql import functions as F\n",
    "df = df.drop('HostItemID', 'LastSaleDate', 'Month')\n",
    "feature_columns = [col for col in df.columns if col != 'Sales']\n",
    "target_column = 'Sales'\n",
    "\n",
    "df.select(feature_columns).show()"
   ]
  },
  {
   "cell_type": "code",
   "execution_count": 0,
   "metadata": {
    "application/vnd.databricks.v1+cell": {
     "cellMetadata": {
      "byteLimit": 2048000,
      "rowLimit": 10000
     },
     "inputWidgets": {},
     "nuid": "ca74d168-e8d9-4108-a922-235f3952bae7",
     "showTitle": false,
     "title": ""
    }
   },
   "outputs": [
    {
     "output_type": "stream",
     "name": "stdout",
     "output_type": "stream",
     "text": [
      "Training data count:  22\nTest data count:  6\n"
     ]
    }
   ],
   "source": [
    "train_df, test_df = df.randomSplit([0.8, 0.2], seed=123)\n",
    "\n",
    "print(\"Training data count: \", train_df.count())\n",
    "print(\"Test data count: \", test_df.count())"
   ]
  },
  {
   "cell_type": "code",
   "execution_count": 0,
   "metadata": {
    "application/vnd.databricks.v1+cell": {
     "cellMetadata": {
      "byteLimit": 2048000,
      "rowLimit": 10000
     },
     "inputWidgets": {},
     "nuid": "0a0ba31a-b1ea-4c45-8ed9-c3a325fa1881",
     "showTitle": false,
     "title": ""
    }
   },
   "outputs": [
    {
     "output_type": "stream",
     "name": "stdout",
     "output_type": "stream",
     "text": [
      "+-----+------------------+\n|Sales|        prediction|\n+-----+------------------+\n|   22| 35.09858808838739|\n|   21| 27.23841913263138|\n|   48|33.999852146205875|\n|   40| 33.99982288878686|\n|   22|28.103160314073488|\n+-----+------------------+\nonly showing top 5 rows\n\n"
     ]
    }
   ],
   "source": [
    "from pyspark.ml.regression import GBTRegressor\n",
    "from pyspark.ml.feature import VectorAssembler\n",
    "from pyspark.ml import Pipeline\n",
    "assembler = VectorAssembler(\n",
    "    inputCols=['Cost', 'List', 'OnHand', 'MonthsNoSale', 'PriorYearSales', 'OnOrderQty', \n",
    "               'BestReorderPoint', 'SafetyStockLevel', 'MonthsWithAtLeastOneSale', \n",
    "               'Lag_1', 'HolidayFlag', 'InventoryDiff_Reorder', 'InventoryDiff_SafetyStock'], \n",
    "    outputCol='features'\n",
    ")\n",
    "gbt = GBTRegressor(\n",
    "    featuresCol='features',  \n",
    "    labelCol='Sales',        \n",
    "    maxIter=100,             \n",
    "    maxDepth=5\n",
    ")\n",
    "pipeline = Pipeline(stages=[assembler, gbt])\n",
    "gbt_model = pipeline.fit(train_df)\n",
    "predictions = gbt_model.transform(test_df)\n",
    "predictions.select('Sales', 'prediction').show(5)"
   ]
  },
  {
   "cell_type": "code",
   "execution_count": 0,
   "metadata": {
    "application/vnd.databricks.v1+cell": {
     "cellMetadata": {
      "byteLimit": 2048000,
      "rowLimit": 10000
     },
     "inputWidgets": {},
     "nuid": "78a0ab6a-fc1d-463f-9c33-7b2b45ef3bc4",
     "showTitle": false,
     "title": ""
    }
   },
   "outputs": [
    {
     "output_type": "stream",
     "name": "stdout",
     "output_type": "stream",
     "text": [
      "Root Mean Squared Error (RMSE): 9.830015742254334\nMean Absolute Error (MAE): 9.240328254010583\nR-squared: 0.10436366072429226\n"
     ]
    }
   ],
   "source": [
    "from pyspark.ml.evaluation import RegressionEvaluator\n",
    "evaluator = RegressionEvaluator(\n",
    "    labelCol='Sales', \n",
    "    predictionCol='prediction', \n",
    "    metricName='rmse'  \n",
    "rmse = evaluator.evaluate(predictions)\n",
    "print(f\"Root Mean Squared Error (RMSE): {rmse}\")\n",
    "evaluator.setMetricName(\"mae\")\n",
    "mae = evaluator.evaluate(predictions)\n",
    "print(f\"Mean Absolute Error (MAE): {mae}\")\n",
    "evaluator.setMetricName(\"r2\")\n",
    "r2 = evaluator.evaluate(predictions)\n",
    "print(f\"R-squared: {r2}\")"
   ]
  },
  {
   "cell_type": "code",
   "execution_count": 0,
   "metadata": {
    "application/vnd.databricks.v1+cell": {
     "cellMetadata": {
      "byteLimit": 2048000,
      "rowLimit": 10000
     },
     "inputWidgets": {},
     "nuid": "62923092-a44d-44b0-8664-8417a53d9638",
     "showTitle": false,
     "title": ""
    }
   },
   "outputs": [
    {
     "output_type": "stream",
     "name": "stdout",
     "output_type": "stream",
     "text": [
      "Python interpreter will be restarted.\nCollecting mlflow\n  Downloading mlflow-2.16.2-py3-none-any.whl (26.7 MB)\nCollecting sqlalchemy<3,>=1.4.0\n  Downloading SQLAlchemy-2.0.35-cp39-cp39-manylinux_2_17_x86_64.manylinux2014_x86_64.whl (3.1 MB)\nRequirement already satisfied: pyarrow<18,>=4.0.0 in /databricks/python3/lib/python3.9/site-packages (from mlflow) (7.0.0)\nCollecting graphene<4\n  Downloading graphene-3.3-py2.py3-none-any.whl (128 kB)\nRequirement already satisfied: scipy<2 in /databricks/python3/lib/python3.9/site-packages (from mlflow) (1.7.3)\nCollecting docker<8,>=4.0.0\n  Downloading docker-7.1.0-py3-none-any.whl (147 kB)\nRequirement already satisfied: numpy<3 in /databricks/python3/lib/python3.9/site-packages (from mlflow) (1.21.5)\nCollecting Flask<4\n  Downloading flask-3.0.3-py3-none-any.whl (101 kB)\nRequirement already satisfied: scikit-learn<2 in /databricks/python3/lib/python3.9/site-packages (from mlflow) (1.0.2)\nCollecting gunicorn<24\n  Downloading gunicorn-23.0.0-py3-none-any.whl (85 kB)\nCollecting markdown<4,>=3.3\n  Downloading Markdown-3.7-py3-none-any.whl (106 kB)\nRequirement already satisfied: pandas<3 in /databricks/python3/lib/python3.9/site-packages (from mlflow) (1.4.2)\nCollecting alembic!=1.10.0,<2\n  Downloading alembic-1.13.3-py3-none-any.whl (233 kB)\nCollecting mlflow-skinny==2.16.2\n  Downloading mlflow_skinny-2.16.2-py3-none-any.whl (5.6 MB)\nRequirement already satisfied: matplotlib<4 in /databricks/python3/lib/python3.9/site-packages (from mlflow) (3.5.1)\nRequirement already satisfied: Jinja2<4,>=2.11 in /databricks/python3/lib/python3.9/site-packages (from mlflow) (2.11.3)\nCollecting sqlparse<1,>=0.4.0\n  Downloading sqlparse-0.5.1-py3-none-any.whl (44 kB)\nRequirement already satisfied: requests<3,>=2.17.3 in /databricks/python3/lib/python3.9/site-packages (from mlflow-skinny==2.16.2->mlflow) (2.27.1)\nCollecting opentelemetry-api<3,>=1.9.0\n  Downloading opentelemetry_api-1.27.0-py3-none-any.whl (63 kB)\nRequirement already satisfied: click<9,>=7.0 in /databricks/python3/lib/python3.9/site-packages (from mlflow-skinny==2.16.2->mlflow) (8.0.4)\nCollecting opentelemetry-sdk<3,>=1.9.0\n  Downloading opentelemetry_sdk-1.27.0-py3-none-any.whl (110 kB)\nRequirement already satisfied: protobuf<6,>=3.12.0 in /databricks/python3/lib/python3.9/site-packages (from mlflow-skinny==2.16.2->mlflow) (3.19.4)\nCollecting cloudpickle<4\n  Downloading cloudpickle-3.0.0-py3-none-any.whl (20 kB)\nCollecting importlib-metadata!=4.7.0,<9,>=3.7.0\n  Downloading importlib_metadata-8.5.0-py3-none-any.whl (26 kB)\nCollecting pyyaml<7,>=5.1\n  Downloading PyYAML-6.0.2-cp39-cp39-manylinux_2_17_x86_64.manylinux2014_x86_64.whl (737 kB)\nCollecting gitpython<4,>=3.1.9\n  Downloading GitPython-3.1.43-py3-none-any.whl (207 kB)\nCollecting cachetools<6,>=5.0.0\n  Downloading cachetools-5.5.0-py3-none-any.whl (9.5 kB)\nRequirement already satisfied: packaging<25 in /databricks/python3/lib/python3.9/site-packages (from mlflow-skinny==2.16.2->mlflow) (21.3)\nCollecting databricks-sdk<1,>=0.20.0\n  Downloading databricks_sdk-0.33.0-py3-none-any.whl (562 kB)\nRequirement already satisfied: typing-extensions>=4 in /databricks/python3/lib/python3.9/site-packages (from alembic!=1.10.0,<2->mlflow) (4.1.1)\nCollecting Mako\n  Downloading Mako-1.3.5-py3-none-any.whl (78 kB)\nCollecting google-auth~=2.0\n  Downloading google_auth-2.35.0-py2.py3-none-any.whl (208 kB)\nCollecting requests<3,>=2.17.3\n  Downloading requests-2.32.3-py3-none-any.whl (64 kB)\nRequirement already satisfied: urllib3>=1.26.0 in /databricks/python3/lib/python3.9/site-packages (from docker<8,>=4.0.0->mlflow) (1.26.9)\nCollecting blinker>=1.6.2\n  Downloading blinker-1.8.2-py3-none-any.whl (9.5 kB)\nCollecting Jinja2<4,>=2.11\n  Downloading jinja2-3.1.4-py3-none-any.whl (133 kB)\nCollecting Werkzeug>=3.0.0\n  Downloading werkzeug-3.0.4-py3-none-any.whl (227 kB)\nCollecting itsdangerous>=2.1.2\n  Downloading itsdangerous-2.2.0-py3-none-any.whl (16 kB)\nCollecting click<9,>=7.0\n  Downloading click-8.1.7-py3-none-any.whl (97 kB)\nCollecting gitdb<5,>=4.0.1\n  Downloading gitdb-4.0.11-py3-none-any.whl (62 kB)\nCollecting smmap<6,>=3.0.1\n  Downloading smmap-5.0.1-py3-none-any.whl (24 kB)\nCollecting rsa<5,>=3.1.4\n  Downloading rsa-4.9-py3-none-any.whl (34 kB)\nCollecting pyasn1-modules>=0.2.1\n  Downloading pyasn1_modules-0.4.1-py3-none-any.whl (181 kB)\nCollecting graphql-core<3.3,>=3.1\n  Downloading graphql_core-3.2.4-py3-none-any.whl (203 kB)\nCollecting graphql-relay<3.3,>=3.1\n  Downloading graphql_relay-3.2.0-py3-none-any.whl (16 kB)\nCollecting aniso8601<10,>=8\n  Downloading aniso8601-9.0.1-py2.py3-none-any.whl (52 kB)\nCollecting zipp>=3.20\n  Downloading zipp-3.20.2-py3-none-any.whl (9.2 kB)\nRequirement already satisfied: MarkupSafe>=2.0 in /databricks/python3/lib/python3.9/site-packages (from Jinja2<4,>=2.11->mlflow) (2.0.1)\nRequirement already satisfied: pyparsing>=2.2.1 in /databricks/python3/lib/python3.9/site-packages (from matplotlib<4->mlflow) (3.0.4)\nRequirement already satisfied: cycler>=0.10 in /databricks/python3/lib/python3.9/site-packages (from matplotlib<4->mlflow) (0.11.0)\nRequirement already satisfied: kiwisolver>=1.0.1 in /databricks/python3/lib/python3.9/site-packages (from matplotlib<4->mlflow) (1.3.2)\nRequirement already satisfied: pillow>=6.2.0 in /databricks/python3/lib/python3.9/site-packages (from matplotlib<4->mlflow) (9.0.1)\nRequirement already satisfied: python-dateutil>=2.7 in /databricks/python3/lib/python3.9/site-packages (from matplotlib<4->mlflow) (2.8.2)\nRequirement already satisfied: fonttools>=4.22.0 in /databricks/python3/lib/python3.9/site-packages (from matplotlib<4->mlflow) (4.25.0)\nCollecting deprecated>=1.2.6\n  Downloading Deprecated-1.2.14-py2.py3-none-any.whl (9.6 kB)\nCollecting importlib-metadata!=4.7.0,<9,>=3.7.0\n  Downloading importlib_metadata-8.4.0-py3-none-any.whl (26 kB)\nCollecting wrapt<2,>=1.10\n  Downloading wrapt-1.16.0-cp39-cp39-manylinux_2_5_x86_64.manylinux1_x86_64.manylinux_2_17_x86_64.manylinux2014_x86_64.whl (80 kB)\nCollecting opentelemetry-semantic-conventions==0.48b0\n  Downloading opentelemetry_semantic_conventions-0.48b0-py3-none-any.whl (149 kB)\nRequirement already satisfied: pytz>=2020.1 in /databricks/python3/lib/python3.9/site-packages (from pandas<3->mlflow) (2021.3)\nCollecting pyasn1<0.7.0,>=0.4.6\n  Downloading pyasn1-0.6.1-py3-none-any.whl (83 kB)\nRequirement already satisfied: six>=1.5 in /databricks/python3/lib/python3.9/site-packages (from python-dateutil>=2.7->matplotlib<4->mlflow) (1.16.0)\nRequirement already satisfied: certifi>=2017.4.17 in /databricks/python3/lib/python3.9/site-packages (from requests<3,>=2.17.3->mlflow-skinny==2.16.2->mlflow) (2021.10.8)\nRequirement already satisfied: idna<4,>=2.5 in /databricks/python3/lib/python3.9/site-packages (from requests<3,>=2.17.3->mlflow-skinny==2.16.2->mlflow) (3.3)\nRequirement already satisfied: charset-normalizer<4,>=2 in /databricks/python3/lib/python3.9/site-packages (from requests<3,>=2.17.3->mlflow-skinny==2.16.2->mlflow) (2.0.4)\nRequirement already satisfied: joblib>=0.11 in /databricks/python3/lib/python3.9/site-packages (from scikit-learn<2->mlflow) (1.1.1)\nRequirement already satisfied: threadpoolctl>=2.0.0 in /databricks/python3/lib/python3.9/site-packages (from scikit-learn<2->mlflow) (2.2.0)\nCollecting typing-extensions>=4\n  Downloading typing_extensions-4.12.2-py3-none-any.whl (37 kB)\nCollecting greenlet!=0.4.17\n  Downloading greenlet-3.1.1-cp39-cp39-manylinux_2_24_x86_64.manylinux_2_28_x86_64.whl (597 kB)\nCollecting MarkupSafe>=2.0\n  Downloading MarkupSafe-2.1.5-cp39-cp39-manylinux_2_17_x86_64.manylinux2014_x86_64.whl (25 kB)\nInstalling collected packages: zipp, wrapt, pyasn1, importlib-metadata, deprecated, smmap, rsa, pyasn1-modules, opentelemetry-api, cachetools, typing-extensions, requests, opentelemetry-semantic-conventions, MarkupSafe, greenlet, graphql-core, google-auth, gitdb, Werkzeug, sqlparse, sqlalchemy, pyyaml, opentelemetry-sdk, Mako, Jinja2, itsdangerous, graphql-relay, gitpython, databricks-sdk, cloudpickle, click, blinker, aniso8601, mlflow-skinny, markdown, gunicorn, graphene, Flask, docker, alembic, mlflow\n  Attempting uninstall: typing-extensions\n    Found existing installation: typing-extensions 4.1.1\n    Not uninstalling typing-extensions at /databricks/python3/lib/python3.9/site-packages, outside environment /local_disk0/.ephemeral_nfs/envs/pythonEnv-3855a349-b48a-4918-971e-66b62401b676\n    Can't uninstall 'typing-extensions'. No files were found to uninstall.\n  Attempting uninstall: requests\n    Found existing installation: requests 2.27.1\n    Not uninstalling requests at /databricks/python3/lib/python3.9/site-packages, outside environment /local_disk0/.ephemeral_nfs/envs/pythonEnv-3855a349-b48a-4918-971e-66b62401b676\n    Can't uninstall 'requests'. No files were found to uninstall.\n  Attempting uninstall: MarkupSafe\n    Found existing installation: MarkupSafe 2.0.1\n    Not uninstalling markupsafe at /databricks/python3/lib/python3.9/site-packages, outside environment /local_disk0/.ephemeral_nfs/envs/pythonEnv-3855a349-b48a-4918-971e-66b62401b676\n    Can't uninstall 'MarkupSafe'. No files were found to uninstall.\n  Attempting uninstall: Jinja2\n    Found existing installation: Jinja2 2.11.3\n    Not uninstalling jinja2 at /databricks/python3/lib/python3.9/site-packages, outside environment /local_disk0/.ephemeral_nfs/envs/pythonEnv-3855a349-b48a-4918-971e-66b62401b676\n    Can't uninstall 'Jinja2'. No files were found to uninstall.\n  Attempting uninstall: click\n    Found existing installation: click 8.0.4\n    Not uninstalling click at /databricks/python3/lib/python3.9/site-packages, outside environment /local_disk0/.ephemeral_nfs/envs/pythonEnv-3855a349-b48a-4918-971e-66b62401b676\n    Can't uninstall 'click'. No files were found to uninstall.\nSuccessfully installed Flask-3.0.3 Jinja2-3.1.4 Mako-1.3.5 MarkupSafe-2.1.5 Werkzeug-3.0.4 alembic-1.13.3 aniso8601-9.0.1 blinker-1.8.2 cachetools-5.5.0 click-8.1.7 cloudpickle-3.0.0 databricks-sdk-0.33.0 deprecated-1.2.14 docker-7.1.0 gitdb-4.0.11 gitpython-3.1.43 google-auth-2.35.0 graphene-3.3 graphql-core-3.2.4 graphql-relay-3.2.0 greenlet-3.1.1 gunicorn-23.0.0 importlib-metadata-8.4.0 itsdangerous-2.2.0 markdown-3.7 mlflow-2.16.2 mlflow-skinny-2.16.2 opentelemetry-api-1.27.0 opentelemetry-sdk-1.27.0 opentelemetry-semantic-conventions-0.48b0 pyasn1-0.6.1 pyasn1-modules-0.4.1 pyyaml-6.0.2 requests-2.32.3 rsa-4.9 smmap-5.0.1 sqlalchemy-2.0.35 sqlparse-0.5.1 typing-extensions-4.12.2 wrapt-1.16.0 zipp-3.20.2\nPython interpreter will be restarted.\n"
     ]
    },
    {
     "output_type": "stream",
     "name": "stderr",
     "output_type": "stream",
     "text": [
      "2024/10/07 15:14:22 INFO mlflow.spark: Inferring pip requirements by reloading the logged model from the databricks artifact repository, which can be time-consuming. To speed up, explicitly specify the conda_env or pip_requirements when calling log_model().\n2024/10/07 15:14:52 WARNING mlflow.utils.environment: Encountered an unexpected error while inferring pip requirements (model URI: dbfs:/databricks/mlflow-tracking/2817418682773692/76bb3138f61742e28b35c112f3b3de8a/artifacts/GBTRegressorModel/sparkml, flavor: spark). Fall back to return ['pyspark==3.3.2', 'pandas<2']. Set logging level to DEBUG to see the full traceback. \n2024/10/07 15:14:53 INFO mlflow.tracking._tracking_service.client: 🏃 View run indecisive-owl-62 at: https://community.cloud.databricks.com/ml/experiments/2817418682773692/runs/76bb3138f61742e28b35c112f3b3de8a.\n2024/10/07 15:14:53 INFO mlflow.tracking._tracking_service.client: 🧪 View experiment at: https://community.cloud.databricks.com/ml/experiments/2817418682773692.\n"
     ]
    },
    {
     "output_type": "stream",
     "name": "stdout",
     "output_type": "stream",
     "text": [
      "Run ID: 76bb3138f61742e28b35c112f3b3de8a\n"
     ]
    }
   ],
   "source": [
    "%pip install mlflow\n",
    "import mlflow\n",
    "import mlflow.spark\n",
    "with mlflow.start_run() as run:\n",
    "    mlflow.log_param(\"maxIter\", 100)\n",
    "    mlflow.log_param(\"maxDepth\", 5)\n",
    "\n",
    "    mlflow.log_metric(\"rmse\", rmse)  \n",
    "    mlflow.log_metric(\"mae\", mae)\n",
    "    mlflow.log_metric(\"r2\", r2)\n",
    "\n",
    "    mlflow.spark.log_model(gbt_model, \"GBTRegressorModel\")\n",
    "print(f\"Run ID: {run.info.run_id}\")"
   ]
  }
 ],
 "metadata": {
  "application/vnd.databricks.v1+notebook": {
   "dashboards": [],
   "environmentMetadata": null,
   "language": "python",
   "notebookMetadata": {
    "pythonIndentUnit": 4
   },
   "notebookName": "SF LGBM",
   "widgets": {}
  }
 },
 "nbformat": 4,
 "nbformat_minor": 0
}
